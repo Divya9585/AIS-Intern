{
 "cells": [
  {
   "cell_type": "markdown",
   "id": "2c5233c3",
   "metadata": {},
   "source": [
    "# For loop"
   ]
  },
  {
   "cell_type": "markdown",
   "id": "99301d9d",
   "metadata": {},
   "source": [
    "The for loop in Python is a powerful tool used to iterate over a sequence of elements. \n",
    "\n",
    "It allows you to execute a block of code for each element in the sequence.\n",
    "\n",
    "\n",
    "\n",
    "\n",
    "\n"
   ]
  },
  {
   "cell_type": "markdown",
   "id": "6d01dfd6",
   "metadata": {},
   "source": [
    "for variable in sequence:\n",
    "\n",
    "    # Code block to be executed"
   ]
  },
  {
   "cell_type": "code",
   "execution_count": 1,
   "id": "118794e9",
   "metadata": {},
   "outputs": [],
   "source": [
    "l = [1, 2, 3, 4, 5, 6, 7]"
   ]
  },
  {
   "cell_type": "code",
   "execution_count": 2,
   "id": "2be1ba5e",
   "metadata": {},
   "outputs": [
    {
     "name": "stdout",
     "output_type": "stream",
     "text": [
      "[1, 2, 3, 4, 5, 6, 7]\n"
     ]
    }
   ],
   "source": [
    "print(l)"
   ]
  },
  {
   "cell_type": "code",
   "execution_count": 3,
   "id": "63fead4e",
   "metadata": {},
   "outputs": [
    {
     "name": "stdout",
     "output_type": "stream",
     "text": [
      "1\n",
      "2\n",
      "3\n",
      "4\n",
      "5\n",
      "6\n",
      "7\n"
     ]
    }
   ],
   "source": [
    "for i in l:\n",
    "    print(i)"
   ]
  },
  {
   "cell_type": "code",
   "execution_count": 4,
   "id": "de343de0",
   "metadata": {},
   "outputs": [],
   "source": [
    "s = [1, 2, 3, 4, \"divya\", 6 + 7j, [45, 67, 21]]"
   ]
  },
  {
   "cell_type": "code",
   "execution_count": 5,
   "id": "9056040d",
   "metadata": {},
   "outputs": [
    {
     "name": "stdout",
     "output_type": "stream",
     "text": [
      "[1, 2, 3, 4, 'divya', (6+7j), [45, 67, 21]]\n"
     ]
    }
   ],
   "source": [
    "print(s)"
   ]
  },
  {
   "cell_type": "code",
   "execution_count": 7,
   "id": "c2ea3a6d",
   "metadata": {},
   "outputs": [
    {
     "name": "stdout",
     "output_type": "stream",
     "text": [
      "<class 'int'>\n",
      "<class 'int'>\n",
      "<class 'int'>\n",
      "<class 'int'>\n",
      "<class 'str'>\n",
      "<class 'complex'>\n",
      "<class 'list'>\n"
     ]
    }
   ],
   "source": [
    "for i in s:\n",
    "    print(type(i))"
   ]
  },
  {
   "cell_type": "code",
   "execution_count": 9,
   "id": "05b784bc",
   "metadata": {},
   "outputs": [
    {
     "name": "stdout",
     "output_type": "stream",
     "text": [
      "1\n",
      "2\n",
      "3\n",
      "4\n",
      "45\n",
      "67\n",
      "21\n"
     ]
    }
   ],
   "source": [
    "# seperating integers from the list\n",
    "for i in s:\n",
    "    if type(i) == int:\n",
    "        print(i)\n",
    "    elif type(i) == list:\n",
    "        for j in i:\n",
    "            if type(j) == int:\n",
    "                print(j)"
   ]
  },
  {
   "cell_type": "code",
   "execution_count": 10,
   "id": "3bbbfa80",
   "metadata": {},
   "outputs": [
    {
     "name": "stdout",
     "output_type": "stream",
     "text": [
      "index 0 for an element 1\n",
      "index 1 for an element 2\n",
      "index 2 for an element 3\n",
      "index 3 for an element 4\n",
      "index 4 for an element divya\n",
      "index 5 for an element (6+7j)\n",
      "index 6 for an element [45, 67, 21]\n"
     ]
    }
   ],
   "source": [
    "# for getting index number\n",
    "len(s)\n",
    "\n",
    "for i in range(len(s)):\n",
    "    print(\"index\", i, \"for an element\", s[i])\n",
    "    "
   ]
  },
  {
   "cell_type": "code",
   "execution_count": 12,
   "id": "f985eb21",
   "metadata": {},
   "outputs": [
    {
     "name": "stdout",
     "output_type": "stream",
     "text": [
      "[7, 8, 7, 32, 53, 21, 33]\n"
     ]
    }
   ],
   "source": [
    "# filtering elements from a list\n",
    "\n",
    "numbers = [1, 2, 4, 5, 7, 8, 4, 5, 7, 32, 53, 21, 33]\n",
    "filtered_numbers = []\n",
    "\n",
    "for num in numbers:\n",
    "    if num > 5:\n",
    "        filtered_numbers.append(num)\n",
    "print(filtered_numbers)"
   ]
  },
  {
   "cell_type": "code",
   "execution_count": 14,
   "id": "ca428da8",
   "metadata": {},
   "outputs": [
    {
     "name": "stdout",
     "output_type": "stream",
     "text": [
      "{'H': 1, 'e': 1, 'l': 3, 'o': 2, ',': 1, ' ': 1, 'w': 1, 'r': 1, 'd': 1, '!': 1}\n"
     ]
    }
   ],
   "source": [
    "# counting characters in a string\n",
    "\n",
    "sentence = \"Hello, world!\"\n",
    "char_count = {}\n",
    "\n",
    "for char in sentence :\n",
    "    if char in char_count:\n",
    "        char_count[char] += 1\n",
    "    else:\n",
    "        char_count[char] = 1\n",
    "        \n",
    "print(char_count)"
   ]
  },
  {
   "cell_type": "code",
   "execution_count": 40,
   "id": "c5250643",
   "metadata": {},
   "outputs": [
    {
     "data": {
      "text/plain": [
       "dict"
      ]
     },
     "execution_count": 40,
     "metadata": {},
     "output_type": "execute_result"
    }
   ],
   "source": [
    "type(char_count)"
   ]
  },
  {
   "cell_type": "code",
   "execution_count": 15,
   "id": "d3643977",
   "metadata": {},
   "outputs": [
    {
     "name": "stdout",
     "output_type": "stream",
     "text": [
      "         \n",
      "        *\n",
      "       **\n",
      "      ***\n",
      "     ****\n",
      "    *****\n",
      "   ******\n",
      "  *******\n"
     ]
    }
   ],
   "source": [
    "for i in range(8):\n",
    "    print(\" \"*(8 - i), \"*\" * i)"
   ]
  },
  {
   "cell_type": "code",
   "execution_count": null,
   "id": "1e88482e",
   "metadata": {},
   "outputs": [],
   "source": []
  },
  {
   "cell_type": "code",
   "execution_count": 28,
   "id": "d40dcb1f",
   "metadata": {},
   "outputs": [
    {
     "name": "stdout",
     "output_type": "stream",
     "text": [
      "         \n",
      "*        \n",
      "**       \n",
      "***      \n",
      "****     \n",
      "*****    \n",
      "******   \n",
      "*******  \n"
     ]
    }
   ],
   "source": [
    "for i in range(8):\n",
    "    print(\"*\" * i, (8 - i)*\" \")"
   ]
  },
  {
   "cell_type": "code",
   "execution_count": 22,
   "id": "16f017b7",
   "metadata": {},
   "outputs": [
    {
     "name": "stdout",
     "output_type": "stream",
     "text": [
      " 8\n",
      "* 7\n",
      "** 6\n",
      "*** 5\n",
      "**** 4\n",
      "***** 3\n",
      "****** 2\n",
      "******* 1\n"
     ]
    }
   ],
   "source": [
    "for i in range(8):\n",
    "    print(\"*\" * i, (8 - i))"
   ]
  },
  {
   "cell_type": "code",
   "execution_count": 39,
   "id": "882f15e9",
   "metadata": {},
   "outputs": [
    {
     "name": "stdout",
     "output_type": "stream",
     "text": [
      "Vowels in the sentence:  ['e', 'u', 'i', 'o', 'o', 'u', 'o', 'e', 'e', 'a', 'o']\n"
     ]
    }
   ],
   "source": [
    "# Extracting vowels from a string\n",
    "sentence = \"The quick brown fox jumps over the lazy dog\"\n",
    "vowels = \"aeiouAEIOU\"\n",
    "extracted_vowels = []\n",
    "\n",
    "for char in sentence:\n",
    "    if char in vowels:\n",
    "        extracted_vowels.append(char)\n",
    "\n",
    "print(\"Vowels in the sentence: \", extracted_vowels)\n"
   ]
  },
  {
   "cell_type": "code",
   "execution_count": 41,
   "id": "bd4775d7",
   "metadata": {},
   "outputs": [],
   "source": [
    "s = [1, 2, 3, 4, \"divya\", 6 + 7j, [45, 67, 21]]"
   ]
  },
  {
   "cell_type": "code",
   "execution_count": 42,
   "id": "ed165c6d",
   "metadata": {},
   "outputs": [
    {
     "name": "stdout",
     "output_type": "stream",
     "text": [
      "[1, 2, 3, 4, 'divya', (6+7j), [45, 67, 21]]\n"
     ]
    }
   ],
   "source": [
    "print(s)"
   ]
  },
  {
   "cell_type": "code",
   "execution_count": 47,
   "id": "960fd086",
   "metadata": {},
   "outputs": [
    {
     "name": "stdout",
     "output_type": "stream",
     "text": [
      "1\n",
      "4\n",
      "9\n",
      "16\n"
     ]
    }
   ],
   "source": [
    "l2 = []\n",
    "for i in s:\n",
    "    if type(i) == int:\n",
    "        print(i ** 2)"
   ]
  },
  {
   "cell_type": "code",
   "execution_count": 49,
   "id": "ce9a86b9",
   "metadata": {},
   "outputs": [
    {
     "name": "stdout",
     "output_type": "stream",
     "text": [
      "d\n",
      "i\n",
      "v\n",
      "y\n",
      "a\n"
     ]
    }
   ],
   "source": [
    "for i in \"divya\":\n",
    "    print(i)"
   ]
  },
  {
   "cell_type": "code",
   "execution_count": 50,
   "id": "2f50a654",
   "metadata": {},
   "outputs": [
    {
     "data": {
      "text/plain": [
       "[1, 2, 3, 4, 'divya', (6+7j), [45, 67, 21]]"
      ]
     },
     "execution_count": 50,
     "metadata": {},
     "output_type": "execute_result"
    }
   ],
   "source": [
    "s"
   ]
  },
  {
   "cell_type": "code",
   "execution_count": 54,
   "id": "ea7ca59f",
   "metadata": {},
   "outputs": [
    {
     "name": "stdout",
     "output_type": "stream",
     "text": [
      "1\n",
      "2\n"
     ]
    }
   ],
   "source": [
    "for i in s:\n",
    "    if type(i) == int and i < 3:\n",
    "        print(i)\n",
    "    "
   ]
  },
  {
   "cell_type": "code",
   "execution_count": 55,
   "id": "fdbf3736",
   "metadata": {},
   "outputs": [],
   "source": [
    "s = [1, 22, 33, 44, 55, 66, 34, 12, 45, \"divya\", 6 + 7j, [45, 67, 21]]"
   ]
  },
  {
   "cell_type": "code",
   "execution_count": 56,
   "id": "c53a8f2b",
   "metadata": {},
   "outputs": [
    {
     "name": "stdout",
     "output_type": "stream",
     "text": [
      "10\n",
      "12\n",
      "14\n",
      "16\n",
      "18\n",
      "20\n",
      "22\n",
      "24\n",
      "26\n",
      "28\n",
      "30\n",
      "32\n",
      "34\n",
      "36\n",
      "38\n",
      "40\n",
      "42\n",
      "44\n",
      "46\n",
      "48\n",
      "50\n"
     ]
    }
   ],
   "source": [
    "#use for loop to generate a list of numbers from 9 to 50 divisible by 2\n",
    "\n",
    "for i in range(9, 51):\n",
    "\tif i % 2 == 0:\n",
    "\t\tprint(i)\n"
   ]
  },
  {
   "cell_type": "code",
   "execution_count": 57,
   "id": "8dc6cc1e",
   "metadata": {},
   "outputs": [
    {
     "name": "stdout",
     "output_type": "stream",
     "text": [
      "30.0\n"
     ]
    }
   ],
   "source": [
    "#Calculate the average of list of numbers\n",
    "numbers = [10, 20, 30, 40, 50]\n",
    "#definite iteration\n",
    "#run loop 5 times because list contains 5 items\n",
    "sum = 0\n",
    "for i in numbers:\n",
    "    sum = sum + i\n",
    "list_size = len(numbers)\n",
    "average = sum/list_size\n",
    "print(average)"
   ]
  },
  {
   "cell_type": "code",
   "execution_count": 59,
   "id": "fd2db74a",
   "metadata": {},
   "outputs": [
    {
     "name": "stdout",
     "output_type": "stream",
     "text": [
      "['divya', 45, 'pankaj', 5, 3, 6, 8, 'every', 6.8]\n",
      "45\n",
      "8\n"
     ]
    }
   ],
   "source": [
    "list1 = [\"divya\", 45, \"pankaj\", 5, 3, 6, 8, \"every\", 6.8]\n",
    "print(list1)"
   ]
  },
  {
   "cell_type": "code",
   "execution_count": 60,
   "id": "2e80a23c",
   "metadata": {},
   "outputs": [
    {
     "name": "stdout",
     "output_type": "stream",
     "text": [
      "45\n",
      "8\n"
     ]
    }
   ],
   "source": [
    "for item in list1:\n",
    "    if str(item).isnumeric() and item > 6:\n",
    "        print(item)"
   ]
  },
  {
   "cell_type": "code",
   "execution_count": null,
   "id": "2c59ec10",
   "metadata": {},
   "outputs": [],
   "source": []
  }
 ],
 "metadata": {
  "kernelspec": {
   "display_name": "Python 3 (ipykernel)",
   "language": "python",
   "name": "python3"
  },
  "language_info": {
   "codemirror_mode": {
    "name": "ipython",
    "version": 3
   },
   "file_extension": ".py",
   "mimetype": "text/x-python",
   "name": "python",
   "nbconvert_exporter": "python",
   "pygments_lexer": "ipython3",
   "version": "3.9.7"
  }
 },
 "nbformat": 4,
 "nbformat_minor": 5
}
