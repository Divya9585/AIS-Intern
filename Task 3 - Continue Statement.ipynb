{
 "cells": [
  {
   "cell_type": "markdown",
   "id": "2e849ac1",
   "metadata": {},
   "source": [
    "# Continue Statement"
   ]
  },
  {
   "cell_type": "markdown",
   "id": "dd9b8d0d",
   "metadata": {},
   "source": [
    "The \"continue\" statement in Python is used to skip the rest of the code inside the current loop iteration and move on to the next iteration of the loop."
   ]
  },
  {
   "cell_type": "code",
   "execution_count": 3,
   "id": "3498e26b",
   "metadata": {},
   "outputs": [
    {
     "name": "stdout",
     "output_type": "stream",
     "text": [
      "1\n",
      "3\n",
      "5\n",
      "7\n",
      "9\n"
     ]
    }
   ],
   "source": [
    "# skipping even numbers in a for loop\n",
    "for i in range(10):\n",
    "    if i % 2 == 0:\n",
    "        continue\n",
    "    print(i)"
   ]
  },
  {
   "cell_type": "code",
   "execution_count": 4,
   "id": "bd254495",
   "metadata": {},
   "outputs": [
    {
     "name": "stdout",
     "output_type": "stream",
     "text": [
      "1\n",
      "2\n",
      "4\n",
      "5\n"
     ]
    }
   ],
   "source": [
    "# skipping a specific value in a list\n",
    "num = [1, 2, 3, 4, 5]\n",
    "for i in num:\n",
    "    if i == 3:\n",
    "        continue\n",
    "    print(i)"
   ]
  },
  {
   "cell_type": "code",
   "execution_count": 5,
   "id": "8758fab5",
   "metadata": {},
   "outputs": [
    {
     "name": "stdout",
     "output_type": "stream",
     "text": [
      "1\n",
      "2\n",
      "4\n",
      "5\n"
     ]
    }
   ],
   "source": [
    "# skipping iteration in a while loop\n",
    "count = 0\n",
    "while count < 5:\n",
    "    count += 1\n",
    "    if count == 3:\n",
    "        continue\n",
    "    print(count)"
   ]
  },
  {
   "cell_type": "code",
   "execution_count": null,
   "id": "8d19c283",
   "metadata": {},
   "outputs": [],
   "source": []
  }
 ],
 "metadata": {
  "kernelspec": {
   "display_name": "Python 3 (ipykernel)",
   "language": "python",
   "name": "python3"
  },
  "language_info": {
   "codemirror_mode": {
    "name": "ipython",
    "version": 3
   },
   "file_extension": ".py",
   "mimetype": "text/x-python",
   "name": "python",
   "nbconvert_exporter": "python",
   "pygments_lexer": "ipython3",
   "version": "3.9.7"
  }
 },
 "nbformat": 4,
 "nbformat_minor": 5
}
