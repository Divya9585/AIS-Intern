{
 "cells": [
  {
   "cell_type": "markdown",
   "id": "c955ea38",
   "metadata": {},
   "source": [
    "# If else Condition"
   ]
  },
  {
   "cell_type": "markdown",
   "id": "21f0a591",
   "metadata": {},
   "source": [
    "the if-else statement in Python is a fundamental control flow structure that allows you to execute different code blocks based on whether a certain condition is True or False."
   ]
  },
  {
   "cell_type": "markdown",
   "id": "2ab79f42",
   "metadata": {},
   "source": [
    "if condition:\n",
    "\n",
    "    # code to execute if the condition is True\n",
    "    \n",
    "else:\n",
    "\n",
    "    # code to execute if the condition is False"
   ]
  },
  {
   "cell_type": "code",
   "execution_count": 1,
   "id": "e46e5384",
   "metadata": {},
   "outputs": [
    {
     "name": "stdout",
     "output_type": "stream",
     "text": [
      "you are eligible to vote\n"
     ]
    }
   ],
   "source": [
    "age = 20 \n",
    "if age >= 18:\n",
    "    print(\"you are eligible to vote\")\n",
    "else:\n",
    "    print(\"you are not eligible to vote\")"
   ]
  },
  {
   "cell_type": "code",
   "execution_count": 4,
   "id": "bf63c108",
   "metadata": {},
   "outputs": [
    {
     "name": "stdout",
     "output_type": "stream",
     "text": [
      "you will be able to get a discount of 5%\n",
      "you will be able to get one cup with this amount 6646.0\n"
     ]
    }
   ],
   "source": [
    "coupon_code = \"Divya\"\n",
    "if coupon_code == \"Divya\":\n",
    "    print(\"you will be able to get a discount of 5%\")\n",
    "    paid_amount = 7000 - 7080 * 0.05\n",
    "    print(\"you will be able to get one cup with this amount\", paid_amount)\n",
    "else:\n",
    "    print(\"kindly use a valid coupon code\")"
   ]
  },
  {
   "cell_type": "code",
   "execution_count": 5,
   "id": "27b99e8d",
   "metadata": {},
   "outputs": [
    {
     "name": "stdout",
     "output_type": "stream",
     "text": [
      "Statement is wrong\n"
     ]
    }
   ],
   "source": [
    "a = 10\n",
    "b = 3\n",
    "if a < b :\n",
    "    print(\"a is lesser than b\")\n",
    "else:\n",
    "    print(\"Statement is wrong\")"
   ]
  },
  {
   "cell_type": "code",
   "execution_count": 7,
   "id": "abdf3e1b",
   "metadata": {},
   "outputs": [
    {
     "name": "stdout",
     "output_type": "stream",
     "text": [
      "num is even\n"
     ]
    }
   ],
   "source": [
    "# checking even or odd number\n",
    "num = 24\n",
    "if num % 2 == 0:\n",
    "    print(\"num is even\")\n",
    "else:\n",
    "    print(\"num is odd\")"
   ]
  },
  {
   "cell_type": "code",
   "execution_count": 9,
   "id": "16fc9187",
   "metadata": {},
   "outputs": [
    {
     "name": "stdout",
     "output_type": "stream",
     "text": [
      "username :admin\n",
      "password :secret\n",
      "Login Successful!\n"
     ]
    }
   ],
   "source": [
    "# Checking for valid login credentials\n",
    "username = \"admin\"\n",
    "password = \"secret\"\n",
    "user_input_username = input(\"username :\")\n",
    "user_input_password = input(\"password :\")\n",
    "if username == user_input_username and password == user_input_password:\n",
    "    print(\"Login Successful!\")\n",
    "else: \n",
    "    print(\"Invalid Login try again\")"
   ]
  },
  {
   "cell_type": "code",
   "execution_count": 15,
   "id": "16e116e1",
   "metadata": {},
   "outputs": [
    {
     "name": "stdout",
     "output_type": "stream",
     "text": [
      "Very good!\n"
     ]
    }
   ],
   "source": [
    "# grading system\n",
    "grade = 88\n",
    "\n",
    "if grade >= 90:\n",
    "    print(\"Excellent!\")\n",
    "if grade >= 80:\n",
    "    print(\"Very good!\")\n",
    "else:\n",
    "    print(\"Keep practicing!\")"
   ]
  },
  {
   "cell_type": "code",
   "execution_count": 10,
   "id": "5958dc46",
   "metadata": {},
   "outputs": [
    {
     "name": "stdout",
     "output_type": "stream",
     "text": [
      "700\n",
      "Congratulations! You won the game.\n"
     ]
    }
   ],
   "source": [
    "# cheking if a player has won a game\n",
    "player_score = int(input())\n",
    "goal_score = 150\n",
    "\n",
    "if player_score >= goal_score:\n",
    "    print(\"Congratulations! You won the game.\")\n",
    "else:\n",
    "    print(\"You need 100 more points to win.\")"
   ]
  },
  {
   "cell_type": "code",
   "execution_count": 8,
   "id": "44004b79",
   "metadata": {},
   "outputs": [
    {
     "name": "stdout",
     "output_type": "stream",
     "text": [
      "56\n",
      "87\n",
      "the maximum value is :  87\n"
     ]
    }
   ],
   "source": [
    "# finding the maximum of two numbers\n",
    "num1 = input()\n",
    "num2 = input()\n",
    "if num1 > num2:\n",
    "    max_value = num1\n",
    "else:\n",
    "    max_value = num2\n",
    "print(\"the maximum value is : \", max_value)"
   ]
  },
  {
   "cell_type": "code",
   "execution_count": 11,
   "id": "00f91a19",
   "metadata": {},
   "outputs": [
    {
     "name": "stdout",
     "output_type": "stream",
     "text": [
      "user@example.com\n",
      "Valid email address\n"
     ]
    }
   ],
   "source": [
    "# checking for a valid email address\n",
    "email = input()\n",
    "if \"@\" in email and \".\" in email:\n",
    "    print(\"Valid email address\")\n",
    "else:\n",
    "    print(\"Invalid email address\")"
   ]
  },
  {
   "cell_type": "code",
   "execution_count": 7,
   "id": "0c52f161",
   "metadata": {},
   "outputs": [
    {
     "name": "stdout",
     "output_type": "stream",
     "text": [
      "HELLO\n",
      "lower\n",
      "hello\n"
     ]
    }
   ],
   "source": [
    "# converting a string to uppercase or lowercase\n",
    "text = input()\n",
    "case = input()\n",
    "if case == \"upper\":\n",
    "    converted_text = text.upper()\n",
    "else:\n",
    "    converted_text = text.lower()\n",
    "print(converted_text)"
   ]
  },
  {
   "cell_type": "code",
   "execution_count": null,
   "id": "83bde011",
   "metadata": {},
   "outputs": [],
   "source": []
  }
 ],
 "metadata": {
  "kernelspec": {
   "display_name": "Python 3 (ipykernel)",
   "language": "python",
   "name": "python3"
  },
  "language_info": {
   "codemirror_mode": {
    "name": "ipython",
    "version": 3
   },
   "file_extension": ".py",
   "mimetype": "text/x-python",
   "name": "python",
   "nbconvert_exporter": "python",
   "pygments_lexer": "ipython3",
   "version": "3.9.7"
  }
 },
 "nbformat": 4,
 "nbformat_minor": 5
}
