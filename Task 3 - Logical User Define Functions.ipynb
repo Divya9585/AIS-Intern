{
 "cells": [
  {
   "cell_type": "markdown",
   "id": "1b2d0334",
   "metadata": {},
   "source": [
    "# Logical User Define Functions"
   ]
  },
  {
   "cell_type": "code",
   "execution_count": 4,
   "id": "ae9f5da2",
   "metadata": {},
   "outputs": [],
   "source": [
    "# addttion\n",
    "def add(a, b):\n",
    "    add = a + b\n",
    "    return add"
   ]
  },
  {
   "cell_type": "code",
   "execution_count": 5,
   "id": "8733e311",
   "metadata": {},
   "outputs": [
    {
     "data": {
      "text/plain": [
       "12"
      ]
     },
     "execution_count": 5,
     "metadata": {},
     "output_type": "execute_result"
    }
   ],
   "source": [
    "add(9, 3)"
   ]
  },
  {
   "cell_type": "code",
   "execution_count": 68,
   "id": "a600edeb",
   "metadata": {},
   "outputs": [],
   "source": [
    "# checking a number is prime or not\n",
    "def is_prime(x):\n",
    "    if x <= 1 :\n",
    "        return False\n",
    "    for i in range(2, int(x ** 0.5) + 1):\n",
    "        if x % i == 0:\n",
    "            return False\n",
    "    return True"
   ]
  },
  {
   "cell_type": "code",
   "execution_count": 69,
   "id": "57cda155",
   "metadata": {},
   "outputs": [
    {
     "data": {
      "text/plain": [
       "True"
      ]
     },
     "execution_count": 69,
     "metadata": {},
     "output_type": "execute_result"
    }
   ],
   "source": [
    " is_prime(3)"
   ]
  },
  {
   "cell_type": "code",
   "execution_count": 70,
   "id": "62fa32a2",
   "metadata": {},
   "outputs": [
    {
     "data": {
      "text/plain": [
       "False"
      ]
     },
     "execution_count": 70,
     "metadata": {},
     "output_type": "execute_result"
    }
   ],
   "source": [
    " is_prime(4)"
   ]
  },
  {
   "cell_type": "code",
   "execution_count": 71,
   "id": "38a3f00c",
   "metadata": {},
   "outputs": [],
   "source": [
    "# checking a number is odd\n",
    "def is_odd(x):\n",
    "    is_odd = x % 2 != 0\n",
    "    return is_odd"
   ]
  },
  {
   "cell_type": "code",
   "execution_count": 72,
   "id": "c6a13e8f",
   "metadata": {},
   "outputs": [
    {
     "data": {
      "text/plain": [
       "True"
      ]
     },
     "execution_count": 72,
     "metadata": {},
     "output_type": "execute_result"
    }
   ],
   "source": [
    "is_odd(9)"
   ]
  },
  {
   "cell_type": "code",
   "execution_count": 73,
   "id": "83572751",
   "metadata": {},
   "outputs": [
    {
     "data": {
      "text/plain": [
       "False"
      ]
     },
     "execution_count": 73,
     "metadata": {},
     "output_type": "execute_result"
    }
   ],
   "source": [
    "is_odd(10)"
   ]
  },
  {
   "cell_type": "code",
   "execution_count": 74,
   "id": "176a94ff",
   "metadata": {},
   "outputs": [],
   "source": [
    "# checking a number is even\n",
    "def is_even(x):\n",
    "    is_even = x % 2 == 0\n",
    "    return is_even"
   ]
  },
  {
   "cell_type": "code",
   "execution_count": 75,
   "id": "7862af85",
   "metadata": {},
   "outputs": [
    {
     "data": {
      "text/plain": [
       "True"
      ]
     },
     "execution_count": 75,
     "metadata": {},
     "output_type": "execute_result"
    }
   ],
   "source": [
    "is_even(100)"
   ]
  },
  {
   "cell_type": "code",
   "execution_count": 76,
   "id": "81dee520",
   "metadata": {},
   "outputs": [
    {
     "data": {
      "text/plain": [
       "False"
      ]
     },
     "execution_count": 76,
     "metadata": {},
     "output_type": "execute_result"
    }
   ],
   "source": [
    "is_even(99)"
   ]
  },
  {
   "cell_type": "code",
   "execution_count": 77,
   "id": "1c265dd6",
   "metadata": {},
   "outputs": [],
   "source": [
    "# checking a number is positive\n",
    "def is_positive(x):\n",
    "    is_positive = x > 0\n",
    "    return is_positive"
   ]
  },
  {
   "cell_type": "code",
   "execution_count": 78,
   "id": "a6351d4c",
   "metadata": {},
   "outputs": [
    {
     "data": {
      "text/plain": [
       "True"
      ]
     },
     "execution_count": 78,
     "metadata": {},
     "output_type": "execute_result"
    }
   ],
   "source": [
    "is_positive(4)"
   ]
  },
  {
   "cell_type": "code",
   "execution_count": 79,
   "id": "82d6f97e",
   "metadata": {},
   "outputs": [
    {
     "data": {
      "text/plain": [
       "False"
      ]
     },
     "execution_count": 79,
     "metadata": {},
     "output_type": "execute_result"
    }
   ],
   "source": [
    "is_positive(-4)"
   ]
  },
  {
   "cell_type": "code",
   "execution_count": 80,
   "id": "8fb28d01",
   "metadata": {},
   "outputs": [],
   "source": [
    "# checking a number is negative\n",
    "def is_negative(x):\n",
    "    is_negative = x < 0\n",
    "    return is_negative"
   ]
  },
  {
   "cell_type": "code",
   "execution_count": 81,
   "id": "003bbc81",
   "metadata": {},
   "outputs": [
    {
     "data": {
      "text/plain": [
       "False"
      ]
     },
     "execution_count": 81,
     "metadata": {},
     "output_type": "execute_result"
    }
   ],
   "source": [
    "is_negative(9)"
   ]
  },
  {
   "cell_type": "code",
   "execution_count": 82,
   "id": "d9a6b9cd",
   "metadata": {},
   "outputs": [
    {
     "data": {
      "text/plain": [
       "True"
      ]
     },
     "execution_count": 82,
     "metadata": {},
     "output_type": "execute_result"
    }
   ],
   "source": [
    "is_negative(-9)"
   ]
  },
  {
   "cell_type": "code",
   "execution_count": 83,
   "id": "18ce80e9",
   "metadata": {},
   "outputs": [],
   "source": [
    "# checking the email is valid or not\n",
    "def is_email_valid(x):\n",
    "    if \"@\" in x and \".\" in x:\n",
    "        at_index = x.index(\"@\")\n",
    "        dot_index = x.rindex(\".\")\n",
    "        if at_index < dot_index:\n",
    "            return True\n",
    "    return False"
   ]
  },
  {
   "cell_type": "code",
   "execution_count": 84,
   "id": "fa7db71c",
   "metadata": {},
   "outputs": [
    {
     "data": {
      "text/plain": [
       "True"
      ]
     },
     "execution_count": 84,
     "metadata": {},
     "output_type": "execute_result"
    }
   ],
   "source": [
    "is_email_valid(\"example@email.com\")"
   ]
  },
  {
   "cell_type": "code",
   "execution_count": 85,
   "id": "a457664a",
   "metadata": {},
   "outputs": [
    {
     "data": {
      "text/plain": [
       "False"
      ]
     },
     "execution_count": 85,
     "metadata": {},
     "output_type": "execute_result"
    }
   ],
   "source": [
    "is_email_valid(\"exapmple.com\")"
   ]
  },
  {
   "cell_type": "code",
   "execution_count": 86,
   "id": "9a428059",
   "metadata": {},
   "outputs": [],
   "source": [
    "# checking is lowercase\n",
    "def is_lowercase(x):\n",
    "    return x.islower()\n"
   ]
  },
  {
   "cell_type": "code",
   "execution_count": 87,
   "id": "aa272b43",
   "metadata": {},
   "outputs": [
    {
     "data": {
      "text/plain": [
       "True"
      ]
     },
     "execution_count": 87,
     "metadata": {},
     "output_type": "execute_result"
    }
   ],
   "source": [
    "is_lowercase(\"hello\")"
   ]
  },
  {
   "cell_type": "code",
   "execution_count": 88,
   "id": "69728a90",
   "metadata": {},
   "outputs": [],
   "source": [
    "def is_uppercase(x):\n",
    "    return x.isupper()\n"
   ]
  },
  {
   "cell_type": "code",
   "execution_count": 89,
   "id": "35bba170",
   "metadata": {},
   "outputs": [
    {
     "data": {
      "text/plain": [
       "True"
      ]
     },
     "execution_count": 89,
     "metadata": {},
     "output_type": "execute_result"
    }
   ],
   "source": [
    "is_uppercase(\"HELLO\")"
   ]
  },
  {
   "cell_type": "code",
   "execution_count": 90,
   "id": "c62752d5",
   "metadata": {},
   "outputs": [],
   "source": [
    "# Check if a number is a multiple of another number\n",
    "def is_multiple(n, m):\n",
    "    is_multiple = n % m == 0\n",
    "    return is_multiple"
   ]
  },
  {
   "cell_type": "code",
   "execution_count": 91,
   "id": "27c40b8d",
   "metadata": {},
   "outputs": [
    {
     "data": {
      "text/plain": [
       "False"
      ]
     },
     "execution_count": 91,
     "metadata": {},
     "output_type": "execute_result"
    }
   ],
   "source": [
    "is_multiple(9, 5)"
   ]
  },
  {
   "cell_type": "code",
   "execution_count": 92,
   "id": "f29a6a99",
   "metadata": {},
   "outputs": [
    {
     "data": {
      "text/plain": [
       "True"
      ]
     },
     "execution_count": 92,
     "metadata": {},
     "output_type": "execute_result"
    }
   ],
   "source": [
    "is_multiple(10, 2)"
   ]
  },
  {
   "cell_type": "code",
   "execution_count": 93,
   "id": "c75a0a07",
   "metadata": {},
   "outputs": [],
   "source": [
    "# checking a number is perfect square\n",
    "def is_perfect_square(n):\n",
    "    is_perfect_square = n >= 0 and int(n ** 0.5)** 2 == n\n",
    "    return is_perfect_square"
   ]
  },
  {
   "cell_type": "code",
   "execution_count": 94,
   "id": "46df4a7a",
   "metadata": {},
   "outputs": [
    {
     "data": {
      "text/plain": [
       "True"
      ]
     },
     "execution_count": 94,
     "metadata": {},
     "output_type": "execute_result"
    }
   ],
   "source": [
    "is_perfect_square(9)\n"
   ]
  },
  {
   "cell_type": "code",
   "execution_count": 95,
   "id": "61800445",
   "metadata": {},
   "outputs": [
    {
     "data": {
      "text/plain": [
       "False"
      ]
     },
     "execution_count": 95,
     "metadata": {},
     "output_type": "execute_result"
    }
   ],
   "source": [
    "is_perfect_square(10)"
   ]
  },
  {
   "cell_type": "code",
   "execution_count": null,
   "id": "8323e558",
   "metadata": {},
   "outputs": [],
   "source": []
  }
 ],
 "metadata": {
  "kernelspec": {
   "display_name": "Python 3 (ipykernel)",
   "language": "python",
   "name": "python3"
  },
  "language_info": {
   "codemirror_mode": {
    "name": "ipython",
    "version": 3
   },
   "file_extension": ".py",
   "mimetype": "text/x-python",
   "name": "python",
   "nbconvert_exporter": "python",
   "pygments_lexer": "ipython3",
   "version": "3.9.7"
  }
 },
 "nbformat": 4,
 "nbformat_minor": 5
}
