{
 "cells": [
  {
   "cell_type": "markdown",
   "id": "d13241e2",
   "metadata": {},
   "source": [
    "# Operators"
   ]
  },
  {
   "cell_type": "markdown",
   "id": "5aced912",
   "metadata": {},
   "source": [
    "# 1. Arithmetic Operators :"
   ]
  },
  {
   "cell_type": "markdown",
   "id": "42faa1c6",
   "metadata": {},
   "source": [
    "Perform Mathematical Calculations :\n",
    "    \n",
    "    - Addition( + )\n",
    "    \n",
    "    - Subtraction ( - )\n",
    "    \n",
    "    - Multiplication ( * )\n",
    "    \n",
    "    - Division ( / ) - Performs floating-point division by default.\n",
    "    \n",
    "    - Floor Division ( // ) - Divides adn returns the whole number quotient.\n",
    "    \n",
    "    - Modulo ( % ) - Returns the remainder after division.\n",
    "    \n",
    "    - Exponentiation ( ** )"
   ]
  },
  {
   "cell_type": "code",
   "execution_count": 1,
   "id": "c03fee28",
   "metadata": {},
   "outputs": [],
   "source": [
    "x = 5\n",
    "y = 3"
   ]
  },
  {
   "cell_type": "code",
   "execution_count": 2,
   "id": "c488eb6b",
   "metadata": {},
   "outputs": [
    {
     "name": "stdout",
     "output_type": "stream",
     "text": [
      "8\n"
     ]
    }
   ],
   "source": [
    "# Addition\n",
    "sum = x + y \n",
    "print(sum)"
   ]
  },
  {
   "cell_type": "code",
   "execution_count": 3,
   "id": "fe364402",
   "metadata": {},
   "outputs": [
    {
     "name": "stdout",
     "output_type": "stream",
     "text": [
      "2\n"
     ]
    }
   ],
   "source": [
    "# subtraction\n",
    "difference = x - y\n",
    "print(difference)"
   ]
  },
  {
   "cell_type": "code",
   "execution_count": 4,
   "id": "c30f0f4c",
   "metadata": {},
   "outputs": [
    {
     "name": "stdout",
     "output_type": "stream",
     "text": [
      "15\n"
     ]
    }
   ],
   "source": [
    "# Multiplication\n",
    "product = x * y\n",
    "print(product)"
   ]
  },
  {
   "cell_type": "code",
   "execution_count": 5,
   "id": "e1e72d92",
   "metadata": {},
   "outputs": [
    {
     "name": "stdout",
     "output_type": "stream",
     "text": [
      "1.6666666666666667\n"
     ]
    }
   ],
   "source": [
    "# Division\n",
    "result = x / y\n",
    "print(result)"
   ]
  },
  {
   "cell_type": "code",
   "execution_count": 6,
   "id": "7d7b4c77",
   "metadata": {},
   "outputs": [
    {
     "name": "stdout",
     "output_type": "stream",
     "text": [
      "1\n"
     ]
    }
   ],
   "source": [
    "# Floor Division\n",
    "quotient = x // y\n",
    "print(quotient)"
   ]
  },
  {
   "cell_type": "code",
   "execution_count": 7,
   "id": "02c84859",
   "metadata": {},
   "outputs": [
    {
     "name": "stdout",
     "output_type": "stream",
     "text": [
      "2\n"
     ]
    }
   ],
   "source": [
    "# Modulo\n",
    "remainder = x % y\n",
    "print(remainder)"
   ]
  },
  {
   "cell_type": "code",
   "execution_count": 8,
   "id": "53c377e7",
   "metadata": {},
   "outputs": [
    {
     "name": "stdout",
     "output_type": "stream",
     "text": [
      "125\n"
     ]
    }
   ],
   "source": [
    "# Exponentiation\n",
    "power = x ** y\n",
    "print(power)"
   ]
  },
  {
   "cell_type": "markdown",
   "id": "f5af3a1d",
   "metadata": {},
   "source": [
    "# 2. Logical Operators :"
   ]
  },
  {
   "cell_type": "markdown",
   "id": "21ce6289",
   "metadata": {},
   "source": [
    "Combine Conditional expressions : \n",
    "    \n",
    "    1. And (and) - Returns True if both operands are True, False otherwise.\n",
    "    \n",
    "    2. Or (or) - Returns True if at least one operand is True, False otherwise.\n",
    "    \n",
    "    3. Not(not) - Inverts the truth value of a condition."
   ]
  },
  {
   "cell_type": "code",
   "execution_count": 9,
   "id": "5b86ceb2",
   "metadata": {},
   "outputs": [],
   "source": [
    "x = True\n",
    "y = False"
   ]
  },
  {
   "cell_type": "code",
   "execution_count": 10,
   "id": "ff6271ef",
   "metadata": {},
   "outputs": [
    {
     "name": "stdout",
     "output_type": "stream",
     "text": [
      "False\n"
     ]
    }
   ],
   "source": [
    "# And \n",
    "print( x and y )"
   ]
  },
  {
   "cell_type": "code",
   "execution_count": 11,
   "id": "b09a4dc7",
   "metadata": {},
   "outputs": [
    {
     "name": "stdout",
     "output_type": "stream",
     "text": [
      "True\n"
     ]
    }
   ],
   "source": [
    "# Or \n",
    "print(x or y)"
   ]
  },
  {
   "cell_type": "code",
   "execution_count": 13,
   "id": "879dc5b2",
   "metadata": {},
   "outputs": [
    {
     "name": "stdout",
     "output_type": "stream",
     "text": [
      "False\n"
     ]
    }
   ],
   "source": [
    "# Not \n",
    "print(not x)"
   ]
  },
  {
   "cell_type": "markdown",
   "id": "d67d88f0",
   "metadata": {},
   "source": [
    "# 3. Assingment Operators"
   ]
  },
  {
   "cell_type": "markdown",
   "id": "43df22f6",
   "metadata": {},
   "source": [
    "Assign values to variables, and some can perform operations during assignment : \n",
    "    \n",
    "    - Simple Assignment ( = )\n",
    "    \n",
    "    - Add and Assign ( += )\n",
    "    \n",
    "    - Subtract and Assign ( -= )\n",
    "    \n",
    "    - Multiply and Assign ( *= )\n",
    "     \n",
    "    - Divide and Assign ( /= )\n",
    "    \n",
    "    - Floor Division and Assign ( //= )\n",
    "    \n",
    "    - Modulo and Assign ( %= )\n",
    "    "
   ]
  },
  {
   "cell_type": "code",
   "execution_count": 14,
   "id": "e69a4c99",
   "metadata": {},
   "outputs": [],
   "source": [
    "x = 10"
   ]
  },
  {
   "cell_type": "code",
   "execution_count": 15,
   "id": "81355253",
   "metadata": {},
   "outputs": [
    {
     "name": "stdout",
     "output_type": "stream",
     "text": [
      "20\n"
     ]
    }
   ],
   "source": [
    "# Simple Assignment\n",
    "x = 20 \n",
    "print(x)"
   ]
  },
  {
   "cell_type": "code",
   "execution_count": 16,
   "id": "a4302f44",
   "metadata": {},
   "outputs": [
    {
     "name": "stdout",
     "output_type": "stream",
     "text": [
      "25\n"
     ]
    }
   ],
   "source": [
    "# Add and Assign\n",
    "x += 5\n",
    "print(x)"
   ]
  },
  {
   "cell_type": "code",
   "execution_count": 17,
   "id": "dc805829",
   "metadata": {},
   "outputs": [
    {
     "name": "stdout",
     "output_type": "stream",
     "text": [
      "22\n"
     ]
    }
   ],
   "source": [
    "# Subtract and Assign\n",
    "x -= 3\n",
    "print(x)"
   ]
  },
  {
   "cell_type": "code",
   "execution_count": 19,
   "id": "75d8b019",
   "metadata": {},
   "outputs": [
    {
     "name": "stdout",
     "output_type": "stream",
     "text": [
      "88\n"
     ]
    }
   ],
   "source": [
    "# multiplication and Assign\n",
    "x *= 2\n",
    "print(x)"
   ]
  },
  {
   "cell_type": "code",
   "execution_count": 20,
   "id": "67cd6aef",
   "metadata": {},
   "outputs": [
    {
     "name": "stdout",
     "output_type": "stream",
     "text": [
      "44.0\n"
     ]
    }
   ],
   "source": [
    "# Divide and Assign\n",
    "x /= 2\n",
    "print(x)"
   ]
  },
  {
   "cell_type": "code",
   "execution_count": 21,
   "id": "2cfad264",
   "metadata": {},
   "outputs": [
    {
     "name": "stdout",
     "output_type": "stream",
     "text": [
      "14.0\n"
     ]
    }
   ],
   "source": [
    "# Floor Division and Assign\n",
    "x //= 3\n",
    "print(x)"
   ]
  },
  {
   "cell_type": "code",
   "execution_count": 22,
   "id": "1ef95eab",
   "metadata": {},
   "outputs": [
    {
     "name": "stdout",
     "output_type": "stream",
     "text": [
      "0.0\n"
     ]
    }
   ],
   "source": [
    "# Modulo and Assign \n",
    "x %= 2 \n",
    "print(x)"
   ]
  },
  {
   "cell_type": "markdown",
   "id": "9e129eab",
   "metadata": {},
   "source": [
    "# 4. Comparision Operators"
   ]
  },
  {
   "cell_type": "markdown",
   "id": "d6981f1a",
   "metadata": {},
   "source": [
    "Compare values and return boolean results (True or False):\n",
    "\n",
    "    - Equal (==)\n",
    "    \n",
    "    - Not Equal (!=)\n",
    "    \n",
    "    - Greater Than (>)\n",
    "    \n",
    "    - Less Than (<)\n",
    "    \n",
    "    - Greater Than or Equal To (>=)\n",
    "    \n",
    "    - Less Than or Equal To (<=)"
   ]
  },
  {
   "cell_type": "code",
   "execution_count": 23,
   "id": "df4e2c76",
   "metadata": {},
   "outputs": [],
   "source": [
    "x = 15\n",
    "y = 10"
   ]
  },
  {
   "cell_type": "code",
   "execution_count": 24,
   "id": "bdda930f",
   "metadata": {},
   "outputs": [
    {
     "name": "stdout",
     "output_type": "stream",
     "text": [
      "False\n"
     ]
    }
   ],
   "source": [
    "# Equal\n",
    "print( x == y)"
   ]
  },
  {
   "cell_type": "code",
   "execution_count": 25,
   "id": "c45c56d1",
   "metadata": {},
   "outputs": [
    {
     "name": "stdout",
     "output_type": "stream",
     "text": [
      "True\n"
     ]
    }
   ],
   "source": [
    "# Not Equal\n",
    "print(x != y)"
   ]
  },
  {
   "cell_type": "code",
   "execution_count": 26,
   "id": "3cbc6416",
   "metadata": {},
   "outputs": [
    {
     "name": "stdout",
     "output_type": "stream",
     "text": [
      "True\n"
     ]
    }
   ],
   "source": [
    "# Greater Than\n",
    "print( x > y)"
   ]
  },
  {
   "cell_type": "code",
   "execution_count": 27,
   "id": "7d2902ca",
   "metadata": {},
   "outputs": [
    {
     "name": "stdout",
     "output_type": "stream",
     "text": [
      "False\n"
     ]
    }
   ],
   "source": [
    "# Less Than\n",
    "print(x < y)"
   ]
  },
  {
   "cell_type": "code",
   "execution_count": 28,
   "id": "cd67df0d",
   "metadata": {},
   "outputs": [
    {
     "name": "stdout",
     "output_type": "stream",
     "text": [
      "False\n"
     ]
    }
   ],
   "source": [
    "# Greater Than or Equal to \n",
    "print(x <= y)"
   ]
  },
  {
   "cell_type": "code",
   "execution_count": 29,
   "id": "26e08394",
   "metadata": {},
   "outputs": [
    {
     "name": "stdout",
     "output_type": "stream",
     "text": [
      "True\n"
     ]
    }
   ],
   "source": [
    "# Less Than or Equal to\n",
    "print(x >= y)"
   ]
  },
  {
   "cell_type": "markdown",
   "id": "06446ef3",
   "metadata": {},
   "source": [
    "# Data Types"
   ]
  },
  {
   "cell_type": "markdown",
   "id": "6c14951b",
   "metadata": {},
   "source": [
    "# 1. Numeric Types :\n",
    "     \n",
    "        I) Integers( int ) - Whole Numbers( Positive, negative or zero)\n",
    "        \n",
    "        II) Float(float) - Numbers with decimal points.\n",
    "        \n",
    "        III) Complex Numbers(complex) - Represent numbers with the real and imaginary part(a + bj)"
   ]
  },
  {
   "cell_type": "markdown",
   "id": "867ba824",
   "metadata": {},
   "source": [
    "1. Integers(int)"
   ]
  },
  {
   "cell_type": "code",
   "execution_count": 31,
   "id": "99165194",
   "metadata": {},
   "outputs": [
    {
     "name": "stdout",
     "output_type": "stream",
     "text": [
      "30 -80 0\n"
     ]
    },
    {
     "data": {
      "text/plain": [
       "int"
      ]
     },
     "execution_count": 31,
     "metadata": {},
     "output_type": "execute_result"
    }
   ],
   "source": [
    "age = 30\n",
    "score = -80\n",
    "count = 0\n",
    "print(age, score, count)\n",
    "type(age)\n",
    "type(score)\n",
    "type(count)"
   ]
  },
  {
   "cell_type": "markdown",
   "id": "ea06e485",
   "metadata": {},
   "source": [
    "2. Floats(float)"
   ]
  },
  {
   "cell_type": "code",
   "execution_count": 32,
   "id": "96216f63",
   "metadata": {},
   "outputs": [
    {
     "name": "stdout",
     "output_type": "stream",
     "text": [
      "87.5 3.14159 -27.3\n"
     ]
    },
    {
     "data": {
      "text/plain": [
       "float"
      ]
     },
     "execution_count": 32,
     "metadata": {},
     "output_type": "execute_result"
    }
   ],
   "source": [
    "average = 87.5\n",
    "pi = 3.14159\n",
    "temperature = -27.3\n",
    "print(average, pi, temperature)\n",
    "type(average)\n",
    "type(pi)\n",
    "type(temperature)"
   ]
  },
  {
   "cell_type": "markdown",
   "id": "27f70b4a",
   "metadata": {},
   "source": [
    "3. Complex Number(complex)"
   ]
  },
  {
   "cell_type": "code",
   "execution_count": 33,
   "id": "f62c946f",
   "metadata": {},
   "outputs": [
    {
     "name": "stdout",
     "output_type": "stream",
     "text": [
      "(3+5j) 7j\n"
     ]
    },
    {
     "data": {
      "text/plain": [
       "complex"
      ]
     },
     "execution_count": 33,
     "metadata": {},
     "output_type": "execute_result"
    }
   ],
   "source": [
    "z1 = 3 + 5j\n",
    "z2 = 7j\n",
    "print(z1, z2)\n",
    "type(z1)\n",
    "type(z2)"
   ]
  },
  {
   "cell_type": "markdown",
   "id": "7d0b5c1b",
   "metadata": {},
   "source": [
    "# 2. String Type(str)"
   ]
  },
  {
   "cell_type": "markdown",
   "id": "2f26a955",
   "metadata": {},
   "source": [
    "Represent sequences of characters enclosed in single or double quotes."
   ]
  },
  {
   "cell_type": "code",
   "execution_count": 34,
   "id": "4669e32a",
   "metadata": {},
   "outputs": [],
   "source": [
    "name = \"Alice\"\n",
    "greeting = \"Hello, world!\"\n",
    "multiline_text = \"\"\" This is a string \n",
    "that spans multiple lines.\"\"\""
   ]
  },
  {
   "cell_type": "code",
   "execution_count": 35,
   "id": "3ace1407",
   "metadata": {},
   "outputs": [
    {
     "name": "stdout",
     "output_type": "stream",
     "text": [
      "Alice Hello, world!  This is a string \n",
      "that spans multiple lines.\n"
     ]
    }
   ],
   "source": [
    "print(name, greeting, multiline_text)"
   ]
  },
  {
   "cell_type": "code",
   "execution_count": 78,
   "id": "8bfbadcb",
   "metadata": {},
   "outputs": [
    {
     "data": {
      "text/plain": [
       "str"
      ]
     },
     "execution_count": 78,
     "metadata": {},
     "output_type": "execute_result"
    }
   ],
   "source": [
    "type(name)\n",
    "type(greeting)\n",
    "type(multiline_text)"
   ]
  },
  {
   "cell_type": "markdown",
   "id": "d05e77b5",
   "metadata": {},
   "source": [
    "# 3. Sequence Types"
   ]
  },
  {
   "cell_type": "markdown",
   "id": "680ff4ba",
   "metadata": {},
   "source": [
    "1. Lists(list) - Oredered, mutable collection of elements enclosed in square brackets[]. Elements can be of different data type."
   ]
  },
  {
   "cell_type": "code",
   "execution_count": 42,
   "id": "0c8d1ddc",
   "metadata": {},
   "outputs": [],
   "source": [
    "fruits= [\"apple\", \"banana\", \"cherry\"]"
   ]
  },
  {
   "cell_type": "code",
   "execution_count": 43,
   "id": "dc7d47b7",
   "metadata": {},
   "outputs": [
    {
     "name": "stdout",
     "output_type": "stream",
     "text": [
      "['apple', 'banana', 'cherry']\n"
     ]
    }
   ],
   "source": [
    "print(fruits)"
   ]
  },
  {
   "cell_type": "code",
   "execution_count": 76,
   "id": "f1c830b7",
   "metadata": {},
   "outputs": [
    {
     "data": {
      "text/plain": [
       "list"
      ]
     },
     "execution_count": 76,
     "metadata": {},
     "output_type": "execute_result"
    }
   ],
   "source": [
    "type(fruits)"
   ]
  },
  {
   "cell_type": "code",
   "execution_count": 44,
   "id": "a5424fd0",
   "metadata": {},
   "outputs": [],
   "source": [
    "numbers = [1, 5, 9, 3]"
   ]
  },
  {
   "cell_type": "code",
   "execution_count": 45,
   "id": "00a31196",
   "metadata": {},
   "outputs": [
    {
     "name": "stdout",
     "output_type": "stream",
     "text": [
      "[1, 5, 9, 3]\n"
     ]
    }
   ],
   "source": [
    "print(numbers)"
   ]
  },
  {
   "cell_type": "code",
   "execution_count": 74,
   "id": "84ffc9d7",
   "metadata": {},
   "outputs": [
    {
     "data": {
      "text/plain": [
       "list"
      ]
     },
     "execution_count": 74,
     "metadata": {},
     "output_type": "execute_result"
    }
   ],
   "source": [
    "type(numbers)"
   ]
  },
  {
   "cell_type": "code",
   "execution_count": 46,
   "id": "d0c1a0ce",
   "metadata": {},
   "outputs": [],
   "source": [
    "mixed_data = [True, 3.14, \"hello\"]"
   ]
  },
  {
   "cell_type": "code",
   "execution_count": 47,
   "id": "1ba511fb",
   "metadata": {},
   "outputs": [
    {
     "name": "stdout",
     "output_type": "stream",
     "text": [
      "[True, 3.14, 'hello']\n"
     ]
    }
   ],
   "source": [
    "print(mixed_data)"
   ]
  },
  {
   "cell_type": "code",
   "execution_count": 73,
   "id": "03cd53d0",
   "metadata": {},
   "outputs": [
    {
     "data": {
      "text/plain": [
       "list"
      ]
     },
     "execution_count": 73,
     "metadata": {},
     "output_type": "execute_result"
    }
   ],
   "source": [
    "type(mixed_data)"
   ]
  },
  {
   "cell_type": "markdown",
   "id": "bcf3e91a",
   "metadata": {},
   "source": [
    "2. Tuples(tuple) - ordered, immutable collection of elements enclosed in parentheses(). Elements can beb of different data types."
   ]
  },
  {
   "cell_type": "code",
   "execution_count": 48,
   "id": "412bdeef",
   "metadata": {},
   "outputs": [],
   "source": [
    "coordinates = (1, 2.5)"
   ]
  },
  {
   "cell_type": "code",
   "execution_count": 49,
   "id": "c703d3b3",
   "metadata": {},
   "outputs": [
    {
     "name": "stdout",
     "output_type": "stream",
     "text": [
      "(1, 2.5)\n"
     ]
    }
   ],
   "source": [
    "print(coordinates)"
   ]
  },
  {
   "cell_type": "code",
   "execution_count": 72,
   "id": "66b54957",
   "metadata": {},
   "outputs": [
    {
     "data": {
      "text/plain": [
       "tuple"
      ]
     },
     "execution_count": 72,
     "metadata": {},
     "output_type": "execute_result"
    }
   ],
   "source": [
    "type(coordinates)"
   ]
  },
  {
   "cell_type": "code",
   "execution_count": 50,
   "id": "2d4ca1e1",
   "metadata": {},
   "outputs": [],
   "source": [
    "empty_tuple = ()"
   ]
  },
  {
   "cell_type": "code",
   "execution_count": 51,
   "id": "efba7a2a",
   "metadata": {},
   "outputs": [
    {
     "name": "stdout",
     "output_type": "stream",
     "text": [
      "()\n"
     ]
    }
   ],
   "source": [
    "print(empty_tuple)"
   ]
  },
  {
   "cell_type": "code",
   "execution_count": 71,
   "id": "e2396afd",
   "metadata": {},
   "outputs": [
    {
     "data": {
      "text/plain": [
       "tuple"
      ]
     },
     "execution_count": 71,
     "metadata": {},
     "output_type": "execute_result"
    }
   ],
   "source": [
    "type(empty_tuple)"
   ]
  },
  {
   "cell_type": "code",
   "execution_count": 52,
   "id": "d29023a2",
   "metadata": {},
   "outputs": [],
   "source": [
    "student = (\"John\", 22, \"CS\")"
   ]
  },
  {
   "cell_type": "code",
   "execution_count": 53,
   "id": "754aef7a",
   "metadata": {},
   "outputs": [
    {
     "name": "stdout",
     "output_type": "stream",
     "text": [
      "('John', 22, 'CS')\n"
     ]
    }
   ],
   "source": [
    "print(student)"
   ]
  },
  {
   "cell_type": "code",
   "execution_count": 70,
   "id": "e3de0956",
   "metadata": {},
   "outputs": [
    {
     "data": {
      "text/plain": [
       "tuple"
      ]
     },
     "execution_count": 70,
     "metadata": {},
     "output_type": "execute_result"
    }
   ],
   "source": [
    "type(student)"
   ]
  },
  {
   "cell_type": "markdown",
   "id": "d810e105",
   "metadata": {},
   "source": [
    "3. Ranges(range) - Represent a sequence of numbers within a specified range. useful for loops."
   ]
  },
  {
   "cell_type": "markdown",
   "id": "5f502e57",
   "metadata": {},
   "source": [
    "# 4. Boolean Type"
   ]
  },
  {
   "cell_type": "markdown",
   "id": "7bb576df",
   "metadata": {},
   "source": [
    "Represent logical values : True or False."
   ]
  },
  {
   "cell_type": "code",
   "execution_count": 54,
   "id": "690c61a6",
   "metadata": {},
   "outputs": [
    {
     "name": "stdout",
     "output_type": "stream",
     "text": [
      "True\n",
      "<class 'bool'>\n"
     ]
    }
   ],
   "source": [
    "x = True\n",
    "print(x)\n",
    "print(type(x))"
   ]
  },
  {
   "cell_type": "markdown",
   "id": "bcfd4d5b",
   "metadata": {},
   "source": [
    "# 5. Set Types"
   ]
  },
  {
   "cell_type": "markdown",
   "id": "eb823ef4",
   "metadata": {},
   "source": [
    "1. Sets(set) - Unordered collection of unique elements enclosed in curly braces { }. Elements must be immutable(e.g., string, integers, not list)"
   ]
  },
  {
   "cell_type": "code",
   "execution_count": 60,
   "id": "269381a2",
   "metadata": {},
   "outputs": [],
   "source": [
    "unique_chars = {\"s\", \"d\", \"m\"}"
   ]
  },
  {
   "cell_type": "code",
   "execution_count": 61,
   "id": "5b9fe738",
   "metadata": {},
   "outputs": [
    {
     "name": "stdout",
     "output_type": "stream",
     "text": [
      "{'d', 's', 'm'}\n"
     ]
    }
   ],
   "source": [
    "print(unique_chars)"
   ]
  },
  {
   "cell_type": "code",
   "execution_count": 63,
   "id": "4231986f",
   "metadata": {},
   "outputs": [
    {
     "data": {
      "text/plain": [
       "set"
      ]
     },
     "execution_count": 63,
     "metadata": {},
     "output_type": "execute_result"
    }
   ],
   "source": [
    "type(unique_chars)"
   ]
  },
  {
   "cell_type": "code",
   "execution_count": 64,
   "id": "1a170276",
   "metadata": {},
   "outputs": [],
   "source": [
    "digits = set([1, 2,4, 5])"
   ]
  },
  {
   "cell_type": "code",
   "execution_count": 65,
   "id": "fdafd82f",
   "metadata": {},
   "outputs": [
    {
     "name": "stdout",
     "output_type": "stream",
     "text": [
      "{1, 2, 4, 5}\n"
     ]
    }
   ],
   "source": [
    "print(digits)"
   ]
  },
  {
   "cell_type": "code",
   "execution_count": 66,
   "id": "4683bb73",
   "metadata": {},
   "outputs": [
    {
     "data": {
      "text/plain": [
       "set"
      ]
     },
     "execution_count": 66,
     "metadata": {},
     "output_type": "execute_result"
    }
   ],
   "source": [
    "type(digits)"
   ]
  },
  {
   "cell_type": "markdown",
   "id": "76e8364a",
   "metadata": {},
   "source": [
    "2. Frozen sets(frozenset) - immutable version of sets. Once created, elements cannot be changed."
   ]
  },
  {
   "cell_type": "code",
   "execution_count": 67,
   "id": "5598882e",
   "metadata": {},
   "outputs": [],
   "source": [
    "frozen_numbers = frozenset({4, 5, 6})"
   ]
  },
  {
   "cell_type": "code",
   "execution_count": 68,
   "id": "35c3f2cc",
   "metadata": {},
   "outputs": [
    {
     "name": "stdout",
     "output_type": "stream",
     "text": [
      "frozenset({4, 5, 6})\n"
     ]
    }
   ],
   "source": [
    "print(frozen_numbers)"
   ]
  },
  {
   "cell_type": "code",
   "execution_count": 69,
   "id": "59cb8af2",
   "metadata": {},
   "outputs": [
    {
     "data": {
      "text/plain": [
       "frozenset"
      ]
     },
     "execution_count": 69,
     "metadata": {},
     "output_type": "execute_result"
    }
   ],
   "source": [
    "type(frozen_numbers)"
   ]
  },
  {
   "cell_type": "code",
   "execution_count": null,
   "id": "22aff7c9",
   "metadata": {},
   "outputs": [],
   "source": []
  }
 ],
 "metadata": {
  "kernelspec": {
   "display_name": "Python 3 (ipykernel)",
   "language": "python",
   "name": "python3"
  },
  "language_info": {
   "codemirror_mode": {
    "name": "ipython",
    "version": 3
   },
   "file_extension": ".py",
   "mimetype": "text/x-python",
   "name": "python",
   "nbconvert_exporter": "python",
   "pygments_lexer": "ipython3",
   "version": "3.9.7"
  }
 },
 "nbformat": 4,
 "nbformat_minor": 5
}
