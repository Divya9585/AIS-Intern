{
 "cells": [
  {
   "cell_type": "markdown",
   "id": "65d38bd3",
   "metadata": {},
   "source": [
    "# Set and Methods"
   ]
  },
  {
   "cell_type": "markdown",
   "id": "aa442730",
   "metadata": {},
   "source": [
    "Set is a collection which is ordered, unchangeble and unindexed.\n",
    "\n",
    "store unique elements.\n",
    "\n",
    "set { }\n"
   ]
  },
  {
   "cell_type": "code",
   "execution_count": 2,
   "id": "f3ddf748",
   "metadata": {},
   "outputs": [],
   "source": [
    "my_set = {3, 56, \"apple\", \"red\", 3.56, 6.89, \"divs\", True}"
   ]
  },
  {
   "cell_type": "code",
   "execution_count": 3,
   "id": "020621d5",
   "metadata": {},
   "outputs": [
    {
     "name": "stdout",
     "output_type": "stream",
     "text": [
      "{True, 'apple', 3, 3.56, 'red', 6.89, 56, 'divs'}\n"
     ]
    }
   ],
   "source": [
    "print(my_set)"
   ]
  },
  {
   "cell_type": "code",
   "execution_count": 4,
   "id": "563a5bd1",
   "metadata": {},
   "outputs": [
    {
     "data": {
      "text/plain": [
       "set"
      ]
     },
     "execution_count": 4,
     "metadata": {},
     "output_type": "execute_result"
    }
   ],
   "source": [
    "type(my_set)"
   ]
  },
  {
   "cell_type": "markdown",
   "id": "28b1b1e7",
   "metadata": {},
   "source": [
    "Duplicates not allowed."
   ]
  },
  {
   "cell_type": "code",
   "execution_count": 5,
   "id": "45135f96",
   "metadata": {},
   "outputs": [],
   "source": [
    "my_set = {3, 56, \"apple\", \"red\", 3.56, 6.89, \"divs\", True, True, 3.56, 3.56, \"red\", \"red\"}"
   ]
  },
  {
   "cell_type": "code",
   "execution_count": 6,
   "id": "c6d7c55b",
   "metadata": {},
   "outputs": [
    {
     "name": "stdout",
     "output_type": "stream",
     "text": [
      "{True, 'apple', 3, 3.56, 'red', 6.89, 56, 'divs'}\n"
     ]
    }
   ],
   "source": [
    "print(my_set)"
   ]
  },
  {
   "cell_type": "code",
   "execution_count": 7,
   "id": "138ef72e",
   "metadata": {},
   "outputs": [
    {
     "data": {
      "text/plain": [
       "8"
      ]
     },
     "execution_count": 7,
     "metadata": {},
     "output_type": "execute_result"
    }
   ],
   "source": [
    "#length of set\n",
    "len(my_set)"
   ]
  },
  {
   "cell_type": "code",
   "execution_count": 8,
   "id": "d4c90309",
   "metadata": {},
   "outputs": [
    {
     "data": {
      "text/plain": [
       "{3, 3.56, 56, 6.89, True, 'apple', 'divs', 'red'}"
      ]
     },
     "execution_count": 8,
     "metadata": {},
     "output_type": "execute_result"
    }
   ],
   "source": [
    "# access set items\n",
    "my_set"
   ]
  },
  {
   "cell_type": "code",
   "execution_count": 9,
   "id": "1b6a2b1f",
   "metadata": {},
   "outputs": [
    {
     "name": "stdout",
     "output_type": "stream",
     "text": [
      "True\n"
     ]
    }
   ],
   "source": [
    "print(\"apple\" in my_set)"
   ]
  },
  {
   "cell_type": "code",
   "execution_count": 10,
   "id": "58bd9f72",
   "metadata": {},
   "outputs": [
    {
     "name": "stdout",
     "output_type": "stream",
     "text": [
      "False\n"
     ]
    }
   ],
   "source": [
    "print(\"apple\" not in my_set)"
   ]
  },
  {
   "cell_type": "code",
   "execution_count": 11,
   "id": "9125a85a",
   "metadata": {},
   "outputs": [
    {
     "data": {
      "text/plain": [
       "{3, 3.56, 56, 6.89, True, 'apple', 'divs', 'red'}"
      ]
     },
     "execution_count": 11,
     "metadata": {},
     "output_type": "execute_result"
    }
   ],
   "source": [
    "# add items\n",
    "my_set"
   ]
  },
  {
   "cell_type": "code",
   "execution_count": 12,
   "id": "a718e043",
   "metadata": {},
   "outputs": [],
   "source": [
    "my_set.add(\"orange\")"
   ]
  },
  {
   "cell_type": "code",
   "execution_count": 13,
   "id": "104fcc3f",
   "metadata": {},
   "outputs": [
    {
     "name": "stdout",
     "output_type": "stream",
     "text": [
      "{True, 'apple', 3, 3.56, 'red', 6.89, 'orange', 56, 'divs'}\n"
     ]
    }
   ],
   "source": [
    "print(my_set)"
   ]
  },
  {
   "cell_type": "markdown",
   "id": "3bba5fa8",
   "metadata": {},
   "source": [
    "add set :  to add items from another set into the current set, use the update() method"
   ]
  },
  {
   "cell_type": "code",
   "execution_count": 14,
   "id": "a4a77f2f",
   "metadata": {},
   "outputs": [
    {
     "data": {
      "text/plain": [
       "{3, 3.56, 56, 6.89, True, 'apple', 'divs', 'orange', 'red'}"
      ]
     },
     "execution_count": 14,
     "metadata": {},
     "output_type": "execute_result"
    }
   ],
   "source": [
    "my_set"
   ]
  },
  {
   "cell_type": "code",
   "execution_count": 15,
   "id": "f965b531",
   "metadata": {},
   "outputs": [],
   "source": [
    "tropical = {\"set\", 34, 66, \"mango\", 6.35}"
   ]
  },
  {
   "cell_type": "code",
   "execution_count": 16,
   "id": "2e09b9b6",
   "metadata": {},
   "outputs": [],
   "source": [
    "my_set.update(tropical)"
   ]
  },
  {
   "cell_type": "code",
   "execution_count": 17,
   "id": "1577f5a4",
   "metadata": {},
   "outputs": [
    {
     "name": "stdout",
     "output_type": "stream",
     "text": [
      "{True, 'apple', 3, 3.56, 'red', 6.89, 'mango', 34, 66, 'orange', 6.35, 'set', 56, 'divs'}\n"
     ]
    }
   ],
   "source": [
    "print(my_set)"
   ]
  },
  {
   "cell_type": "code",
   "execution_count": 18,
   "id": "e61fdd7f",
   "metadata": {},
   "outputs": [
    {
     "data": {
      "text/plain": [
       "{3,\n",
       " 3.56,\n",
       " 34,\n",
       " 56,\n",
       " 6.35,\n",
       " 6.89,\n",
       " 66,\n",
       " True,\n",
       " 'apple',\n",
       " 'divs',\n",
       " 'mango',\n",
       " 'orange',\n",
       " 'red',\n",
       " 'set'}"
      ]
     },
     "execution_count": 18,
     "metadata": {},
     "output_type": "execute_result"
    }
   ],
   "source": [
    "# add any iterable\n",
    "my_set"
   ]
  },
  {
   "cell_type": "code",
   "execution_count": 19,
   "id": "d5639b4c",
   "metadata": {},
   "outputs": [],
   "source": [
    "mylist = [45, \"divya\", 67]"
   ]
  },
  {
   "cell_type": "code",
   "execution_count": 20,
   "id": "56607d82",
   "metadata": {},
   "outputs": [],
   "source": [
    "my_set.update(mylist)"
   ]
  },
  {
   "cell_type": "code",
   "execution_count": 21,
   "id": "69e5363e",
   "metadata": {},
   "outputs": [
    {
     "name": "stdout",
     "output_type": "stream",
     "text": [
      "{True, 'apple', 3, 3.56, 'red', 6.89, 'mango', 34, 66, 'orange', 6.35, 'divya', 45, 'set', 67, 56, 'divs'}\n"
     ]
    }
   ],
   "source": [
    "print(my_set)"
   ]
  },
  {
   "cell_type": "markdown",
   "id": "f0f3a666",
   "metadata": {},
   "source": [
    "Remove Set Items : to remove an item in a set, use the remove(), or the discard() method."
   ]
  },
  {
   "cell_type": "code",
   "execution_count": 22,
   "id": "424903c6",
   "metadata": {},
   "outputs": [
    {
     "data": {
      "text/plain": [
       "{3,\n",
       " 3.56,\n",
       " 34,\n",
       " 45,\n",
       " 56,\n",
       " 6.35,\n",
       " 6.89,\n",
       " 66,\n",
       " 67,\n",
       " True,\n",
       " 'apple',\n",
       " 'divs',\n",
       " 'divya',\n",
       " 'mango',\n",
       " 'orange',\n",
       " 'red',\n",
       " 'set'}"
      ]
     },
     "execution_count": 22,
     "metadata": {},
     "output_type": "execute_result"
    }
   ],
   "source": [
    "my_set"
   ]
  },
  {
   "cell_type": "code",
   "execution_count": 23,
   "id": "d2899830",
   "metadata": {},
   "outputs": [],
   "source": [
    "my_set.remove(\"mango\")"
   ]
  },
  {
   "cell_type": "code",
   "execution_count": 24,
   "id": "c5f215f7",
   "metadata": {},
   "outputs": [
    {
     "data": {
      "text/plain": [
       "{3,\n",
       " 3.56,\n",
       " 34,\n",
       " 45,\n",
       " 56,\n",
       " 6.35,\n",
       " 6.89,\n",
       " 66,\n",
       " 67,\n",
       " True,\n",
       " 'apple',\n",
       " 'divs',\n",
       " 'divya',\n",
       " 'orange',\n",
       " 'red',\n",
       " 'set'}"
      ]
     },
     "execution_count": 24,
     "metadata": {},
     "output_type": "execute_result"
    }
   ],
   "source": [
    "my_set"
   ]
  },
  {
   "cell_type": "code",
   "execution_count": 25,
   "id": "2b7b20c6",
   "metadata": {},
   "outputs": [],
   "source": [
    "my_set.discard(3)"
   ]
  },
  {
   "cell_type": "code",
   "execution_count": 26,
   "id": "da50ceef",
   "metadata": {},
   "outputs": [
    {
     "data": {
      "text/plain": [
       "{3.56,\n",
       " 34,\n",
       " 45,\n",
       " 56,\n",
       " 6.35,\n",
       " 6.89,\n",
       " 66,\n",
       " 67,\n",
       " True,\n",
       " 'apple',\n",
       " 'divs',\n",
       " 'divya',\n",
       " 'orange',\n",
       " 'red',\n",
       " 'set'}"
      ]
     },
     "execution_count": 26,
     "metadata": {},
     "output_type": "execute_result"
    }
   ],
   "source": [
    "my_set"
   ]
  },
  {
   "cell_type": "markdown",
   "id": "56c0c2cc",
   "metadata": {},
   "source": [
    "we also use the pop() method to remove an item, but this method will remove a random item, so you cannot be sure what item that gets removed."
   ]
  },
  {
   "cell_type": "code",
   "execution_count": 27,
   "id": "04b7b336",
   "metadata": {},
   "outputs": [],
   "source": [
    "x = my_set.pop()"
   ]
  },
  {
   "cell_type": "code",
   "execution_count": 28,
   "id": "3c2ab0ba",
   "metadata": {},
   "outputs": [
    {
     "name": "stdout",
     "output_type": "stream",
     "text": [
      "True\n"
     ]
    }
   ],
   "source": [
    "print(x)"
   ]
  },
  {
   "cell_type": "code",
   "execution_count": 29,
   "id": "97592920",
   "metadata": {},
   "outputs": [
    {
     "name": "stdout",
     "output_type": "stream",
     "text": [
      "{'apple', 3.56, 'red', 6.89, 34, 66, 'orange', 6.35, 'divya', 45, 'set', 67, 56, 'divs'}\n"
     ]
    }
   ],
   "source": [
    "print(my_set)"
   ]
  },
  {
   "cell_type": "code",
   "execution_count": 30,
   "id": "d6664f52",
   "metadata": {},
   "outputs": [],
   "source": [
    "# clear method empties the set\n",
    "my_set.clear()"
   ]
  },
  {
   "cell_type": "code",
   "execution_count": 31,
   "id": "e5a2a9c8",
   "metadata": {},
   "outputs": [
    {
     "name": "stdout",
     "output_type": "stream",
     "text": [
      "set()\n"
     ]
    }
   ],
   "source": [
    "print(my_set)"
   ]
  },
  {
   "cell_type": "code",
   "execution_count": 32,
   "id": "7bf1159e",
   "metadata": {},
   "outputs": [],
   "source": [
    "myset = {\"red\", 89, 3, \"grapes\"}"
   ]
  },
  {
   "cell_type": "code",
   "execution_count": 33,
   "id": "803be5d5",
   "metadata": {},
   "outputs": [
    {
     "name": "stdout",
     "output_type": "stream",
     "text": [
      "{89, 3, 'red', 'grapes'}\n"
     ]
    }
   ],
   "source": [
    "print(myset)"
   ]
  },
  {
   "cell_type": "code",
   "execution_count": 34,
   "id": "9adb43ea",
   "metadata": {},
   "outputs": [],
   "source": [
    "del myset"
   ]
  },
  {
   "cell_type": "code",
   "execution_count": 35,
   "id": "9481b9bf",
   "metadata": {},
   "outputs": [
    {
     "ename": "NameError",
     "evalue": "name 'myset' is not defined",
     "output_type": "error",
     "traceback": [
      "\u001b[1;31m---------------------------------------------------------------------------\u001b[0m",
      "\u001b[1;31mNameError\u001b[0m                                 Traceback (most recent call last)",
      "\u001b[1;32m~\\AppData\\Local\\Temp/ipykernel_12752/3491448937.py\u001b[0m in \u001b[0;36m<module>\u001b[1;34m\u001b[0m\n\u001b[1;32m----> 1\u001b[1;33m \u001b[0mprint\u001b[0m\u001b[1;33m(\u001b[0m\u001b[0mmyset\u001b[0m\u001b[1;33m)\u001b[0m\u001b[1;33m\u001b[0m\u001b[1;33m\u001b[0m\u001b[0m\n\u001b[0m",
      "\u001b[1;31mNameError\u001b[0m: name 'myset' is not defined"
     ]
    }
   ],
   "source": [
    "print(myset)"
   ]
  },
  {
   "cell_type": "markdown",
   "id": "b00371bd",
   "metadata": {},
   "source": [
    "Join Sets :\n",
    "\n",
    "There are several ways to join two or more sets in Python.\n",
    "\n",
    "The union() and update() methods joins all items from both sets.\n",
    "\n",
    "The intersection() method keeps ONLY the duplicates.\n",
    "\n",
    "The difference() method keeps the items from the first set that are not in the other set(s).\n",
    "\n",
    "The symmetric_difference() method keeps all items EXCEPT the duplicates."
   ]
  },
  {
   "cell_type": "markdown",
   "id": "c129cdb6",
   "metadata": {},
   "source": [
    "union() or (|) : the union() method returns a new set with all items from both sets."
   ]
  },
  {
   "cell_type": "code",
   "execution_count": 36,
   "id": "2408bdf7",
   "metadata": {},
   "outputs": [],
   "source": [
    "set1 = { \"a\", \"b\", \"c\" }"
   ]
  },
  {
   "cell_type": "code",
   "execution_count": 37,
   "id": "5cb4bfdb",
   "metadata": {},
   "outputs": [],
   "source": [
    "set2 = {1, 2, 3}"
   ]
  },
  {
   "cell_type": "code",
   "execution_count": 38,
   "id": "2e10ed68",
   "metadata": {},
   "outputs": [],
   "source": [
    "set3 = set1.union(set2)"
   ]
  },
  {
   "cell_type": "code",
   "execution_count": 39,
   "id": "a2afcc56",
   "metadata": {},
   "outputs": [
    {
     "name": "stdout",
     "output_type": "stream",
     "text": [
      "{1, 'b', 'c', 2, 3, 'a'}\n"
     ]
    }
   ],
   "source": [
    "print(set3)"
   ]
  },
  {
   "cell_type": "code",
   "execution_count": 40,
   "id": "e3b4054c",
   "metadata": {},
   "outputs": [],
   "source": [
    "# join multiple sets\n",
    "set1 = { \"a\", \"b\", \"c\" }"
   ]
  },
  {
   "cell_type": "code",
   "execution_count": 41,
   "id": "8efcf017",
   "metadata": {},
   "outputs": [],
   "source": [
    "set2 = {1, 2, 3}"
   ]
  },
  {
   "cell_type": "code",
   "execution_count": 42,
   "id": "bfbd18bc",
   "metadata": {},
   "outputs": [],
   "source": [
    "set3 = {\"John\", \"Elena\"}"
   ]
  },
  {
   "cell_type": "code",
   "execution_count": 43,
   "id": "97505891",
   "metadata": {},
   "outputs": [],
   "source": [
    "set4 = {\"apple\", \"banana\", \"cherry\"}"
   ]
  },
  {
   "cell_type": "code",
   "execution_count": 44,
   "id": "6b95cba1",
   "metadata": {},
   "outputs": [],
   "source": [
    "myset = set1.union(set2, set3, set4)"
   ]
  },
  {
   "cell_type": "code",
   "execution_count": 45,
   "id": "d984ceb0",
   "metadata": {},
   "outputs": [
    {
     "name": "stdout",
     "output_type": "stream",
     "text": [
      "{1, 'b', 2, 3, 'apple', 'cherry', 'banana', 'c', 'Elena', 'John', 'a'}\n"
     ]
    }
   ],
   "source": [
    "print(myset)"
   ]
  },
  {
   "cell_type": "markdown",
   "id": "8497135c",
   "metadata": {},
   "source": [
    "Update :\n",
    "    \n",
    "The update() method inserts all items from one set into another.\n",
    "\n",
    "The update() changes the original set, and does not return a new set."
   ]
  },
  {
   "cell_type": "code",
   "execution_count": 46,
   "id": "2e823220",
   "metadata": {},
   "outputs": [],
   "source": [
    "set1 = {\"a\", \"b\", \"c\"}"
   ]
  },
  {
   "cell_type": "code",
   "execution_count": 47,
   "id": "bebe6b16",
   "metadata": {},
   "outputs": [],
   "source": [
    "set2 = {1, 2, 3}"
   ]
  },
  {
   "cell_type": "code",
   "execution_count": 48,
   "id": "c2ba52ab",
   "metadata": {},
   "outputs": [],
   "source": [
    "set1.update(set2)"
   ]
  },
  {
   "cell_type": "code",
   "execution_count": 49,
   "id": "bfe8c95b",
   "metadata": {},
   "outputs": [
    {
     "name": "stdout",
     "output_type": "stream",
     "text": [
      "{1, 'b', 'c', 2, 3, 'a'}\n"
     ]
    }
   ],
   "source": [
    "print(set1)"
   ]
  },
  {
   "cell_type": "markdown",
   "id": "0f9284a8",
   "metadata": {},
   "source": [
    "Intersection or (&) : Keep ONLY the duplicates\n",
    "\n",
    "The intersection() method will return a new set, that only contains the items that are present in both sets."
   ]
  },
  {
   "cell_type": "code",
   "execution_count": 50,
   "id": "adb33f5a",
   "metadata": {},
   "outputs": [],
   "source": [
    "set1 = {34, 3.56, 980}\n",
    "set2 = {34, \"apple\", \"red\"}"
   ]
  },
  {
   "cell_type": "code",
   "execution_count": 51,
   "id": "0c362ca2",
   "metadata": {},
   "outputs": [],
   "source": [
    "set3 = set1.intersection(set2)"
   ]
  },
  {
   "cell_type": "code",
   "execution_count": 52,
   "id": "d57dc095",
   "metadata": {},
   "outputs": [
    {
     "name": "stdout",
     "output_type": "stream",
     "text": [
      "{34}\n"
     ]
    }
   ],
   "source": [
    "print(set3)"
   ]
  },
  {
   "cell_type": "code",
   "execution_count": 53,
   "id": "eb2a46e9",
   "metadata": {},
   "outputs": [],
   "source": [
    "set4 = set1 & set2"
   ]
  },
  {
   "cell_type": "code",
   "execution_count": 54,
   "id": "d85413e8",
   "metadata": {},
   "outputs": [
    {
     "name": "stdout",
     "output_type": "stream",
     "text": [
      "{34}\n"
     ]
    }
   ],
   "source": [
    "print(set4)"
   ]
  },
  {
   "cell_type": "markdown",
   "id": "8b11c58b",
   "metadata": {},
   "source": [
    "Difference or ( - ) : The difference() method will return a new set that will contain only the items from the first set that are not present in the other set."
   ]
  },
  {
   "cell_type": "code",
   "execution_count": 55,
   "id": "3ddbeb86",
   "metadata": {},
   "outputs": [
    {
     "name": "stdout",
     "output_type": "stream",
     "text": [
      "{34, 3.56, 980}\n",
      "{'apple', 34, 'red'}\n"
     ]
    }
   ],
   "source": [
    "print(set1)\n",
    "print(set2)"
   ]
  },
  {
   "cell_type": "code",
   "execution_count": 56,
   "id": "3a0909f3",
   "metadata": {},
   "outputs": [],
   "source": [
    "set3 = set1.difference(set2)"
   ]
  },
  {
   "cell_type": "code",
   "execution_count": 57,
   "id": "49ad4923",
   "metadata": {},
   "outputs": [
    {
     "name": "stdout",
     "output_type": "stream",
     "text": [
      "{3.56, 980}\n"
     ]
    }
   ],
   "source": [
    "print(set3)"
   ]
  },
  {
   "cell_type": "markdown",
   "id": "e95f32ff",
   "metadata": {},
   "source": [
    "Symmetric Differences or ( ^ ): The symmetric_difference() method will keep only the elements that are NOT present in both sets."
   ]
  },
  {
   "cell_type": "code",
   "execution_count": 59,
   "id": "9551e0ac",
   "metadata": {},
   "outputs": [
    {
     "name": "stdout",
     "output_type": "stream",
     "text": [
      "{34, 3.56, 980}\n",
      "{'apple', 34, 'red'}\n"
     ]
    }
   ],
   "source": [
    "print(set1)\n",
    "print(set2)"
   ]
  },
  {
   "cell_type": "code",
   "execution_count": 60,
   "id": "2ca4db77",
   "metadata": {},
   "outputs": [],
   "source": [
    "set3 = set1.symmetric_difference(set2)"
   ]
  },
  {
   "cell_type": "code",
   "execution_count": 61,
   "id": "a12f2ad4",
   "metadata": {},
   "outputs": [
    {
     "name": "stdout",
     "output_type": "stream",
     "text": [
      "{'apple', 3.56, 'red', 980}\n"
     ]
    }
   ],
   "source": [
    "print(set3)"
   ]
  },
  {
   "cell_type": "code",
   "execution_count": null,
   "id": "713481ee",
   "metadata": {},
   "outputs": [],
   "source": []
  }
 ],
 "metadata": {
  "kernelspec": {
   "display_name": "Python 3 (ipykernel)",
   "language": "python",
   "name": "python3"
  },
  "language_info": {
   "codemirror_mode": {
    "name": "ipython",
    "version": 3
   },
   "file_extension": ".py",
   "mimetype": "text/x-python",
   "name": "python",
   "nbconvert_exporter": "python",
   "pygments_lexer": "ipython3",
   "version": "3.9.7"
  }
 },
 "nbformat": 4,
 "nbformat_minor": 5
}
