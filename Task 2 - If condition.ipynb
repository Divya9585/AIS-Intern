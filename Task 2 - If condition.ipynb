{
 "cells": [
  {
   "cell_type": "markdown",
   "id": "45af5e93",
   "metadata": {},
   "source": [
    "# If condition"
   ]
  },
  {
   "cell_type": "markdown",
   "id": "d1c97133",
   "metadata": {},
   "source": [
    "If condition introduces the if statement.\n",
    "\n",
    "The condition is an expression that evaluates to either True or False.\n",
    "\n",
    "It can involved comparisons (like a == b, x > y), logical operators (like and, or, not), or any expression that can be evaluated to a boolean value.\n",
    "\n"
   ]
  },
  {
   "cell_type": "code",
   "execution_count": 1,
   "id": "0fbd9877",
   "metadata": {},
   "outputs": [
    {
     "name": "stdout",
     "output_type": "stream",
     "text": [
      "b is greater than a\n"
     ]
    }
   ],
   "source": [
    "a = 199\n",
    "b = 500\n",
    "if b > a:\n",
    "    print(\"b is greater than a\")"
   ]
  },
  {
   "cell_type": "code",
   "execution_count": 6,
   "id": "d5228da1",
   "metadata": {},
   "outputs": [
    {
     "name": "stdout",
     "output_type": "stream",
     "text": [
      "10 is even\n"
     ]
    }
   ],
   "source": [
    "# printing a message if a number is even\n",
    "number = 10\n",
    "if number % 2 == 0:\n",
    "    print(f\"{number} is even\")"
   ]
  },
  {
   "cell_type": "code",
   "execution_count": 7,
   "id": "bddd7204",
   "metadata": {},
   "outputs": [
    {
     "name": "stdout",
     "output_type": "stream",
     "text": [
      "please enter your name\n"
     ]
    }
   ],
   "source": [
    "# checking if the string is empty\n",
    "name = \"\"\n",
    "if not name:\n",
    "    print(\"please enter your name\")"
   ]
  },
  {
   "cell_type": "code",
   "execution_count": 8,
   "id": "14035e7c",
   "metadata": {},
   "outputs": [],
   "source": [
    "# appdending to a list if a condition is met\n",
    "items = [\"apple\", \"banana\"]\n",
    "new_item = \"orange\"\n",
    "if len(items) < 5:\n",
    "    items.append(new_item)"
   ]
  },
  {
   "cell_type": "code",
   "execution_count": 9,
   "id": "79b18670",
   "metadata": {},
   "outputs": [
    {
     "name": "stdout",
     "output_type": "stream",
     "text": [
      "['apple', 'banana', 'orange']\n"
     ]
    }
   ],
   "source": [
    "print(items)"
   ]
  },
  {
   "cell_type": "code",
   "execution_count": 10,
   "id": "60593943",
   "metadata": {},
   "outputs": [],
   "source": [
    "# skipping code if value is not found\n",
    "data = {\"name\" : \"alice\", \"age\" : 30}\n",
    "key = \"city\"\n",
    "if key in data :\n",
    "    print(\"{key} : {data[key]}\")"
   ]
  },
  {
   "cell_type": "code",
   "execution_count": 11,
   "id": "1ff18521",
   "metadata": {},
   "outputs": [
    {
     "name": "stdout",
     "output_type": "stream",
     "text": [
      "{'name': 'alice', 'age': 30}\n"
     ]
    }
   ],
   "source": [
    "print(data)"
   ]
  },
  {
   "cell_type": "code",
   "execution_count": 12,
   "id": "41952c77",
   "metadata": {},
   "outputs": [
    {
     "name": "stdout",
     "output_type": "stream",
     "text": [
      "great\n"
     ]
    }
   ],
   "source": [
    "# chaining multiple if conditions \n",
    "grade = 88\n",
    "if grade >= 90:\n",
    "    print(\"Excellent!\")\n",
    "if grade >= 80:\n",
    "    print(\"great\")"
   ]
  },
  {
   "cell_type": "code",
   "execution_count": 21,
   "id": "4545acf5",
   "metadata": {},
   "outputs": [
    {
     "name": "stdout",
     "output_type": "stream",
     "text": [
      "enter password : seryrr\n"
     ]
    }
   ],
   "source": [
    "# Granting access if a password is correct\n",
    "password = \"secret\"\n",
    "user_input = input(\"enter password : \")\n",
    "if password == user_input:\n",
    "    print(\"Access Granted\")"
   ]
  },
  {
   "cell_type": "code",
   "execution_count": 22,
   "id": "2926baa1",
   "metadata": {},
   "outputs": [
    {
     "name": "stdout",
     "output_type": "stream",
     "text": [
      "Enter the flouvr :mango\n",
      "Icecream flouvr is available\n"
     ]
    }
   ],
   "source": [
    "# Available flouvr of icecream in shop\n",
    "available = \"mango\"\n",
    "user_input = input(\"Enter the flouvr :\")\n",
    "if available == user_input:\n",
    "    print(\"Icecream flouvr is available\")"
   ]
  },
  {
   "cell_type": "code",
   "execution_count": 26,
   "id": "d85991e3",
   "metadata": {},
   "outputs": [
    {
     "name": "stdout",
     "output_type": "stream",
     "text": [
      "33\n",
      "22\n",
      "a is different from b\n"
     ]
    }
   ],
   "source": [
    "#checking a and b are same or not\n",
    "a = input()\n",
    "b = input()\n",
    "if a != b :\n",
    "    print(\"a is different from b\")"
   ]
  },
  {
   "cell_type": "code",
   "execution_count": 28,
   "id": "0f9b245f",
   "metadata": {},
   "outputs": [
    {
     "name": "stdout",
     "output_type": "stream",
     "text": [
      "7 is between 5 and 10\n"
     ]
    }
   ],
   "source": [
    "# checking a number is within a specific range\n",
    "number = 7 \n",
    "if 5 <= number <= 10:\n",
    "    print(\"7 is between 5 and 10\")"
   ]
  },
  {
   "cell_type": "code",
   "execution_count": 32,
   "id": "a7fb31a8",
   "metadata": {},
   "outputs": [
    {
     "name": "stdout",
     "output_type": "stream",
     "text": [
      "the string 'Hello, world!' contains an exclamation point.\n"
     ]
    }
   ],
   "source": [
    "# checking if a string contains a specific character\n",
    "text = \"Hello, world!\"\n",
    "if \"!\" in text:\n",
    "    print(\"the string 'Hello, world!' contains an exclamation point.\")"
   ]
  },
  {
   "cell_type": "code",
   "execution_count": null,
   "id": "89045049",
   "metadata": {},
   "outputs": [],
   "source": []
  }
 ],
 "metadata": {
  "kernelspec": {
   "display_name": "Python 3 (ipykernel)",
   "language": "python",
   "name": "python3"
  },
  "language_info": {
   "codemirror_mode": {
    "name": "ipython",
    "version": 3
   },
   "file_extension": ".py",
   "mimetype": "text/x-python",
   "name": "python",
   "nbconvert_exporter": "python",
   "pygments_lexer": "ipython3",
   "version": "3.9.7"
  }
 },
 "nbformat": 4,
 "nbformat_minor": 5
}
