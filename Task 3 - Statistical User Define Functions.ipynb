{
 "cells": [
  {
   "cell_type": "markdown",
   "id": "e9e7490b",
   "metadata": {},
   "source": [
    "# Statistical User Define functions"
   ]
  },
  {
   "cell_type": "code",
   "execution_count": 1,
   "id": "6ef4363f",
   "metadata": {},
   "outputs": [],
   "source": [
    "# mean\n",
    "def mean(data):\n",
    "    # taking sum of all items in data\n",
    "    sum_data = sum(data)\n",
    "    print(sum_data)\n",
    "    # counting the length of data\n",
    "    len_data = len(data)\n",
    "    print(len_data)\n",
    "    mean_data = sum_data / len_data\n",
    "    return mean_data"
   ]
  },
  {
   "cell_type": "code",
   "execution_count": 2,
   "id": "c50af503",
   "metadata": {},
   "outputs": [],
   "source": [
    "data = (2, 4, 6, 2, 4, 2, 4)"
   ]
  },
  {
   "cell_type": "code",
   "execution_count": 3,
   "id": "99e1cae0",
   "metadata": {},
   "outputs": [
    {
     "name": "stdout",
     "output_type": "stream",
     "text": [
      "24\n",
      "7\n"
     ]
    },
    {
     "data": {
      "text/plain": [
       "3.4285714285714284"
      ]
     },
     "execution_count": 3,
     "metadata": {},
     "output_type": "execute_result"
    }
   ],
   "source": [
    "mean(data)"
   ]
  },
  {
   "cell_type": "code",
   "execution_count": 4,
   "id": "7699201c",
   "metadata": {},
   "outputs": [],
   "source": [
    "def variance(data):\n",
    "    m = mean(data)\n",
    "    return sum((x - m) ** 2 for x in data) / len(data)"
   ]
  },
  {
   "cell_type": "code",
   "execution_count": 5,
   "id": "ed41debe",
   "metadata": {},
   "outputs": [
    {
     "name": "stdout",
     "output_type": "stream",
     "text": [
      "24\n",
      "7\n"
     ]
    },
    {
     "data": {
      "text/plain": [
       "1.959183673469388"
      ]
     },
     "execution_count": 5,
     "metadata": {},
     "output_type": "execute_result"
    }
   ],
   "source": [
    "variance(data)"
   ]
  },
  {
   "cell_type": "code",
   "execution_count": 6,
   "id": "d3f51565",
   "metadata": {},
   "outputs": [],
   "source": [
    "# standard deviation\n",
    "import math\n",
    "def stand_deviation(data):\n",
    "    stand_deviation = math.sqrt(variance(data))\n",
    "    return stand_deviation"
   ]
  },
  {
   "cell_type": "code",
   "execution_count": 7,
   "id": "202949ca",
   "metadata": {},
   "outputs": [
    {
     "name": "stdout",
     "output_type": "stream",
     "text": [
      "24\n",
      "7\n"
     ]
    },
    {
     "data": {
      "text/plain": [
       "1.3997084244475304"
      ]
     },
     "execution_count": 7,
     "metadata": {},
     "output_type": "execute_result"
    }
   ],
   "source": [
    "stand_deviation(data)"
   ]
  },
  {
   "cell_type": "code",
   "execution_count": 8,
   "id": "5a9674c2",
   "metadata": {},
   "outputs": [],
   "source": [
    "# median\n",
    "\n",
    "def median(data):\n",
    "    len_data = len(data)\n",
    "    sort_data = sorted(data)\n",
    "    middle_data = len_data // 2\n",
    "    if len_data % 2 == 0:\n",
    "        print(sort_data[middle_data] + sort_data([middle_data]+1))/2\n",
    "    else:\n",
    "        return sort_data[middle_data]"
   ]
  },
  {
   "cell_type": "code",
   "execution_count": 9,
   "id": "d12232d2",
   "metadata": {},
   "outputs": [
    {
     "data": {
      "text/plain": [
       "4"
      ]
     },
     "execution_count": 9,
     "metadata": {},
     "output_type": "execute_result"
    }
   ],
   "source": [
    "median(data)"
   ]
  },
  {
   "cell_type": "code",
   "execution_count": 10,
   "id": "f819bed8",
   "metadata": {},
   "outputs": [],
   "source": [
    "# range\n",
    "def range_data(data):\n",
    "    range_data = max(data) - min(data)\n",
    "    return range_data"
   ]
  },
  {
   "cell_type": "code",
   "execution_count": 11,
   "id": "8d5a3990",
   "metadata": {},
   "outputs": [
    {
     "data": {
      "text/plain": [
       "4"
      ]
     },
     "execution_count": 11,
     "metadata": {},
     "output_type": "execute_result"
    }
   ],
   "source": [
    "range_data(data)"
   ]
  },
  {
   "cell_type": "code",
   "execution_count": 12,
   "id": "e99d5582",
   "metadata": {},
   "outputs": [],
   "source": [
    "# Quartiles\n",
    "def quartiles(data):\n",
    "    sort_data = sorted(data)\n",
    "    len_data = len(data)\n",
    "    middle_data = len_data // 2\n",
    "    \n",
    "    if middle_data % 2 == 0:\n",
    "        lower_half = sort_data[:len_data // 2]\n",
    "        upper_half = sort_data[len_data // 2:]\n",
    "    else:\n",
    "        lower_half = sort_data[:len_data // 2]\n",
    "        upper_half = sort_data[len_data // 2 + 1:]\n",
    "        \n",
    "    Q1 = median(lower_half)\n",
    "    Q2 = median(data)\n",
    "    Q3 = median(upper_half)\n",
    "    return Q1, Q2, Q3"
   ]
  },
  {
   "cell_type": "code",
   "execution_count": 13,
   "id": "6b3329d5",
   "metadata": {},
   "outputs": [
    {
     "data": {
      "text/plain": [
       "(2, 4, 4)"
      ]
     },
     "execution_count": 13,
     "metadata": {},
     "output_type": "execute_result"
    }
   ],
   "source": [
    "quartiles(data)"
   ]
  },
  {
   "cell_type": "code",
   "execution_count": 14,
   "id": "2d2d37f3",
   "metadata": {},
   "outputs": [],
   "source": [
    "#quartile deviation\n",
    "def quart_deviation(data):\n",
    "    sort_data = sorted(data)\n",
    "    len_data = len(data)\n",
    "    middle_data = len_data // 2\n",
    "    \n",
    "    if middle_data % 2 == 0:\n",
    "        lower_half = sort_data[:len_data // 2]\n",
    "        upper_half = sort_data[len_data // 2:]\n",
    "    else:\n",
    "        lower_half = sort_data[:len_data // 2]\n",
    "        upper_half = sort_data[len_data // 2 + 1:]\n",
    "        \n",
    "    Q1 = median(lower_half)\n",
    "    Q2 = median(data)\n",
    "    Q3 = median(upper_half)\n",
    "    quart_deviation = (Q3 - Q1)/2\n",
    "    return quart_deviation"
   ]
  },
  {
   "cell_type": "code",
   "execution_count": 15,
   "id": "c868c4e3",
   "metadata": {},
   "outputs": [
    {
     "data": {
      "text/plain": [
       "1.0"
      ]
     },
     "execution_count": 15,
     "metadata": {},
     "output_type": "execute_result"
    }
   ],
   "source": [
    "quart_deviation(data)"
   ]
  },
  {
   "cell_type": "code",
   "execution_count": 16,
   "id": "8f72c6a1",
   "metadata": {},
   "outputs": [],
   "source": [
    "# inter-quartile range\n",
    "def inter_quartile_range(data):\n",
    "    sort_data = sorted(data)\n",
    "    len_data = len(data)\n",
    "    middle_data = len_data // 2\n",
    "    \n",
    "    if middle_data % 2 == 0:\n",
    "        lower_half = sort_data[:len_data // 2]\n",
    "        upper_half = sort_data[len_data // 2:]\n",
    "    else:\n",
    "        lower_half = sort_data[:len_data // 2]\n",
    "        upper_half = sort_data[len_data // 2 + 1:]\n",
    "        \n",
    "    Q1 = median(lower_half)\n",
    "    Q2 = median(data)\n",
    "    Q3 = median(upper_half)\n",
    "    inter_quartile_range = Q3 - Q1\n",
    "    return inter_quartile_range"
   ]
  },
  {
   "cell_type": "code",
   "execution_count": 17,
   "id": "a612dff2",
   "metadata": {},
   "outputs": [
    {
     "data": {
      "text/plain": [
       "2"
      ]
     },
     "execution_count": 17,
     "metadata": {},
     "output_type": "execute_result"
    }
   ],
   "source": [
    "inter_quartile_range(data)"
   ]
  },
  {
   "cell_type": "code",
   "execution_count": 18,
   "id": "656e2525",
   "metadata": {},
   "outputs": [],
   "source": [
    "def z_score(data, x):\n",
    "    m = mean(data)\n",
    "    sd = stand_deviation(data)\n",
    "    return (x - m) / sd\n",
    "\n"
   ]
  },
  {
   "cell_type": "code",
   "execution_count": 19,
   "id": "4e6195aa",
   "metadata": {},
   "outputs": [
    {
     "name": "stdout",
     "output_type": "stream",
     "text": [
      "24\n",
      "7\n",
      "24\n",
      "7\n"
     ]
    },
    {
     "data": {
      "text/plain": [
       "0.40824829046386313"
      ]
     },
     "execution_count": 19,
     "metadata": {},
     "output_type": "execute_result"
    }
   ],
   "source": [
    "z_score(data, 4)"
   ]
  },
  {
   "cell_type": "code",
   "execution_count": 20,
   "id": "dbb14c1a",
   "metadata": {},
   "outputs": [],
   "source": [
    "\n",
    "data1 = [1, 2, 3, 4, 5]\n",
    "data2 = [2, 4, 6, 8, 10]\n"
   ]
  },
  {
   "cell_type": "code",
   "execution_count": 21,
   "id": "85db0363",
   "metadata": {},
   "outputs": [],
   "source": [
    "def covariance(data1, data2):\n",
    "    n = len(data1)\n",
    "    mean1 = mean(data1)\n",
    "    mean2 = mean(data2)\n",
    "    return sum((data1[i] - mean1) * (data2[i] - mean2) for i in range(n)) / n\n",
    "\n",
    "\n"
   ]
  },
  {
   "cell_type": "code",
   "execution_count": 22,
   "id": "3c664b58",
   "metadata": {},
   "outputs": [
    {
     "name": "stdout",
     "output_type": "stream",
     "text": [
      "15\n",
      "5\n",
      "30\n",
      "5\n",
      "4.0\n"
     ]
    }
   ],
   "source": [
    "print(covariance(data1, data2)) "
   ]
  },
  {
   "cell_type": "code",
   "execution_count": 23,
   "id": "1e3da5b3",
   "metadata": {},
   "outputs": [],
   "source": [
    "# standard dev\n",
    "def stand_deviation(data):\n",
    "    stand_deviation = (variance(data))**0.5\n",
    "    return stand_deviation"
   ]
  },
  {
   "cell_type": "code",
   "execution_count": 24,
   "id": "5fe98e2c",
   "metadata": {},
   "outputs": [
    {
     "name": "stdout",
     "output_type": "stream",
     "text": [
      "24\n",
      "7\n"
     ]
    },
    {
     "data": {
      "text/plain": [
       "1.3997084244475304"
      ]
     },
     "execution_count": 24,
     "metadata": {},
     "output_type": "execute_result"
    }
   ],
   "source": [
    "stand_deviation(data)"
   ]
  },
  {
   "cell_type": "code",
   "execution_count": null,
   "id": "9114115e",
   "metadata": {},
   "outputs": [],
   "source": []
  },
  {
   "cell_type": "code",
   "execution_count": null,
   "id": "8c4fa557",
   "metadata": {},
   "outputs": [],
   "source": []
  }
 ],
 "metadata": {
  "kernelspec": {
   "display_name": "Python 3 (ipykernel)",
   "language": "python",
   "name": "python3"
  },
  "language_info": {
   "codemirror_mode": {
    "name": "ipython",
    "version": 3
   },
   "file_extension": ".py",
   "mimetype": "text/x-python",
   "name": "python",
   "nbconvert_exporter": "python",
   "pygments_lexer": "ipython3",
   "version": "3.9.7"
  }
 },
 "nbformat": 4,
 "nbformat_minor": 5
}
