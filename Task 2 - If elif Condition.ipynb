{
 "cells": [
  {
   "cell_type": "markdown",
   "id": "6d4de8b8",
   "metadata": {},
   "source": [
    "# if elif conditions :"
   ]
  },
  {
   "cell_type": "markdown",
   "id": "f152fcd6",
   "metadata": {},
   "source": [
    "The if...elif...else statement in Python is used to control the flow of a program by executing different blocks of code based on certain conditions. \n",
    "\n",
    "Here’s how it works:\n",
    "\n",
    "The if statement evaluates a condition. If the condition is true, the block of code following the if statement is executed.\n",
    "\n",
    "If the condition is false, the elif (short for \"else if\") statement can evaluate another condition. If this elif condition is true, its corresponding block of code is executed.\n",
    "\n",
    "You can have multiple elif statements to check multiple conditions.\n",
    "If none of the if or elif conditions are true, the else statement is executed."
   ]
  },
  {
   "cell_type": "code",
   "execution_count": 2,
   "id": "5a13de12",
   "metadata": {},
   "outputs": [
    {
     "name": "stdout",
     "output_type": "stream",
     "text": [
      "Guess the number (1 - 10): 100\n",
      "Too high, try again\n"
     ]
    }
   ],
   "source": [
    "# number guessing game\n",
    "secret_number = 7\n",
    "guess = int(input(\"Guess the number (1 - 10): \"))\n",
    "\n",
    "if guess == secret_number :\n",
    "    print(\"Congratulation! you guessed it right!\")\n",
    "elif guess > secret_number :\n",
    "    print(\"Too high, try again\")\n",
    "else:\n",
    "    print(\"Too low, try again\")"
   ]
  },
  {
   "cell_type": "code",
   "execution_count": 3,
   "id": "48ff54d2",
   "metadata": {},
   "outputs": [
    {
     "name": "stdout",
     "output_type": "stream",
     "text": [
      "Adult\n"
     ]
    }
   ],
   "source": [
    "# Age group classification\n",
    "age = 25\n",
    "\n",
    "if age < 13:\n",
    "    print(\"child\")\n",
    "elif age < 18:\n",
    "    print(\"Teenager\")\n",
    "elif age < 65:\n",
    "    print(\"Adult\")\n",
    "else:\n",
    "    print(\"Senior\")"
   ]
  },
  {
   "cell_type": "code",
   "execution_count": 6,
   "id": "83b09d5f",
   "metadata": {},
   "outputs": [
    {
     "name": "stdout",
     "output_type": "stream",
     "text": [
      "enter the light (red, yellow or green) : pink\n",
      "invalid color\n"
     ]
    }
   ],
   "source": [
    "# traffic light system\n",
    "light = input(\"enter the light (red, yellow or green) : \")\n",
    "\n",
    "if light == \"red\":\n",
    "    print(\"stop\")\n",
    "elif light == \"yellow\":\n",
    "    print(\"caution\")\n",
    "elif light == \"green\":\n",
    "    print(\"go\")\n",
    "else:\n",
    "    print(\"invalid color\")"
   ]
  },
  {
   "cell_type": "code",
   "execution_count": 7,
   "id": "51e1f1dd",
   "metadata": {},
   "outputs": [
    {
     "name": "stdout",
     "output_type": "stream",
     "text": [
      "Battery is low\n"
     ]
    }
   ],
   "source": [
    "# battery level indicator\n",
    "battery_percentage = 25\n",
    "\n",
    "if battery_percentage > 80:\n",
    "    print(\"Battery is full\")\n",
    "elif battery_percentage > 50:\n",
    "    print(\"Battery is half-full\")\n",
    "elif battery_percentage >20:\n",
    "    print(\"Battery is low\")\n",
    "else:\n",
    "    print(\"Battery is critically low\")"
   ]
  },
  {
   "cell_type": "code",
   "execution_count": 11,
   "id": "b38c12c4",
   "metadata": {},
   "outputs": [
    {
     "name": "stdout",
     "output_type": "stream",
     "text": [
      "Good morning!\n"
     ]
    }
   ],
   "source": [
    "# Time of day greeting\n",
    "hour = 10\n",
    "if hour < 12:\n",
    "    print(\"Good morning!\")\n",
    "elif hour < 18:\n",
    "    print(\"Good afternoon!\")\n",
    "else:\n",
    "    print(\"Good evening\")"
   ]
  },
  {
   "cell_type": "code",
   "execution_count": 12,
   "id": "f14b6cbd",
   "metadata": {},
   "outputs": [
    {
     "name": "stdout",
     "output_type": "stream",
     "text": [
      "Accepted\n"
     ]
    }
   ],
   "source": [
    "# university admission status\n",
    "gpa = 3.6\n",
    "\n",
    "if gpa >= 3.8:\n",
    "    print(\"Accepted with honors\")\n",
    "elif gpa >= 3.5:\n",
    "    print(\"Accepted\")\n",
    "elif gpa >= 3.0:\n",
    "    print(\"Waitlisted\")\n",
    "else:\n",
    "    print(\"Rejected\")"
   ]
  },
  {
   "cell_type": "code",
   "execution_count": 14,
   "id": "20171458",
   "metadata": {},
   "outputs": [
    {
     "name": "stdout",
     "output_type": "stream",
     "text": [
      "enter the menu (pasta, burger, salad) : salad\n",
      "you choose a salad. the price is $7\n"
     ]
    }
   ],
   "source": [
    "# restaurant menu selection\n",
    "menu_choice = input(\"enter the menu (pasta, burger, salad) : \")\n",
    "\n",
    "if menu_choice == \"burger\":\n",
    "    print(\"You chose a burger. the price is $8.\")\n",
    "elif menu_choice == \"pasta\":\n",
    "    print(\"you choose a pasta. the price is $ 12\")\n",
    "elif menu_choice == \"salad\":\n",
    "    print(\"you choose a salad. the price is $7\")\n",
    "else:\n",
    "    print(\"Item not available\")"
   ]
  },
  {
   "cell_type": "code",
   "execution_count": 15,
   "id": "87905141",
   "metadata": {},
   "outputs": [
    {
     "name": "stdout",
     "output_type": "stream",
     "text": [
      "Good job! You are active\n"
     ]
    }
   ],
   "source": [
    "# fitness level based on steps\n",
    "steps = 8000\n",
    "\n",
    "if steps >= 10000:\n",
    "    print(\"Excellent job! You are very active\")\n",
    "elif steps >= 7000:\n",
    "    print(\"Good job! You are active\")\n",
    "elif steps >= 5000:\n",
    "    print(\"Not bad, but you should walk more.\")\n",
    "else:\n",
    "    print(\"You need to walk more.\")"
   ]
  },
  {
   "cell_type": "code",
   "execution_count": 16,
   "id": "a9520570",
   "metadata": {},
   "outputs": [
    {
     "name": "stdout",
     "output_type": "stream",
     "text": [
      "You get a 10% discount.\n"
     ]
    }
   ],
   "source": [
    "# Grocery store discount\n",
    "total_purchase = 75\n",
    "\n",
    "if total_purchase >= 100:\n",
    "    print(\"You get a 20% discount.\")\n",
    "elif total_purchase >= 50:\n",
    "    print(\"You get a 10% discount.\")\n",
    "elif total_purchase >= 20:\n",
    "    print(\"You get a 5% discount.\")\n",
    "else:\n",
    "    print(\"No discount available.\")"
   ]
  },
  {
   "cell_type": "code",
   "execution_count": 17,
   "id": "370cc394",
   "metadata": {},
   "outputs": [
    {
     "name": "stdout",
     "output_type": "stream",
     "text": [
      "Parking fee is $10.\n"
     ]
    }
   ],
   "source": [
    "# parking fee calculation\n",
    "hours_parked = 3\n",
    "\n",
    "if hours_parked <= 1:\n",
    "    print(\"Parking fee is $5.\")\n",
    "elif hours_parked <= 3:\n",
    "    print(\"Parking fee is $10.\")\n",
    "elif hours_parked <= 5:\n",
    "    print(\"Parking fee is $15.\")\n",
    "else:\n",
    "    print(\"Parking fee is $20.\")"
   ]
  },
  {
   "cell_type": "code",
   "execution_count": null,
   "id": "83468603",
   "metadata": {},
   "outputs": [],
   "source": []
  }
 ],
 "metadata": {
  "kernelspec": {
   "display_name": "Python 3 (ipykernel)",
   "language": "python",
   "name": "python3"
  },
  "language_info": {
   "codemirror_mode": {
    "name": "ipython",
    "version": 3
   },
   "file_extension": ".py",
   "mimetype": "text/x-python",
   "name": "python",
   "nbconvert_exporter": "python",
   "pygments_lexer": "ipython3",
   "version": "3.9.7"
  }
 },
 "nbformat": 4,
 "nbformat_minor": 5
}
