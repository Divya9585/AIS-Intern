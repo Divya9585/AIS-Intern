{
 "cells": [
  {
   "cell_type": "markdown",
   "id": "e42d4c94",
   "metadata": {},
   "source": [
    "# Pass Statement\n"
   ]
  },
  {
   "cell_type": "markdown",
   "id": "c4c5d8a6",
   "metadata": {},
   "source": [
    "The \"pass\" statement in python is a null operation, it does nothing when executed. \n",
    "\n",
    "It is used as a placeholder in situations where a statement is syntactially required, but no action is needed or desired.\n",
    "\n",
    "This can be useful in function definitions, loops, conditionals or class definitions where the code will be added later."
   ]
  },
  {
   "cell_type": "code",
   "execution_count": 1,
   "id": "7aea3227",
   "metadata": {},
   "outputs": [
    {
     "name": "stdout",
     "output_type": "stream",
     "text": [
      "1\n",
      "3\n"
     ]
    }
   ],
   "source": [
    "# using pass in loop\n",
    "for i in range(5):\n",
    "    if i % 2 == 0:\n",
    "        pass\n",
    "    else:\n",
    "        print(i)"
   ]
  },
  {
   "cell_type": "code",
   "execution_count": 2,
   "id": "08b422f4",
   "metadata": {},
   "outputs": [],
   "source": [
    "# using pass in an if-elif-else statement\n",
    "x = 10\n",
    "if x < 0:\n",
    "    pass\n",
    "elif x == 10:\n",
    "    pass\n",
    "else:\n",
    "    print(\"x is a positive and not 10\")"
   ]
  },
  {
   "cell_type": "code",
   "execution_count": 3,
   "id": "5e661bda",
   "metadata": {},
   "outputs": [
    {
     "name": "stdout",
     "output_type": "stream",
     "text": [
      "1\n",
      "2\n",
      "3\n",
      "4\n",
      "5\n"
     ]
    }
   ],
   "source": [
    "# using pass in a while loop\n",
    "count = 0\n",
    "while count < 5:\n",
    "    count += 1\n",
    "    if count == 3:\n",
    "        pass\n",
    "    print(count)"
   ]
  },
  {
   "cell_type": "code",
   "execution_count": null,
   "id": "f63dd368",
   "metadata": {},
   "outputs": [],
   "source": []
  }
 ],
 "metadata": {
  "kernelspec": {
   "display_name": "Python 3 (ipykernel)",
   "language": "python",
   "name": "python3"
  },
  "language_info": {
   "codemirror_mode": {
    "name": "ipython",
    "version": 3
   },
   "file_extension": ".py",
   "mimetype": "text/x-python",
   "name": "python",
   "nbconvert_exporter": "python",
   "pygments_lexer": "ipython3",
   "version": "3.9.7"
  }
 },
 "nbformat": 4,
 "nbformat_minor": 5
}
