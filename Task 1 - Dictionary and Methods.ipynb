{
 "cells": [
  {
   "cell_type": "markdown",
   "id": "2fa3c2b3",
   "metadata": {},
   "source": [
    "# Dictionary and Methods"
   ]
  },
  {
   "cell_type": "markdown",
   "id": "9028ceae",
   "metadata": {},
   "source": [
    "A dictionary is a fundamental data structure in Python that stores information in a collection of key-value pairs.\n",
    "\n",
    "Dictionary is collection which is ordered, changeable and do not allow duplicates.\n",
    "\n",
    "dict { }"
   ]
  },
  {
   "cell_type": "code",
   "execution_count": 2,
   "id": "df157790",
   "metadata": {},
   "outputs": [],
   "source": [
    "d = { \"brand\" : \"ford\", \"model\" : \"mustang\", \"year\" : 1964}"
   ]
  },
  {
   "cell_type": "code",
   "execution_count": 3,
   "id": "19a21a44",
   "metadata": {},
   "outputs": [
    {
     "name": "stdout",
     "output_type": "stream",
     "text": [
      "{'brand': 'ford', 'model': 'mustang', 'year': 1964}\n"
     ]
    }
   ],
   "source": [
    "print(d)"
   ]
  },
  {
   "cell_type": "code",
   "execution_count": 4,
   "id": "1129386e",
   "metadata": {},
   "outputs": [
    {
     "data": {
      "text/plain": [
       "dict"
      ]
     },
     "execution_count": 4,
     "metadata": {},
     "output_type": "execute_result"
    }
   ],
   "source": [
    "type(d)"
   ]
  },
  {
   "cell_type": "code",
   "execution_count": 5,
   "id": "6caa9318",
   "metadata": {},
   "outputs": [],
   "source": [
    "# duplicats are not allowed "
   ]
  },
  {
   "cell_type": "code",
   "execution_count": 6,
   "id": "5b899f89",
   "metadata": {},
   "outputs": [],
   "source": [
    "d = { \"brand\" : \"ford\", \"model\" : \"mustang\", \"year\" : 1964, \"year\" : 2020}"
   ]
  },
  {
   "cell_type": "code",
   "execution_count": 7,
   "id": "63ced970",
   "metadata": {},
   "outputs": [
    {
     "name": "stdout",
     "output_type": "stream",
     "text": [
      "{'brand': 'ford', 'model': 'mustang', 'year': 2020}\n"
     ]
    }
   ],
   "source": [
    "print(d)"
   ]
  },
  {
   "cell_type": "code",
   "execution_count": 8,
   "id": "4ef2d0fc",
   "metadata": {},
   "outputs": [
    {
     "data": {
      "text/plain": [
       "3"
      ]
     },
     "execution_count": 8,
     "metadata": {},
     "output_type": "execute_result"
    }
   ],
   "source": [
    "# length of dictionary\n",
    "len(d)"
   ]
  },
  {
   "cell_type": "markdown",
   "id": "af884b57",
   "metadata": {},
   "source": [
    "Accessing Items\n",
    "\n",
    "access the items of a dictionary by referring to its key name, inside square brackets."
   ]
  },
  {
   "cell_type": "code",
   "execution_count": 10,
   "id": "c520172a",
   "metadata": {},
   "outputs": [
    {
     "name": "stdout",
     "output_type": "stream",
     "text": [
      "{'brand': 'ford', 'model': 'mustang', 'year': 2020}\n"
     ]
    }
   ],
   "source": [
    "print(d)"
   ]
  },
  {
   "cell_type": "code",
   "execution_count": 11,
   "id": "7937f105",
   "metadata": {},
   "outputs": [],
   "source": [
    "x = d[\"model\"]"
   ]
  },
  {
   "cell_type": "code",
   "execution_count": 12,
   "id": "5437b2a7",
   "metadata": {},
   "outputs": [
    {
     "name": "stdout",
     "output_type": "stream",
     "text": [
      "mustang\n"
     ]
    }
   ],
   "source": [
    "print(x)"
   ]
  },
  {
   "cell_type": "code",
   "execution_count": 13,
   "id": "010f104e",
   "metadata": {},
   "outputs": [
    {
     "name": "stdout",
     "output_type": "stream",
     "text": [
      "mustang\n"
     ]
    }
   ],
   "source": [
    "# access the item by using get()\n",
    "y = d.get(\"model\")\n",
    "print(y)"
   ]
  },
  {
   "cell_type": "markdown",
   "id": "2bca63bd",
   "metadata": {},
   "source": [
    "keys() : the key() method will return a list of all the keys in the dictionary."
   ]
  },
  {
   "cell_type": "code",
   "execution_count": 14,
   "id": "c3c7eee4",
   "metadata": {},
   "outputs": [
    {
     "data": {
      "text/plain": [
       "dict_keys(['brand', 'model', 'year'])"
      ]
     },
     "execution_count": 14,
     "metadata": {},
     "output_type": "execute_result"
    }
   ],
   "source": [
    "d.keys()"
   ]
  },
  {
   "cell_type": "code",
   "execution_count": 16,
   "id": "b91c8f82",
   "metadata": {},
   "outputs": [],
   "source": [
    "# adding new item to dict\n",
    "car = {\"brand\" : \"ford\", \"model\" : \"mustang\", \"year\" : 1964}"
   ]
  },
  {
   "cell_type": "code",
   "execution_count": 17,
   "id": "796829d5",
   "metadata": {},
   "outputs": [],
   "source": [
    "x = car.keys()"
   ]
  },
  {
   "cell_type": "code",
   "execution_count": 18,
   "id": "fd87f849",
   "metadata": {},
   "outputs": [
    {
     "name": "stdout",
     "output_type": "stream",
     "text": [
      "dict_keys(['brand', 'model', 'year'])\n"
     ]
    }
   ],
   "source": [
    "print(x)"
   ]
  },
  {
   "cell_type": "code",
   "execution_count": 19,
   "id": "0af07237",
   "metadata": {},
   "outputs": [],
   "source": [
    "car[\"color\"] = \"white\""
   ]
  },
  {
   "cell_type": "code",
   "execution_count": 20,
   "id": "e990ca62",
   "metadata": {},
   "outputs": [
    {
     "name": "stdout",
     "output_type": "stream",
     "text": [
      "dict_keys(['brand', 'model', 'year', 'color'])\n"
     ]
    }
   ],
   "source": [
    "print(x)"
   ]
  },
  {
   "cell_type": "markdown",
   "id": "5994d568",
   "metadata": {},
   "source": [
    "Get Values : The values() method will return a list of all the values in the dictionary."
   ]
  },
  {
   "cell_type": "code",
   "execution_count": 21,
   "id": "8a958875",
   "metadata": {},
   "outputs": [],
   "source": [
    "x = car.values()"
   ]
  },
  {
   "cell_type": "code",
   "execution_count": 22,
   "id": "ccb35948",
   "metadata": {},
   "outputs": [
    {
     "name": "stdout",
     "output_type": "stream",
     "text": [
      "dict_values(['ford', 'mustang', 1964, 'white'])\n"
     ]
    }
   ],
   "source": [
    "print(x)"
   ]
  },
  {
   "cell_type": "markdown",
   "id": "77f1ac18",
   "metadata": {},
   "source": [
    "Get Items : The items() method will return each item in a dictionary, as tuples in a list."
   ]
  },
  {
   "cell_type": "code",
   "execution_count": 23,
   "id": "4ae10c2e",
   "metadata": {},
   "outputs": [],
   "source": [
    "x = car.items()"
   ]
  },
  {
   "cell_type": "code",
   "execution_count": 24,
   "id": "3fc9b996",
   "metadata": {},
   "outputs": [
    {
     "name": "stdout",
     "output_type": "stream",
     "text": [
      "dict_items([('brand', 'ford'), ('model', 'mustang'), ('year', 1964), ('color', 'white')])\n"
     ]
    }
   ],
   "source": [
    "print(x)"
   ]
  },
  {
   "cell_type": "code",
   "execution_count": 25,
   "id": "131adc39",
   "metadata": {},
   "outputs": [
    {
     "name": "stdout",
     "output_type": "stream",
     "text": [
      "{'brand': 'ford', 'model': 'mustang', 'year': 1964, 'color': 'white'}\n"
     ]
    }
   ],
   "source": [
    "# changing values in dict\n",
    "print(car)"
   ]
  },
  {
   "cell_type": "code",
   "execution_count": 26,
   "id": "723c6d5a",
   "metadata": {},
   "outputs": [],
   "source": [
    "car[\"year\"] = 2018"
   ]
  },
  {
   "cell_type": "code",
   "execution_count": 27,
   "id": "e5172288",
   "metadata": {},
   "outputs": [
    {
     "name": "stdout",
     "output_type": "stream",
     "text": [
      "{'brand': 'ford', 'model': 'mustang', 'year': 2018, 'color': 'white'}\n"
     ]
    }
   ],
   "source": [
    "print(car)"
   ]
  },
  {
   "cell_type": "code",
   "execution_count": 28,
   "id": "6d9618a9",
   "metadata": {},
   "outputs": [],
   "source": [
    "# update() dictionary \n",
    "car.update({\"year\" : 2020})"
   ]
  },
  {
   "cell_type": "code",
   "execution_count": 29,
   "id": "0f3331f5",
   "metadata": {},
   "outputs": [
    {
     "name": "stdout",
     "output_type": "stream",
     "text": [
      "{'brand': 'ford', 'model': 'mustang', 'year': 2020, 'color': 'white'}\n"
     ]
    }
   ],
   "source": [
    "print(car)"
   ]
  },
  {
   "cell_type": "code",
   "execution_count": 30,
   "id": "d03a1968",
   "metadata": {},
   "outputs": [],
   "source": [
    "# Adding Items\n",
    "car[\"speed\"] = 500"
   ]
  },
  {
   "cell_type": "code",
   "execution_count": 31,
   "id": "19bd6d8e",
   "metadata": {},
   "outputs": [
    {
     "name": "stdout",
     "output_type": "stream",
     "text": [
      "{'brand': 'ford', 'model': 'mustang', 'year': 2020, 'color': 'white', 'speed': 500}\n"
     ]
    }
   ],
   "source": [
    "print(car)"
   ]
  },
  {
   "cell_type": "code",
   "execution_count": 35,
   "id": "839940aa",
   "metadata": {},
   "outputs": [
    {
     "name": "stdout",
     "output_type": "stream",
     "text": [
      "{'brand': 'ford', 'year': 2020, 'color': 'white', 'speed': 500}\n"
     ]
    }
   ],
   "source": [
    "#remove items : The pop() method removes the item with the specified key name\n",
    "print(car)"
   ]
  },
  {
   "cell_type": "code",
   "execution_count": 33,
   "id": "c926ba4f",
   "metadata": {},
   "outputs": [
    {
     "data": {
      "text/plain": [
       "'mustang'"
      ]
     },
     "execution_count": 33,
     "metadata": {},
     "output_type": "execute_result"
    }
   ],
   "source": [
    "car.pop(\"model\")"
   ]
  },
  {
   "cell_type": "code",
   "execution_count": 34,
   "id": "4e409a63",
   "metadata": {},
   "outputs": [
    {
     "name": "stdout",
     "output_type": "stream",
     "text": [
      "{'brand': 'ford', 'year': 2020, 'color': 'white', 'speed': 500}\n"
     ]
    }
   ],
   "source": [
    "print(car)"
   ]
  },
  {
   "cell_type": "code",
   "execution_count": 36,
   "id": "e76ff208",
   "metadata": {},
   "outputs": [
    {
     "name": "stdout",
     "output_type": "stream",
     "text": [
      "{'brand': 'ford', 'year': 2020, 'color': 'white', 'speed': 500}\n"
     ]
    }
   ],
   "source": [
    "#The popitem() method removes the last inserted item\n",
    "print(car)"
   ]
  },
  {
   "cell_type": "code",
   "execution_count": 37,
   "id": "73e08c93",
   "metadata": {},
   "outputs": [
    {
     "data": {
      "text/plain": [
       "('speed', 500)"
      ]
     },
     "execution_count": 37,
     "metadata": {},
     "output_type": "execute_result"
    }
   ],
   "source": [
    "car.popitem()"
   ]
  },
  {
   "cell_type": "code",
   "execution_count": 38,
   "id": "11ecbb08",
   "metadata": {},
   "outputs": [
    {
     "name": "stdout",
     "output_type": "stream",
     "text": [
      "{'brand': 'ford', 'year': 2020, 'color': 'white'}\n"
     ]
    }
   ],
   "source": [
    "print(car)"
   ]
  },
  {
   "cell_type": "code",
   "execution_count": 39,
   "id": "05c94374",
   "metadata": {},
   "outputs": [],
   "source": [
    "#The del keyword removes the item with the specified key name\n",
    "del car[\"color\"]"
   ]
  },
  {
   "cell_type": "code",
   "execution_count": 40,
   "id": "f7f75468",
   "metadata": {},
   "outputs": [
    {
     "name": "stdout",
     "output_type": "stream",
     "text": [
      "{'brand': 'ford', 'year': 2020}\n"
     ]
    }
   ],
   "source": [
    "print(car)"
   ]
  },
  {
   "cell_type": "code",
   "execution_count": 41,
   "id": "ca6606e9",
   "metadata": {},
   "outputs": [],
   "source": [
    "#The clear() method empties the dictionary\n",
    "car.clear()"
   ]
  },
  {
   "cell_type": "code",
   "execution_count": 42,
   "id": "8b5a3837",
   "metadata": {},
   "outputs": [
    {
     "name": "stdout",
     "output_type": "stream",
     "text": [
      "{}\n"
     ]
    }
   ],
   "source": [
    "print(car)"
   ]
  },
  {
   "cell_type": "code",
   "execution_count": 43,
   "id": "dda16511",
   "metadata": {},
   "outputs": [],
   "source": [
    "# copy a dictionary"
   ]
  },
  {
   "cell_type": "code",
   "execution_count": 45,
   "id": "a9a3517d",
   "metadata": {},
   "outputs": [],
   "source": [
    "car = {\"brand\" : \"ford\", \"model\" : \"mustang\", \"year\" : 1964}"
   ]
  },
  {
   "cell_type": "code",
   "execution_count": 46,
   "id": "2bc938e0",
   "metadata": {},
   "outputs": [],
   "source": [
    "mydict = car.copy()"
   ]
  },
  {
   "cell_type": "code",
   "execution_count": 47,
   "id": "e742ec05",
   "metadata": {},
   "outputs": [
    {
     "name": "stdout",
     "output_type": "stream",
     "text": [
      "{'brand': 'ford', 'model': 'mustang', 'year': 1964}\n"
     ]
    }
   ],
   "source": [
    "print(mydict)"
   ]
  },
  {
   "cell_type": "code",
   "execution_count": null,
   "id": "35118c6b",
   "metadata": {},
   "outputs": [],
   "source": []
  }
 ],
 "metadata": {
  "kernelspec": {
   "display_name": "Python 3 (ipykernel)",
   "language": "python",
   "name": "python3"
  },
  "language_info": {
   "codemirror_mode": {
    "name": "ipython",
    "version": 3
   },
   "file_extension": ".py",
   "mimetype": "text/x-python",
   "name": "python",
   "nbconvert_exporter": "python",
   "pygments_lexer": "ipython3",
   "version": "3.9.7"
  }
 },
 "nbformat": 4,
 "nbformat_minor": 5
}
