{
 "cells": [
  {
   "cell_type": "markdown",
   "id": "d1f26bda",
   "metadata": {},
   "source": [
    "# Variable Declaration Rule"
   ]
  },
  {
   "cell_type": "markdown",
   "id": "da31f7f7",
   "metadata": {},
   "source": [
    "Variables are containers for storing data values"
   ]
  },
  {
   "cell_type": "markdown",
   "id": "b898e01d",
   "metadata": {},
   "source": [
    "Python has no Command for declaring a variable."
   ]
  },
  {
   "cell_type": "markdown",
   "id": "8cd9ec0e",
   "metadata": {},
   "source": [
    "Assignment : The act of assingning a value to a variable creates the variale. \n",
    "    equal sign ( = )  sign use to assign a value."
   ]
  },
  {
   "cell_type": "code",
   "execution_count": 4,
   "id": "fa352f61",
   "metadata": {},
   "outputs": [],
   "source": [
    "x = 5"
   ]
  },
  {
   "cell_type": "code",
   "execution_count": 5,
   "id": "5b422f36",
   "metadata": {},
   "outputs": [
    {
     "name": "stdout",
     "output_type": "stream",
     "text": [
      "5\n"
     ]
    }
   ],
   "source": [
    "print(x)"
   ]
  },
  {
   "cell_type": "code",
   "execution_count": 6,
   "id": "92b4bde3",
   "metadata": {},
   "outputs": [],
   "source": [
    "y = \"John\""
   ]
  },
  {
   "cell_type": "code",
   "execution_count": 7,
   "id": "05b6b498",
   "metadata": {},
   "outputs": [
    {
     "name": "stdout",
     "output_type": "stream",
     "text": [
      "John\n"
     ]
    }
   ],
   "source": [
    "print(y)"
   ]
  },
  {
   "cell_type": "code",
   "execution_count": 8,
   "id": "63912278",
   "metadata": {},
   "outputs": [],
   "source": [
    "name = \"Alice\""
   ]
  },
  {
   "cell_type": "code",
   "execution_count": 9,
   "id": "7276c62f",
   "metadata": {},
   "outputs": [
    {
     "name": "stdout",
     "output_type": "stream",
     "text": [
      "Alice\n"
     ]
    }
   ],
   "source": [
    "print(name)"
   ]
  },
  {
   "cell_type": "code",
   "execution_count": 10,
   "id": "d4021e11",
   "metadata": {},
   "outputs": [],
   "source": [
    "age = 30"
   ]
  },
  {
   "cell_type": "code",
   "execution_count": 11,
   "id": "4a858074",
   "metadata": {},
   "outputs": [
    {
     "name": "stdout",
     "output_type": "stream",
     "text": [
      "30\n"
     ]
    }
   ],
   "source": [
    "print(age)"
   ]
  },
  {
   "cell_type": "code",
   "execution_count": 12,
   "id": "d0e99e4a",
   "metadata": {},
   "outputs": [],
   "source": [
    "pi = 3.14159"
   ]
  },
  {
   "cell_type": "code",
   "execution_count": 13,
   "id": "58f8de2a",
   "metadata": {},
   "outputs": [
    {
     "name": "stdout",
     "output_type": "stream",
     "text": [
      "3.14159\n"
     ]
    }
   ],
   "source": [
    "print(pi)"
   ]
  },
  {
   "cell_type": "markdown",
   "id": "2503fadf",
   "metadata": {},
   "source": [
    "Data Types :\n",
    "    \n",
    "    - Python is dynamically typed, meaning the variable's data type is determined by the value assigned to it.\n",
    "    \n",
    "    - we can assign different data types(strings, integers, floats, etc.) to the same variable throughout the code."
   ]
  },
  {
   "cell_type": "markdown",
   "id": "19911f7f",
   "metadata": {},
   "source": [
    "1. Strings : Represent text data enclosed in quotes( Single or double)."
   ]
  },
  {
   "cell_type": "code",
   "execution_count": 36,
   "id": "ef9ad9de",
   "metadata": {},
   "outputs": [
    {
     "name": "stdout",
     "output_type": "stream",
     "text": [
      "Hello, world\n"
     ]
    },
    {
     "data": {
      "text/plain": [
       "str"
      ]
     },
     "execution_count": 36,
     "metadata": {},
     "output_type": "execute_result"
    }
   ],
   "source": [
    "greeting = \"Hello, world\"\n",
    "print(greeting)\n",
    "type(greeting)"
   ]
  },
  {
   "cell_type": "markdown",
   "id": "7b47077e",
   "metadata": {},
   "source": [
    "2. Integers : Whole numbers(positive, negative or zero)"
   ]
  },
  {
   "cell_type": "code",
   "execution_count": 38,
   "id": "c3c196e7",
   "metadata": {},
   "outputs": [
    {
     "name": "stdout",
     "output_type": "stream",
     "text": [
      "10\n"
     ]
    },
    {
     "data": {
      "text/plain": [
       "int"
      ]
     },
     "execution_count": 38,
     "metadata": {},
     "output_type": "execute_result"
    }
   ],
   "source": [
    "num_apples = 10\n",
    "print(num_apples)\n",
    "type(num_apples)"
   ]
  },
  {
   "cell_type": "markdown",
   "id": "0e6c94bc",
   "metadata": {},
   "source": [
    "3. Floats : Numbers with decimal points.\n",
    "    "
   ]
  },
  {
   "cell_type": "code",
   "execution_count": 40,
   "id": "30cf8d0a",
   "metadata": {},
   "outputs": [
    {
     "name": "stdout",
     "output_type": "stream",
     "text": [
      "87.6\n"
     ]
    },
    {
     "data": {
      "text/plain": [
       "float"
      ]
     },
     "execution_count": 40,
     "metadata": {},
     "output_type": "execute_result"
    }
   ],
   "source": [
    "average_score = 87.6\n",
    "print(average_score)\n",
    "type(average_score)"
   ]
  },
  {
   "cell_type": "markdown",
   "id": "7ca1b3b6",
   "metadata": {},
   "source": [
    "Variable Names :\n",
    "\n",
    "    - Names must start with a letter ( a-z or A-Z) or an underscore( _ ).\n",
    "    \n",
    "    - Can contain letters, numbers, and underscores after the first character.\n",
    "    \n",
    "    - Are case-sensitive(e.g. age, Age and AGE are different variables).\n",
    "    \n",
    "    - Avoid using Python keywords (like if, for, while) as variable names."
   ]
  },
  {
   "cell_type": "code",
   "execution_count": 16,
   "id": "f347c061",
   "metadata": {},
   "outputs": [
    {
     "name": "stdout",
     "output_type": "stream",
     "text": [
      "John\n"
     ]
    }
   ],
   "source": [
    "myvar = \"John\"\n",
    "print(myvar)"
   ]
  },
  {
   "cell_type": "code",
   "execution_count": 17,
   "id": "08d5eb14",
   "metadata": {},
   "outputs": [
    {
     "name": "stdout",
     "output_type": "stream",
     "text": [
      "John\n"
     ]
    }
   ],
   "source": [
    "my_var = \"John\"\n",
    "print(my_var)"
   ]
  },
  {
   "cell_type": "code",
   "execution_count": 18,
   "id": "3bf34a95",
   "metadata": {},
   "outputs": [
    {
     "name": "stdout",
     "output_type": "stream",
     "text": [
      "John\n"
     ]
    }
   ],
   "source": [
    "_my_var = \"John\"\n",
    "print(_my_var)"
   ]
  },
  {
   "cell_type": "code",
   "execution_count": 19,
   "id": "30ea32f2",
   "metadata": {},
   "outputs": [
    {
     "name": "stdout",
     "output_type": "stream",
     "text": [
      "John\n"
     ]
    }
   ],
   "source": [
    "myVar = \"John\"\n",
    "print(myVar)"
   ]
  },
  {
   "cell_type": "code",
   "execution_count": 20,
   "id": "3a1fc528",
   "metadata": {},
   "outputs": [
    {
     "name": "stdout",
     "output_type": "stream",
     "text": [
      "John\n"
     ]
    }
   ],
   "source": [
    "MYVAR = \"John\"\n",
    "print(MYVAR)"
   ]
  },
  {
   "cell_type": "code",
   "execution_count": 22,
   "id": "c8e21f0b",
   "metadata": {},
   "outputs": [
    {
     "name": "stdout",
     "output_type": "stream",
     "text": [
      "John\n"
     ]
    }
   ],
   "source": [
    "myvar2 = \"John\"\n",
    "print(myvar2)"
   ]
  },
  {
   "cell_type": "code",
   "execution_count": 23,
   "id": "f145b0c8",
   "metadata": {},
   "outputs": [
    {
     "ename": "SyntaxError",
     "evalue": "invalid syntax (Temp/ipykernel_12660/1962627912.py, line 1)",
     "output_type": "error",
     "traceback": [
      "\u001b[1;36m  File \u001b[1;32m\"C:\\Users\\divay\\AppData\\Local\\Temp/ipykernel_12660/1962627912.py\"\u001b[1;36m, line \u001b[1;32m1\u001b[0m\n\u001b[1;33m    2myvar = \"John\"\u001b[0m\n\u001b[1;37m     ^\u001b[0m\n\u001b[1;31mSyntaxError\u001b[0m\u001b[1;31m:\u001b[0m invalid syntax\n"
     ]
    }
   ],
   "source": [
    "2myvar = \"John\"\n",
    "print(2myvar)"
   ]
  },
  {
   "cell_type": "code",
   "execution_count": 24,
   "id": "8e6b8bb3",
   "metadata": {},
   "outputs": [
    {
     "ename": "SyntaxError",
     "evalue": "cannot assign to operator (Temp/ipykernel_12660/1456144231.py, line 1)",
     "output_type": "error",
     "traceback": [
      "\u001b[1;36m  File \u001b[1;32m\"C:\\Users\\divay\\AppData\\Local\\Temp/ipykernel_12660/1456144231.py\"\u001b[1;36m, line \u001b[1;32m1\u001b[0m\n\u001b[1;33m    my-var = \"John\"\u001b[0m\n\u001b[1;37m    ^\u001b[0m\n\u001b[1;31mSyntaxError\u001b[0m\u001b[1;31m:\u001b[0m cannot assign to operator\n"
     ]
    }
   ],
   "source": [
    "my-var = \"John\"\n",
    "print(my-var)"
   ]
  },
  {
   "cell_type": "code",
   "execution_count": 25,
   "id": "317d8958",
   "metadata": {},
   "outputs": [
    {
     "ename": "SyntaxError",
     "evalue": "invalid syntax (Temp/ipykernel_12660/373700845.py, line 1)",
     "output_type": "error",
     "traceback": [
      "\u001b[1;36m  File \u001b[1;32m\"C:\\Users\\divay\\AppData\\Local\\Temp/ipykernel_12660/373700845.py\"\u001b[1;36m, line \u001b[1;32m1\u001b[0m\n\u001b[1;33m    my var = \"John\"\u001b[0m\n\u001b[1;37m       ^\u001b[0m\n\u001b[1;31mSyntaxError\u001b[0m\u001b[1;31m:\u001b[0m invalid syntax\n"
     ]
    }
   ],
   "source": [
    "my var = \"John\"\n",
    "print(my var)"
   ]
  },
  {
   "cell_type": "markdown",
   "id": "62d9421b",
   "metadata": {},
   "source": [
    "# Multi Words Variable Names"
   ]
  },
  {
   "cell_type": "markdown",
   "id": "a0fcabe3",
   "metadata": {},
   "source": [
    "Variable names with more than one word can be difficult to read.\n",
    "\n",
    "There are several techniques you can use to make them readable:"
   ]
  },
  {
   "cell_type": "markdown",
   "id": "b8d5e27b",
   "metadata": {},
   "source": [
    "1. Camel Case :\n",
    "    Each word, except the first, starts with a capital letter."
   ]
  },
  {
   "cell_type": "code",
   "execution_count": 26,
   "id": "2b59374d",
   "metadata": {},
   "outputs": [],
   "source": [
    "myVariableName = \"John\""
   ]
  },
  {
   "cell_type": "code",
   "execution_count": 27,
   "id": "213cd969",
   "metadata": {},
   "outputs": [
    {
     "name": "stdout",
     "output_type": "stream",
     "text": [
      "John\n"
     ]
    }
   ],
   "source": [
    "print(myVariableName)"
   ]
  },
  {
   "cell_type": "markdown",
   "id": "71ecd6dc",
   "metadata": {},
   "source": [
    "2. Pascal Case : \n",
    "    Each word starts with a capital letter."
   ]
  },
  {
   "cell_type": "code",
   "execution_count": 28,
   "id": "505f1e86",
   "metadata": {},
   "outputs": [
    {
     "name": "stdout",
     "output_type": "stream",
     "text": [
      "John\n"
     ]
    }
   ],
   "source": [
    "MyVariableName = \"John\"\n",
    "print(MyVariableName)"
   ]
  },
  {
   "cell_type": "markdown",
   "id": "c89921ad",
   "metadata": {},
   "source": [
    "3. Snake Case : Each word is separated by an underscore character."
   ]
  },
  {
   "cell_type": "code",
   "execution_count": 29,
   "id": "1d89c52b",
   "metadata": {},
   "outputs": [
    {
     "name": "stdout",
     "output_type": "stream",
     "text": [
      "John\n"
     ]
    }
   ],
   "source": [
    "my_variable_name = \"John\"\n",
    "print(my_variable_name)"
   ]
  },
  {
   "cell_type": "markdown",
   "id": "a3402302",
   "metadata": {},
   "source": [
    "Assign Multiple Values : "
   ]
  },
  {
   "cell_type": "markdown",
   "id": "26b57cbf",
   "metadata": {},
   "source": [
    "1. Assigning to multiple varibles in one line."
   ]
  },
  {
   "cell_type": "code",
   "execution_count": 30,
   "id": "1fbbeb53",
   "metadata": {},
   "outputs": [
    {
     "name": "stdout",
     "output_type": "stream",
     "text": [
      "Orange\n",
      "Banana\n",
      "Cherry\n"
     ]
    }
   ],
   "source": [
    "x, y, z = \"Orange\", \"Banana\", \"Cherry\"\n",
    "print(x)\n",
    "print(y)\n",
    "print(z)"
   ]
  },
  {
   "cell_type": "markdown",
   "id": "4b7d306b",
   "metadata": {},
   "source": [
    "2. Assigning the same value to multiple varibles."
   ]
  },
  {
   "cell_type": "code",
   "execution_count": 31,
   "id": "70e30e1d",
   "metadata": {},
   "outputs": [
    {
     "name": "stdout",
     "output_type": "stream",
     "text": [
      "Orange\n",
      "Orange\n",
      "Orange\n"
     ]
    }
   ],
   "source": [
    "x = y = z = \"Orange\"\n",
    "print(x)\n",
    "print(y)\n",
    "print(z)"
   ]
  },
  {
   "cell_type": "markdown",
   "id": "2a05638d",
   "metadata": {},
   "source": [
    "3. Unpacking a Collection"
   ]
  },
  {
   "cell_type": "markdown",
   "id": "db90b0d3",
   "metadata": {},
   "source": [
    "If you have a collection of vaues in a list, tuple etc. Python allows you to extract the values into variables. This is called unpacking."
   ]
  },
  {
   "cell_type": "code",
   "execution_count": 32,
   "id": "c84b4e30",
   "metadata": {},
   "outputs": [
    {
     "name": "stdout",
     "output_type": "stream",
     "text": [
      "apple\n",
      "banana\n",
      "cherry\n"
     ]
    }
   ],
   "source": [
    "fruits = [\"apple\", \"banana\", \"cherry\"]\n",
    "x, y, z = fruits\n",
    "print(x)\n",
    "print(y)\n",
    "print(z)"
   ]
  },
  {
   "cell_type": "code",
   "execution_count": null,
   "id": "b71fdd5b",
   "metadata": {},
   "outputs": [],
   "source": []
  },
  {
   "cell_type": "code",
   "execution_count": null,
   "id": "a5865bc2",
   "metadata": {},
   "outputs": [],
   "source": []
  },
  {
   "cell_type": "code",
   "execution_count": null,
   "id": "82290b97",
   "metadata": {},
   "outputs": [],
   "source": []
  }
 ],
 "metadata": {
  "kernelspec": {
   "display_name": "Python 3 (ipykernel)",
   "language": "python",
   "name": "python3"
  },
  "language_info": {
   "codemirror_mode": {
    "name": "ipython",
    "version": 3
   },
   "file_extension": ".py",
   "mimetype": "text/x-python",
   "name": "python",
   "nbconvert_exporter": "python",
   "pygments_lexer": "ipython3",
   "version": "3.9.7"
  }
 },
 "nbformat": 4,
 "nbformat_minor": 5
}
