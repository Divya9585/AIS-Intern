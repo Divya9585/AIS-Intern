{
 "cells": [
  {
   "cell_type": "markdown",
   "id": "5a2e5f15",
   "metadata": {},
   "source": [
    "# Tuple and Methods"
   ]
  },
  {
   "cell_type": "markdown",
   "id": "e5efaf5e",
   "metadata": {},
   "source": [
    "Tuples are ordered, immutable collections of elements in python. \n",
    "\n",
    "Tuples are used to store multiple items in a single variable and allow duplicates.\n",
    "\n",
    "They are similar to lists but cannot be modified after creation.\n",
    "\n",
    "Tuples are written with round brackets."
   ]
  },
  {
   "cell_type": "code",
   "execution_count": 1,
   "id": "ad68d148",
   "metadata": {},
   "outputs": [],
   "source": [
    "my_tuple = (1, \"apple\", 3.14)"
   ]
  },
  {
   "cell_type": "code",
   "execution_count": 2,
   "id": "ecfb06bf",
   "metadata": {},
   "outputs": [
    {
     "name": "stdout",
     "output_type": "stream",
     "text": [
      "(1, 'apple', 3.14)\n"
     ]
    }
   ],
   "source": [
    "print(my_tuple)"
   ]
  },
  {
   "cell_type": "code",
   "execution_count": 3,
   "id": "bc146137",
   "metadata": {},
   "outputs": [
    {
     "data": {
      "text/plain": [
       "tuple"
      ]
     },
     "execution_count": 3,
     "metadata": {},
     "output_type": "execute_result"
    }
   ],
   "source": [
    "type(my_tuple)"
   ]
  },
  {
   "cell_type": "code",
   "execution_count": 4,
   "id": "ace155b0",
   "metadata": {},
   "outputs": [],
   "source": [
    "my_tuple = tuple([2, \"banana\", True])"
   ]
  },
  {
   "cell_type": "code",
   "execution_count": 5,
   "id": "6e83cd68",
   "metadata": {},
   "outputs": [
    {
     "name": "stdout",
     "output_type": "stream",
     "text": [
      "(2, 'banana', True)\n"
     ]
    }
   ],
   "source": [
    "print(my_tuple)"
   ]
  },
  {
   "cell_type": "code",
   "execution_count": 10,
   "id": "b37a10f1",
   "metadata": {},
   "outputs": [
    {
     "data": {
      "text/plain": [
       "3"
      ]
     },
     "execution_count": 10,
     "metadata": {},
     "output_type": "execute_result"
    }
   ],
   "source": [
    "# accessing elements using indexing\n",
    "my_tuple[0]"
   ]
  },
  {
   "cell_type": "code",
   "execution_count": 11,
   "id": "cc567c90",
   "metadata": {},
   "outputs": [
    {
     "data": {
      "text/plain": [
       "45"
      ]
     },
     "execution_count": 11,
     "metadata": {},
     "output_type": "execute_result"
    }
   ],
   "source": [
    "my_tuple[2]"
   ]
  },
  {
   "cell_type": "code",
   "execution_count": 12,
   "id": "cc0e6a65",
   "metadata": {},
   "outputs": [],
   "source": [
    "my_tuple = (3, \"banana\", 45, 23, 878, \"divya\", True, 34, \"orange\")"
   ]
  },
  {
   "cell_type": "code",
   "execution_count": 13,
   "id": "11eb82e2",
   "metadata": {},
   "outputs": [
    {
     "name": "stdout",
     "output_type": "stream",
     "text": [
      "(3, 'banana', 45, 23, 878, 'divya', True, 34, 'orange')\n"
     ]
    }
   ],
   "source": [
    "print(my_tuple)"
   ]
  },
  {
   "cell_type": "code",
   "execution_count": 15,
   "id": "53ceb868",
   "metadata": {},
   "outputs": [],
   "source": [
    "# slicing extracts a portion of a tuple.\n",
    "new_tuple = my_tuple[1:3]"
   ]
  },
  {
   "cell_type": "code",
   "execution_count": 16,
   "id": "ca1685c5",
   "metadata": {},
   "outputs": [
    {
     "name": "stdout",
     "output_type": "stream",
     "text": [
      "('banana', 45)\n"
     ]
    }
   ],
   "source": [
    "print(new_tuple)"
   ]
  },
  {
   "cell_type": "code",
   "execution_count": 18,
   "id": "848294f5",
   "metadata": {},
   "outputs": [
    {
     "data": {
      "text/plain": [
       "9"
      ]
     },
     "execution_count": 18,
     "metadata": {},
     "output_type": "execute_result"
    }
   ],
   "source": [
    "# tuple Length\n",
    "len(my_tuple)"
   ]
  },
  {
   "cell_type": "markdown",
   "id": "e1353513",
   "metadata": {},
   "source": [
    "change tuple values : convert the tuple into a list, change the list, and convert the list back into a tuple.\n"
   ]
  },
  {
   "cell_type": "code",
   "execution_count": 24,
   "id": "71d11dea",
   "metadata": {},
   "outputs": [
    {
     "data": {
      "text/plain": [
       "(3, 'kiwi', 45, 23, 878, 'divya', True, 34, 'orange')"
      ]
     },
     "execution_count": 24,
     "metadata": {},
     "output_type": "execute_result"
    }
   ],
   "source": [
    "my_tuple"
   ]
  },
  {
   "cell_type": "code",
   "execution_count": 25,
   "id": "fd1f447f",
   "metadata": {},
   "outputs": [],
   "source": [
    "y = list(my_tuple)"
   ]
  },
  {
   "cell_type": "code",
   "execution_count": 26,
   "id": "d566c34b",
   "metadata": {},
   "outputs": [],
   "source": [
    "y[1] = \"kiwi\""
   ]
  },
  {
   "cell_type": "code",
   "execution_count": 27,
   "id": "4f663d57",
   "metadata": {},
   "outputs": [],
   "source": [
    "my_tuple = tuple(y)"
   ]
  },
  {
   "cell_type": "code",
   "execution_count": 28,
   "id": "bddbae2a",
   "metadata": {},
   "outputs": [
    {
     "data": {
      "text/plain": [
       "(3, 'kiwi', 45, 23, 878, 'divya', True, 34, 'orange')"
      ]
     },
     "execution_count": 28,
     "metadata": {},
     "output_type": "execute_result"
    }
   ],
   "source": [
    "my_tuple"
   ]
  },
  {
   "cell_type": "code",
   "execution_count": 29,
   "id": "e217b363",
   "metadata": {},
   "outputs": [
    {
     "data": {
      "text/plain": [
       "(3, 'kiwi', 45, 23, 878, 'divya', True, 34, 'orange')"
      ]
     },
     "execution_count": 29,
     "metadata": {},
     "output_type": "execute_result"
    }
   ],
   "source": [
    "# add items \n",
    "my_tuple"
   ]
  },
  {
   "cell_type": "code",
   "execution_count": 30,
   "id": "a72da66f",
   "metadata": {},
   "outputs": [],
   "source": [
    "y = list(my_tuple)"
   ]
  },
  {
   "cell_type": "code",
   "execution_count": 31,
   "id": "498edee6",
   "metadata": {},
   "outputs": [],
   "source": [
    "y.append(\"cherry\")"
   ]
  },
  {
   "cell_type": "code",
   "execution_count": 32,
   "id": "43c8c7b2",
   "metadata": {},
   "outputs": [],
   "source": [
    "my_tuple = tuple(y)"
   ]
  },
  {
   "cell_type": "code",
   "execution_count": 33,
   "id": "612dc069",
   "metadata": {},
   "outputs": [
    {
     "data": {
      "text/plain": [
       "(3, 'kiwi', 45, 23, 878, 'divya', True, 34, 'orange', 'cherry')"
      ]
     },
     "execution_count": 33,
     "metadata": {},
     "output_type": "execute_result"
    }
   ],
   "source": [
    "my_tuple"
   ]
  },
  {
   "cell_type": "code",
   "execution_count": 34,
   "id": "19e105b8",
   "metadata": {},
   "outputs": [],
   "source": [
    "y = (\"apple\",)"
   ]
  },
  {
   "cell_type": "code",
   "execution_count": 35,
   "id": "7115db65",
   "metadata": {},
   "outputs": [],
   "source": [
    "my_tuple += y"
   ]
  },
  {
   "cell_type": "code",
   "execution_count": 36,
   "id": "70853871",
   "metadata": {},
   "outputs": [
    {
     "data": {
      "text/plain": [
       "(3, 'kiwi', 45, 23, 878, 'divya', True, 34, 'orange', 'cherry', 'apple')"
      ]
     },
     "execution_count": 36,
     "metadata": {},
     "output_type": "execute_result"
    }
   ],
   "source": [
    "my_tuple"
   ]
  },
  {
   "cell_type": "code",
   "execution_count": 37,
   "id": "dfd3dc25",
   "metadata": {},
   "outputs": [],
   "source": [
    "# remove items\n",
    "y = list(my_tuple)\n",
    "y.remove(\"apple\")\n",
    "my_tuple = tuple(y)"
   ]
  },
  {
   "cell_type": "code",
   "execution_count": 38,
   "id": "de73e2b3",
   "metadata": {},
   "outputs": [
    {
     "data": {
      "text/plain": [
       "(3, 'kiwi', 45, 23, 878, 'divya', True, 34, 'orange', 'cherry')"
      ]
     },
     "execution_count": 38,
     "metadata": {},
     "output_type": "execute_result"
    }
   ],
   "source": [
    "my_tuple"
   ]
  },
  {
   "cell_type": "code",
   "execution_count": 39,
   "id": "7a82b7d1",
   "metadata": {},
   "outputs": [],
   "source": [
    "del my_tuple"
   ]
  },
  {
   "cell_type": "code",
   "execution_count": 40,
   "id": "c31d84ee",
   "metadata": {},
   "outputs": [
    {
     "ename": "NameError",
     "evalue": "name 'my_tuple' is not defined",
     "output_type": "error",
     "traceback": [
      "\u001b[1;31m---------------------------------------------------------------------------\u001b[0m",
      "\u001b[1;31mNameError\u001b[0m                                 Traceback (most recent call last)",
      "\u001b[1;32m~\\AppData\\Local\\Temp/ipykernel_1532/2175398154.py\u001b[0m in \u001b[0;36m<module>\u001b[1;34m\u001b[0m\n\u001b[1;32m----> 1\u001b[1;33m \u001b[0mprint\u001b[0m\u001b[1;33m(\u001b[0m\u001b[0mmy_tuple\u001b[0m\u001b[1;33m)\u001b[0m\u001b[1;33m\u001b[0m\u001b[1;33m\u001b[0m\u001b[0m\n\u001b[0m",
      "\u001b[1;31mNameError\u001b[0m: name 'my_tuple' is not defined"
     ]
    }
   ],
   "source": [
    "print(my_tuple)"
   ]
  },
  {
   "cell_type": "markdown",
   "id": "dffca7cb",
   "metadata": {},
   "source": [
    "unpacking tuple : \n",
    "\n",
    "When we create a tuple, we normally assign values to it. This is called \"packing\" a tuple.\n",
    " \n",
    "But we are also allowed to extract the values back into variables. This is called \"unpacking\"."
   ]
  },
  {
   "cell_type": "code",
   "execution_count": 41,
   "id": "ed0140ca",
   "metadata": {},
   "outputs": [],
   "source": [
    "my_tuple = (\"apple\", \"banana\", \"cherry\")"
   ]
  },
  {
   "cell_type": "code",
   "execution_count": 42,
   "id": "100e5858",
   "metadata": {},
   "outputs": [
    {
     "data": {
      "text/plain": [
       "('apple', 'banana', 'cherry')"
      ]
     },
     "execution_count": 42,
     "metadata": {},
     "output_type": "execute_result"
    }
   ],
   "source": [
    "my_tuple"
   ]
  },
  {
   "cell_type": "code",
   "execution_count": 44,
   "id": "26c2c2e0",
   "metadata": {},
   "outputs": [],
   "source": [
    "(green, yellow, red) = my_tuple"
   ]
  },
  {
   "cell_type": "code",
   "execution_count": 45,
   "id": "c4adbd1d",
   "metadata": {},
   "outputs": [
    {
     "name": "stdout",
     "output_type": "stream",
     "text": [
      "apple\n"
     ]
    }
   ],
   "source": [
    "print(green)"
   ]
  },
  {
   "cell_type": "code",
   "execution_count": 46,
   "id": "32128bc0",
   "metadata": {},
   "outputs": [
    {
     "name": "stdout",
     "output_type": "stream",
     "text": [
      "banana\n"
     ]
    }
   ],
   "source": [
    "print(yellow)"
   ]
  },
  {
   "cell_type": "code",
   "execution_count": 47,
   "id": "0de564a2",
   "metadata": {},
   "outputs": [
    {
     "name": "stdout",
     "output_type": "stream",
     "text": [
      "cherry\n"
     ]
    }
   ],
   "source": [
    "print(red)"
   ]
  },
  {
   "cell_type": "code",
   "execution_count": null,
   "id": "d6955ed3",
   "metadata": {},
   "outputs": [],
   "source": []
  }
 ],
 "metadata": {
  "kernelspec": {
   "display_name": "Python 3 (ipykernel)",
   "language": "python",
   "name": "python3"
  },
  "language_info": {
   "codemirror_mode": {
    "name": "ipython",
    "version": 3
   },
   "file_extension": ".py",
   "mimetype": "text/x-python",
   "name": "python",
   "nbconvert_exporter": "python",
   "pygments_lexer": "ipython3",
   "version": "3.9.7"
  }
 },
 "nbformat": 4,
 "nbformat_minor": 5
}
