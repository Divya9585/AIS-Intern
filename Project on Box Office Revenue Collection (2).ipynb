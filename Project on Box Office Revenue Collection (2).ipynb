{
 "cells": [
  {
   "cell_type": "code",
   "execution_count": 2,
   "id": "fd5fbd85",
   "metadata": {},
   "outputs": [],
   "source": [
    "import numpy as np \n",
    "import pandas as pd \n",
    "import matplotlib.pyplot as plt \n",
    "import seaborn as sns"
   ]
  },
  {
   "cell_type": "code",
   "execution_count": 3,
   "id": "0f13f171",
   "metadata": {},
   "outputs": [],
   "source": [
    "df = pd.read_csv(\"C:/Users/spsha/Downloads/IMDB-Movie-Data.csv\")"
   ]
  },
  {
   "cell_type": "code",
   "execution_count": 4,
   "id": "a72ad297",
   "metadata": {},
   "outputs": [
    {
     "name": "stdout",
     "output_type": "stream",
     "text": [
      "<class 'pandas.core.frame.DataFrame'>\n",
      "RangeIndex: 1000 entries, 0 to 999\n",
      "Data columns (total 12 columns):\n",
      " #   Column              Non-Null Count  Dtype  \n",
      "---  ------              --------------  -----  \n",
      " 0   Rank                1000 non-null   int64  \n",
      " 1   Title               1000 non-null   object \n",
      " 2   Genre               1000 non-null   object \n",
      " 3   Description         1000 non-null   object \n",
      " 4   Director            1000 non-null   object \n",
      " 5   Actors              1000 non-null   object \n",
      " 6   Year                1000 non-null   int64  \n",
      " 7   Runtime (Minutes)   1000 non-null   int64  \n",
      " 8   Rating              1000 non-null   float64\n",
      " 9   Votes               1000 non-null   int64  \n",
      " 10  Revenue (Millions)  872 non-null    float64\n",
      " 11  Metascore           936 non-null    float64\n",
      "dtypes: float64(3), int64(4), object(5)\n",
      "memory usage: 93.9+ KB\n"
     ]
    }
   ],
   "source": [
    "df.info()"
   ]
  },
  {
   "cell_type": "code",
   "execution_count": 5,
   "id": "621af5a0",
   "metadata": {},
   "outputs": [
    {
     "data": {
      "text/plain": [
       "array(['Action,Adventure,Sci-Fi', 'Adventure,Mystery,Sci-Fi',\n",
       "       'Horror,Thriller', 'Animation,Comedy,Family',\n",
       "       'Action,Adventure,Fantasy', 'Comedy,Drama,Music', 'Comedy',\n",
       "       'Action,Adventure,Biography', 'Adventure,Drama,Romance',\n",
       "       'Adventure,Family,Fantasy', 'Biography,Drama,History',\n",
       "       'Animation,Adventure,Comedy', 'Action,Comedy,Drama',\n",
       "       'Action,Thriller', 'Biography,Drama', 'Drama,Mystery,Sci-Fi',\n",
       "       'Adventure,Drama,Thriller', 'Drama', 'Crime,Drama,Horror',\n",
       "       'Action,Adventure,Drama', 'Drama,Thriller',\n",
       "       'Action,Adventure,Comedy', 'Action,Horror,Sci-Fi',\n",
       "       'Adventure,Drama,Sci-Fi', 'Action,Adventure,Western',\n",
       "       'Comedy,Drama', 'Horror', 'Adventure,Drama,Fantasy',\n",
       "       'Action,Crime,Thriller', 'Action,Crime,Drama',\n",
       "       'Adventure,Drama,History', 'Crime,Horror,Thriller',\n",
       "       'Drama,Romance', 'Comedy,Drama,Romance', 'Horror,Mystery,Thriller',\n",
       "       'Crime,Drama,Mystery', 'Drama,Romance,Thriller',\n",
       "       'Drama,History,Thriller', 'Action,Drama,Thriller', 'Drama,History',\n",
       "       'Action,Drama,Romance', 'Drama,Fantasy', 'Action,Sci-Fi',\n",
       "       'Adventure,Drama,War', 'Action,Comedy,Fantasy',\n",
       "       'Biography,Comedy,Crime', 'Crime,Drama', 'Comedy,Crime,Drama',\n",
       "       'Action,Comedy,Crime', 'Animation,Drama,Fantasy',\n",
       "       'Horror,Mystery,Sci-Fi', 'Drama,Mystery,Thriller',\n",
       "       'Crime,Drama,Thriller', 'Biography,Crime,Drama',\n",
       "       'Crime,Mystery,Thriller', 'Action,Horror,Thriller',\n",
       "       'Romance,Sci-Fi', 'Action,Fantasy,War', 'Action,Biography,Drama',\n",
       "       'Drama,Horror,Mystery', 'Adventure,Drama,Family',\n",
       "       'Adventure,Comedy,Romance', 'Action', 'Adventure,Crime,Mystery',\n",
       "       'Comedy,Family,Musical', 'Adventure,Comedy,Drama',\n",
       "       'Drama,Horror,Thriller', 'Drama,Music', 'Mystery,Thriller',\n",
       "       'Mystery,Thriller,Western', 'Comedy,Family',\n",
       "       'Biography,Comedy,Drama', 'Drama,Western', 'Drama,Mystery,Romance',\n",
       "       'Action,Drama,Mystery', 'Action,Adventure,Crime',\n",
       "       'Adventure,Sci-Fi,Thriller', 'Action,Comedy,Mystery',\n",
       "       'Thriller,War', 'Action,Adventure,Thriller',\n",
       "       'Drama,Fantasy,Romance', 'Action,Drama,History',\n",
       "       'Animation,Adventure,Family', 'Adventure,Horror',\n",
       "       'Drama,Romance,Sci-Fi', 'Action,Adventure,Family', 'Action,Comedy',\n",
       "       'Comedy,Romance', 'Horror,Mystery', 'Drama,Family,Fantasy',\n",
       "       'Sci-Fi', 'Drama,War', 'Drama,Fantasy,Horror',\n",
       "       'Crime,Drama,History', 'Horror,Sci-Fi,Thriller',\n",
       "       'Action,Drama,Sport', 'Adventure,Biography,Drama',\n",
       "       'Biography,Drama,Thriller', 'Action,Adventure,Mystery',\n",
       "       'Drama,Horror', 'Comedy,Crime', 'Drama,Fantasy,War',\n",
       "       'Action,Adventure,Romance', 'Action,Drama,War',\n",
       "       'Drama,Musical,Romance', 'Drama,Sci-Fi,Thriller',\n",
       "       'Action,Drama,Sci-Fi', 'Drama,Sci-Fi', 'Adventure,Fantasy',\n",
       "       'Thriller', 'Biography,Drama,Romance', 'Action,Adventure',\n",
       "       'Action,Fantasy', 'Action,Drama,Horror', 'Comedy,Music,Romance',\n",
       "       'Biography,Drama,Sport', 'Action,Horror', 'Comedy,Horror,Thriller',\n",
       "       'Crime,Drama,Music', 'Action,Sci-Fi,Thriller',\n",
       "       'Drama,Horror,Sci-Fi', 'Drama,Sport', 'Comedy,Horror',\n",
       "       'Comedy,Fantasy,Romance', 'Comedy,Fantasy', 'Comedy,Drama,Fantasy',\n",
       "       'Adventure,Comedy,Horror', 'Comedy,Mystery',\n",
       "       'Action,Mystery,Sci-Fi', 'Action,Crime,Fantasy',\n",
       "       'Comedy,Fantasy,Horror', 'Animation,Action,Adventure',\n",
       "       'Action,Comedy,Family', 'Comedy,Sci-Fi', 'Action,Biography,Crime',\n",
       "       'Adventure,Comedy', 'Comedy,Music', 'Comedy,Drama,Horror',\n",
       "       'Action,Horror,Romance', 'Action,Drama,Fantasy',\n",
       "       'Action,Mystery,Thriller', 'Action,Adventure,Horror',\n",
       "       'Animation,Family,Fantasy', 'Adventure,Horror,Mystery',\n",
       "       'Action,Horror,Mystery', 'Adventure,Comedy,Family',\n",
       "       'Action,Crime,Mystery', 'Comedy,Drama,Family',\n",
       "       'Action,Crime,Sport', 'Mystery,Sci-Fi,Thriller', 'Sci-Fi,Thriller',\n",
       "       'Adventure,Drama,Horror', 'Biography,History,Thriller',\n",
       "       'Adventure,Comedy,Sci-Fi', 'Fantasy,Horror',\n",
       "       'Action,Fantasy,Thriller', 'Comedy,Romance,Sport',\n",
       "       'Animation,Action,Comedy', 'Drama,Fantasy,Thriller',\n",
       "       'Action,Comedy,Romance', 'Action,Fantasy,Horror',\n",
       "       'Mystery,Romance,Sci-Fi', 'Comedy,Drama,Thriller',\n",
       "       'Comedy,Western', 'Drama,History,War', 'Fantasy,Horror,Thriller',\n",
       "       'Drama,Horror,Musical', 'Drama,Family', 'Romance,Sci-Fi,Thriller',\n",
       "       'Animation,Fantasy', 'Drama,Mystery,War', 'Action,Drama,Family',\n",
       "       'Adventure,Drama,Western', 'Drama,Music,Romance',\n",
       "       'Comedy,Romance,Western', 'Adventure,Drama', 'Drama,Thriller,War',\n",
       "       'Drama,Fantasy,Mystery', 'Comedy,Crime,Thriller',\n",
       "       'Animation,Comedy,Drama', 'Action,Comedy,Sci-Fi',\n",
       "       'Drama,Romance,War', 'Adventure,Fantasy,Mystery',\n",
       "       'Mystery,Romance,Thriller', 'Biography,Drama,Mystery',\n",
       "       'Animation,Drama,Romance', 'Comedy,Horror,Romance',\n",
       "       'Action,Thriller,War', 'Action,Comedy,Horror',\n",
       "       'Action,Crime,Sci-Fi', 'Crime,Thriller', 'Comedy,Horror,Sci-Fi',\n",
       "       'Crime,Drama,Fantasy', 'Drama,Fantasy,Music',\n",
       "       'Action,Comedy,Sport', 'Fantasy,Mystery,Thriller', 'Adventure',\n",
       "       'Adventure,Biography', 'Adventure,Biography,Crime',\n",
       "       'Comedy,Drama,Musical', 'Comedy,Family,Romance',\n",
       "       'Biography,Drama,Family', 'Drama,Fantasy,Musical',\n",
       "       'Adventure,Family', 'Adventure,Comedy,Fantasy',\n",
       "       'Drama,Family,Music', 'Comedy,Family,Fantasy'], dtype=object)"
      ]
     },
     "execution_count": 5,
     "metadata": {},
     "output_type": "execute_result"
    }
   ],
   "source": [
    "df['Genre'].unique()"
   ]
  },
  {
   "cell_type": "code",
   "execution_count": 6,
   "id": "21c075ee",
   "metadata": {},
   "outputs": [
    {
     "data": {
      "text/plain": [
       "{'Action',\n",
       " 'Adventure',\n",
       " 'Animation',\n",
       " 'Biography',\n",
       " 'Comedy',\n",
       " 'Crime',\n",
       " 'Drama',\n",
       " 'Family',\n",
       " 'Fantasy',\n",
       " 'History',\n",
       " 'Horror',\n",
       " 'Music',\n",
       " 'Musical',\n",
       " 'Mystery',\n",
       " 'Romance',\n",
       " 'Sci-Fi',\n",
       " 'Sport',\n",
       " 'Thriller',\n",
       " 'War',\n",
       " 'Western'}"
      ]
     },
     "execution_count": 6,
     "metadata": {},
     "output_type": "execute_result"
    }
   ],
   "source": [
    "unique_genres = []\n",
    "for a in df['Genre']:\n",
    "    unique_genres.extend(a.split(','))\n",
    "    \n",
    "set(unique_genres)"
   ]
  },
  {
   "cell_type": "code",
   "execution_count": 7,
   "id": "d2c3cfae",
   "metadata": {},
   "outputs": [
    {
     "data": {
      "text/plain": [
       "20"
      ]
     },
     "execution_count": 7,
     "metadata": {},
     "output_type": "execute_result"
    }
   ],
   "source": [
    "len(set(unique_genres))"
   ]
  },
  {
   "cell_type": "code",
   "execution_count": 8,
   "id": "23a0f945",
   "metadata": {},
   "outputs": [
    {
     "data": {
      "text/html": [
       "<div>\n",
       "<style scoped>\n",
       "    .dataframe tbody tr th:only-of-type {\n",
       "        vertical-align: middle;\n",
       "    }\n",
       "\n",
       "    .dataframe tbody tr th {\n",
       "        vertical-align: top;\n",
       "    }\n",
       "\n",
       "    .dataframe thead th {\n",
       "        text-align: right;\n",
       "    }\n",
       "</style>\n",
       "<table border=\"1\" class=\"dataframe\">\n",
       "  <thead>\n",
       "    <tr style=\"text-align: right;\">\n",
       "      <th></th>\n",
       "      <th>Rank</th>\n",
       "      <th>Title</th>\n",
       "      <th>Genre</th>\n",
       "      <th>Description</th>\n",
       "      <th>Director</th>\n",
       "      <th>Actors</th>\n",
       "      <th>Year</th>\n",
       "      <th>Runtime (Minutes)</th>\n",
       "      <th>Rating</th>\n",
       "      <th>Votes</th>\n",
       "      <th>...</th>\n",
       "      <th>Horror</th>\n",
       "      <th>Music</th>\n",
       "      <th>Musical</th>\n",
       "      <th>Mystery</th>\n",
       "      <th>Romance</th>\n",
       "      <th>Sci-Fi</th>\n",
       "      <th>Sport</th>\n",
       "      <th>Thriller</th>\n",
       "      <th>War</th>\n",
       "      <th>Western</th>\n",
       "    </tr>\n",
       "  </thead>\n",
       "  <tbody>\n",
       "    <tr>\n",
       "      <th>0</th>\n",
       "      <td>1</td>\n",
       "      <td>Guardians of the Galaxy</td>\n",
       "      <td>Action,Adventure,Sci-Fi</td>\n",
       "      <td>A group of intergalactic criminals are forced ...</td>\n",
       "      <td>James Gunn</td>\n",
       "      <td>Chris Pratt, Vin Diesel, Bradley Cooper, Zoe S...</td>\n",
       "      <td>2014</td>\n",
       "      <td>121</td>\n",
       "      <td>8.1</td>\n",
       "      <td>757074</td>\n",
       "      <td>...</td>\n",
       "      <td>0</td>\n",
       "      <td>0</td>\n",
       "      <td>0</td>\n",
       "      <td>0</td>\n",
       "      <td>0</td>\n",
       "      <td>1</td>\n",
       "      <td>0</td>\n",
       "      <td>0</td>\n",
       "      <td>0</td>\n",
       "      <td>0</td>\n",
       "    </tr>\n",
       "    <tr>\n",
       "      <th>1</th>\n",
       "      <td>2</td>\n",
       "      <td>Prometheus</td>\n",
       "      <td>Adventure,Mystery,Sci-Fi</td>\n",
       "      <td>Following clues to the origin of mankind, a te...</td>\n",
       "      <td>Ridley Scott</td>\n",
       "      <td>Noomi Rapace, Logan Marshall-Green, Michael Fa...</td>\n",
       "      <td>2012</td>\n",
       "      <td>124</td>\n",
       "      <td>7.0</td>\n",
       "      <td>485820</td>\n",
       "      <td>...</td>\n",
       "      <td>0</td>\n",
       "      <td>0</td>\n",
       "      <td>0</td>\n",
       "      <td>1</td>\n",
       "      <td>0</td>\n",
       "      <td>1</td>\n",
       "      <td>0</td>\n",
       "      <td>0</td>\n",
       "      <td>0</td>\n",
       "      <td>0</td>\n",
       "    </tr>\n",
       "    <tr>\n",
       "      <th>2</th>\n",
       "      <td>3</td>\n",
       "      <td>Split</td>\n",
       "      <td>Horror,Thriller</td>\n",
       "      <td>Three girls are kidnapped by a man with a diag...</td>\n",
       "      <td>M. Night Shyamalan</td>\n",
       "      <td>James McAvoy, Anya Taylor-Joy, Haley Lu Richar...</td>\n",
       "      <td>2016</td>\n",
       "      <td>117</td>\n",
       "      <td>7.3</td>\n",
       "      <td>157606</td>\n",
       "      <td>...</td>\n",
       "      <td>1</td>\n",
       "      <td>0</td>\n",
       "      <td>0</td>\n",
       "      <td>0</td>\n",
       "      <td>0</td>\n",
       "      <td>0</td>\n",
       "      <td>0</td>\n",
       "      <td>1</td>\n",
       "      <td>0</td>\n",
       "      <td>0</td>\n",
       "    </tr>\n",
       "    <tr>\n",
       "      <th>3</th>\n",
       "      <td>4</td>\n",
       "      <td>Sing</td>\n",
       "      <td>Animation,Comedy,Family</td>\n",
       "      <td>In a city of humanoid animals, a hustling thea...</td>\n",
       "      <td>Christophe Lourdelet</td>\n",
       "      <td>Matthew McConaughey,Reese Witherspoon, Seth Ma...</td>\n",
       "      <td>2016</td>\n",
       "      <td>108</td>\n",
       "      <td>7.2</td>\n",
       "      <td>60545</td>\n",
       "      <td>...</td>\n",
       "      <td>0</td>\n",
       "      <td>0</td>\n",
       "      <td>0</td>\n",
       "      <td>0</td>\n",
       "      <td>0</td>\n",
       "      <td>0</td>\n",
       "      <td>0</td>\n",
       "      <td>0</td>\n",
       "      <td>0</td>\n",
       "      <td>0</td>\n",
       "    </tr>\n",
       "    <tr>\n",
       "      <th>4</th>\n",
       "      <td>5</td>\n",
       "      <td>Suicide Squad</td>\n",
       "      <td>Action,Adventure,Fantasy</td>\n",
       "      <td>A secret government agency recruits some of th...</td>\n",
       "      <td>David Ayer</td>\n",
       "      <td>Will Smith, Jared Leto, Margot Robbie, Viola D...</td>\n",
       "      <td>2016</td>\n",
       "      <td>123</td>\n",
       "      <td>6.2</td>\n",
       "      <td>393727</td>\n",
       "      <td>...</td>\n",
       "      <td>0</td>\n",
       "      <td>0</td>\n",
       "      <td>0</td>\n",
       "      <td>0</td>\n",
       "      <td>0</td>\n",
       "      <td>0</td>\n",
       "      <td>0</td>\n",
       "      <td>0</td>\n",
       "      <td>0</td>\n",
       "      <td>0</td>\n",
       "    </tr>\n",
       "    <tr>\n",
       "      <th>...</th>\n",
       "      <td>...</td>\n",
       "      <td>...</td>\n",
       "      <td>...</td>\n",
       "      <td>...</td>\n",
       "      <td>...</td>\n",
       "      <td>...</td>\n",
       "      <td>...</td>\n",
       "      <td>...</td>\n",
       "      <td>...</td>\n",
       "      <td>...</td>\n",
       "      <td>...</td>\n",
       "      <td>...</td>\n",
       "      <td>...</td>\n",
       "      <td>...</td>\n",
       "      <td>...</td>\n",
       "      <td>...</td>\n",
       "      <td>...</td>\n",
       "      <td>...</td>\n",
       "      <td>...</td>\n",
       "      <td>...</td>\n",
       "      <td>...</td>\n",
       "    </tr>\n",
       "    <tr>\n",
       "      <th>995</th>\n",
       "      <td>996</td>\n",
       "      <td>Secret in Their Eyes</td>\n",
       "      <td>Crime,Drama,Mystery</td>\n",
       "      <td>A tight-knit team of rising investigators, alo...</td>\n",
       "      <td>Billy Ray</td>\n",
       "      <td>Chiwetel Ejiofor, Nicole Kidman, Julia Roberts...</td>\n",
       "      <td>2015</td>\n",
       "      <td>111</td>\n",
       "      <td>6.2</td>\n",
       "      <td>27585</td>\n",
       "      <td>...</td>\n",
       "      <td>0</td>\n",
       "      <td>0</td>\n",
       "      <td>0</td>\n",
       "      <td>1</td>\n",
       "      <td>0</td>\n",
       "      <td>0</td>\n",
       "      <td>0</td>\n",
       "      <td>0</td>\n",
       "      <td>0</td>\n",
       "      <td>0</td>\n",
       "    </tr>\n",
       "    <tr>\n",
       "      <th>996</th>\n",
       "      <td>997</td>\n",
       "      <td>Hostel: Part II</td>\n",
       "      <td>Horror</td>\n",
       "      <td>Three American college students studying abroa...</td>\n",
       "      <td>Eli Roth</td>\n",
       "      <td>Lauren German, Heather Matarazzo, Bijou Philli...</td>\n",
       "      <td>2007</td>\n",
       "      <td>94</td>\n",
       "      <td>5.5</td>\n",
       "      <td>73152</td>\n",
       "      <td>...</td>\n",
       "      <td>1</td>\n",
       "      <td>0</td>\n",
       "      <td>0</td>\n",
       "      <td>0</td>\n",
       "      <td>0</td>\n",
       "      <td>0</td>\n",
       "      <td>0</td>\n",
       "      <td>0</td>\n",
       "      <td>0</td>\n",
       "      <td>0</td>\n",
       "    </tr>\n",
       "    <tr>\n",
       "      <th>997</th>\n",
       "      <td>998</td>\n",
       "      <td>Step Up 2: The Streets</td>\n",
       "      <td>Drama,Music,Romance</td>\n",
       "      <td>Romantic sparks occur between two dance studen...</td>\n",
       "      <td>Jon M. Chu</td>\n",
       "      <td>Robert Hoffman, Briana Evigan, Cassie Ventura,...</td>\n",
       "      <td>2008</td>\n",
       "      <td>98</td>\n",
       "      <td>6.2</td>\n",
       "      <td>70699</td>\n",
       "      <td>...</td>\n",
       "      <td>0</td>\n",
       "      <td>1</td>\n",
       "      <td>0</td>\n",
       "      <td>0</td>\n",
       "      <td>1</td>\n",
       "      <td>0</td>\n",
       "      <td>0</td>\n",
       "      <td>0</td>\n",
       "      <td>0</td>\n",
       "      <td>0</td>\n",
       "    </tr>\n",
       "    <tr>\n",
       "      <th>998</th>\n",
       "      <td>999</td>\n",
       "      <td>Search Party</td>\n",
       "      <td>Adventure,Comedy</td>\n",
       "      <td>A pair of friends embark on a mission to reuni...</td>\n",
       "      <td>Scot Armstrong</td>\n",
       "      <td>Adam Pally, T.J. Miller, Thomas Middleditch,Sh...</td>\n",
       "      <td>2014</td>\n",
       "      <td>93</td>\n",
       "      <td>5.6</td>\n",
       "      <td>4881</td>\n",
       "      <td>...</td>\n",
       "      <td>0</td>\n",
       "      <td>0</td>\n",
       "      <td>0</td>\n",
       "      <td>0</td>\n",
       "      <td>0</td>\n",
       "      <td>0</td>\n",
       "      <td>0</td>\n",
       "      <td>0</td>\n",
       "      <td>0</td>\n",
       "      <td>0</td>\n",
       "    </tr>\n",
       "    <tr>\n",
       "      <th>999</th>\n",
       "      <td>1000</td>\n",
       "      <td>Nine Lives</td>\n",
       "      <td>Comedy,Family,Fantasy</td>\n",
       "      <td>A stuffy businessman finds himself trapped ins...</td>\n",
       "      <td>Barry Sonnenfeld</td>\n",
       "      <td>Kevin Spacey, Jennifer Garner, Robbie Amell,Ch...</td>\n",
       "      <td>2016</td>\n",
       "      <td>87</td>\n",
       "      <td>5.3</td>\n",
       "      <td>12435</td>\n",
       "      <td>...</td>\n",
       "      <td>0</td>\n",
       "      <td>0</td>\n",
       "      <td>0</td>\n",
       "      <td>0</td>\n",
       "      <td>0</td>\n",
       "      <td>0</td>\n",
       "      <td>0</td>\n",
       "      <td>0</td>\n",
       "      <td>0</td>\n",
       "      <td>0</td>\n",
       "    </tr>\n",
       "  </tbody>\n",
       "</table>\n",
       "<p>1000 rows × 32 columns</p>\n",
       "</div>"
      ],
      "text/plain": [
       "     Rank                    Title                     Genre  \\\n",
       "0       1  Guardians of the Galaxy   Action,Adventure,Sci-Fi   \n",
       "1       2               Prometheus  Adventure,Mystery,Sci-Fi   \n",
       "2       3                    Split           Horror,Thriller   \n",
       "3       4                     Sing   Animation,Comedy,Family   \n",
       "4       5            Suicide Squad  Action,Adventure,Fantasy   \n",
       "..    ...                      ...                       ...   \n",
       "995   996     Secret in Their Eyes       Crime,Drama,Mystery   \n",
       "996   997          Hostel: Part II                    Horror   \n",
       "997   998   Step Up 2: The Streets       Drama,Music,Romance   \n",
       "998   999             Search Party          Adventure,Comedy   \n",
       "999  1000               Nine Lives     Comedy,Family,Fantasy   \n",
       "\n",
       "                                           Description              Director  \\\n",
       "0    A group of intergalactic criminals are forced ...            James Gunn   \n",
       "1    Following clues to the origin of mankind, a te...          Ridley Scott   \n",
       "2    Three girls are kidnapped by a man with a diag...    M. Night Shyamalan   \n",
       "3    In a city of humanoid animals, a hustling thea...  Christophe Lourdelet   \n",
       "4    A secret government agency recruits some of th...            David Ayer   \n",
       "..                                                 ...                   ...   \n",
       "995  A tight-knit team of rising investigators, alo...             Billy Ray   \n",
       "996  Three American college students studying abroa...              Eli Roth   \n",
       "997  Romantic sparks occur between two dance studen...            Jon M. Chu   \n",
       "998  A pair of friends embark on a mission to reuni...        Scot Armstrong   \n",
       "999  A stuffy businessman finds himself trapped ins...      Barry Sonnenfeld   \n",
       "\n",
       "                                                Actors  Year  \\\n",
       "0    Chris Pratt, Vin Diesel, Bradley Cooper, Zoe S...  2014   \n",
       "1    Noomi Rapace, Logan Marshall-Green, Michael Fa...  2012   \n",
       "2    James McAvoy, Anya Taylor-Joy, Haley Lu Richar...  2016   \n",
       "3    Matthew McConaughey,Reese Witherspoon, Seth Ma...  2016   \n",
       "4    Will Smith, Jared Leto, Margot Robbie, Viola D...  2016   \n",
       "..                                                 ...   ...   \n",
       "995  Chiwetel Ejiofor, Nicole Kidman, Julia Roberts...  2015   \n",
       "996  Lauren German, Heather Matarazzo, Bijou Philli...  2007   \n",
       "997  Robert Hoffman, Briana Evigan, Cassie Ventura,...  2008   \n",
       "998  Adam Pally, T.J. Miller, Thomas Middleditch,Sh...  2014   \n",
       "999  Kevin Spacey, Jennifer Garner, Robbie Amell,Ch...  2016   \n",
       "\n",
       "     Runtime (Minutes)  Rating   Votes  ...  Horror  Music  Musical  Mystery  \\\n",
       "0                  121     8.1  757074  ...       0      0        0        0   \n",
       "1                  124     7.0  485820  ...       0      0        0        1   \n",
       "2                  117     7.3  157606  ...       1      0        0        0   \n",
       "3                  108     7.2   60545  ...       0      0        0        0   \n",
       "4                  123     6.2  393727  ...       0      0        0        0   \n",
       "..                 ...     ...     ...  ...     ...    ...      ...      ...   \n",
       "995                111     6.2   27585  ...       0      0        0        1   \n",
       "996                 94     5.5   73152  ...       1      0        0        0   \n",
       "997                 98     6.2   70699  ...       0      1        0        0   \n",
       "998                 93     5.6    4881  ...       0      0        0        0   \n",
       "999                 87     5.3   12435  ...       0      0        0        0   \n",
       "\n",
       "     Romance  Sci-Fi  Sport  Thriller  War  Western  \n",
       "0          0       1      0         0    0        0  \n",
       "1          0       1      0         0    0        0  \n",
       "2          0       0      0         1    0        0  \n",
       "3          0       0      0         0    0        0  \n",
       "4          0       0      0         0    0        0  \n",
       "..       ...     ...    ...       ...  ...      ...  \n",
       "995        0       0      0         0    0        0  \n",
       "996        0       0      0         0    0        0  \n",
       "997        1       0      0         0    0        0  \n",
       "998        0       0      0         0    0        0  \n",
       "999        0       0      0         0    0        0  \n",
       "\n",
       "[1000 rows x 32 columns]"
      ]
     },
     "execution_count": 8,
     "metadata": {},
     "output_type": "execute_result"
    }
   ],
   "source": [
    "genres_split = df['Genre'].str.get_dummies(sep =',')\n",
    "df = pd.concat([df,genres_split],axis=1)\n",
    "df"
   ]
  },
  {
   "cell_type": "code",
   "execution_count": 9,
   "id": "3516558c",
   "metadata": {},
   "outputs": [
    {
     "name": "stdout",
     "output_type": "stream",
     "text": [
      "Number of Rows: 1000\n",
      "Number of Columns: 32\n"
     ]
    }
   ],
   "source": [
    "# Shape of Dataset - (Num of Rows and Num of Columns)\n",
    "df.shape\n",
    "print(\"Number of Rows:\",df.shape[0])\n",
    "print(\"Number of Columns:\",df.shape[1])"
   ]
  },
  {
   "cell_type": "code",
   "execution_count": 10,
   "id": "fbd8c715",
   "metadata": {},
   "outputs": [
    {
     "name": "stdout",
     "output_type": "stream",
     "text": [
      "<class 'pandas.core.frame.DataFrame'>\n",
      "RangeIndex: 1000 entries, 0 to 999\n",
      "Data columns (total 32 columns):\n",
      " #   Column              Non-Null Count  Dtype  \n",
      "---  ------              --------------  -----  \n",
      " 0   Rank                1000 non-null   int64  \n",
      " 1   Title               1000 non-null   object \n",
      " 2   Genre               1000 non-null   object \n",
      " 3   Description         1000 non-null   object \n",
      " 4   Director            1000 non-null   object \n",
      " 5   Actors              1000 non-null   object \n",
      " 6   Year                1000 non-null   int64  \n",
      " 7   Runtime (Minutes)   1000 non-null   int64  \n",
      " 8   Rating              1000 non-null   float64\n",
      " 9   Votes               1000 non-null   int64  \n",
      " 10  Revenue (Millions)  872 non-null    float64\n",
      " 11  Metascore           936 non-null    float64\n",
      " 12  Action              1000 non-null   int64  \n",
      " 13  Adventure           1000 non-null   int64  \n",
      " 14  Animation           1000 non-null   int64  \n",
      " 15  Biography           1000 non-null   int64  \n",
      " 16  Comedy              1000 non-null   int64  \n",
      " 17  Crime               1000 non-null   int64  \n",
      " 18  Drama               1000 non-null   int64  \n",
      " 19  Family              1000 non-null   int64  \n",
      " 20  Fantasy             1000 non-null   int64  \n",
      " 21  History             1000 non-null   int64  \n",
      " 22  Horror              1000 non-null   int64  \n",
      " 23  Music               1000 non-null   int64  \n",
      " 24  Musical             1000 non-null   int64  \n",
      " 25  Mystery             1000 non-null   int64  \n",
      " 26  Romance             1000 non-null   int64  \n",
      " 27  Sci-Fi              1000 non-null   int64  \n",
      " 28  Sport               1000 non-null   int64  \n",
      " 29  Thriller            1000 non-null   int64  \n",
      " 30  War                 1000 non-null   int64  \n",
      " 31  Western             1000 non-null   int64  \n",
      "dtypes: float64(3), int64(24), object(5)\n",
      "memory usage: 250.1+ KB\n"
     ]
    }
   ],
   "source": [
    "# To ge all information about Dataset \n",
    "df.info()"
   ]
  },
  {
   "cell_type": "markdown",
   "id": "345e84e8",
   "metadata": {},
   "source": [
    "# Checking Missing values in dataset"
   ]
  },
  {
   "cell_type": "code",
   "execution_count": 11,
   "id": "bbb3b275",
   "metadata": {},
   "outputs": [
    {
     "name": "stdout",
     "output_type": "stream",
     "text": [
      "Any missing valuse? True\n"
     ]
    }
   ],
   "source": [
    "print(\"Any missing valuse?\", df.isnull().values.any())"
   ]
  },
  {
   "cell_type": "code",
   "execution_count": 12,
   "id": "76eee8a9",
   "metadata": {},
   "outputs": [
    {
     "data": {
      "text/plain": [
       "Rank                    0\n",
       "Title                   0\n",
       "Genre                   0\n",
       "Description             0\n",
       "Director                0\n",
       "Actors                  0\n",
       "Year                    0\n",
       "Runtime (Minutes)       0\n",
       "Rating                  0\n",
       "Votes                   0\n",
       "Revenue (Millions)    128\n",
       "Metascore              64\n",
       "Action                  0\n",
       "Adventure               0\n",
       "Animation               0\n",
       "Biography               0\n",
       "Comedy                  0\n",
       "Crime                   0\n",
       "Drama                   0\n",
       "Family                  0\n",
       "Fantasy                 0\n",
       "History                 0\n",
       "Horror                  0\n",
       "Music                   0\n",
       "Musical                 0\n",
       "Mystery                 0\n",
       "Romance                 0\n",
       "Sci-Fi                  0\n",
       "Sport                   0\n",
       "Thriller                0\n",
       "War                     0\n",
       "Western                 0\n",
       "dtype: int64"
      ]
     },
     "execution_count": 12,
     "metadata": {},
     "output_type": "execute_result"
    }
   ],
   "source": [
    "df.isnull().sum()"
   ]
  },
  {
   "cell_type": "code",
   "execution_count": 13,
   "id": "945e43fe",
   "metadata": {},
   "outputs": [
    {
     "name": "stdout",
     "output_type": "stream",
     "text": [
      "Rank                   0.0\n",
      "Title                  0.0\n",
      "Genre                  0.0\n",
      "Description            0.0\n",
      "Director               0.0\n",
      "Actors                 0.0\n",
      "Year                   0.0\n",
      "Runtime (Minutes)      0.0\n",
      "Rating                 0.0\n",
      "Votes                  0.0\n",
      "Revenue (Millions)    12.8\n",
      "Metascore              6.4\n",
      "Action                 0.0\n",
      "Adventure              0.0\n",
      "Animation              0.0\n",
      "Biography              0.0\n",
      "Comedy                 0.0\n",
      "Crime                  0.0\n",
      "Drama                  0.0\n",
      "Family                 0.0\n",
      "Fantasy                0.0\n",
      "History                0.0\n",
      "Horror                 0.0\n",
      "Music                  0.0\n",
      "Musical                0.0\n",
      "Mystery                0.0\n",
      "Romance                0.0\n",
      "Sci-Fi                 0.0\n",
      "Sport                  0.0\n",
      "Thriller               0.0\n",
      "War                    0.0\n",
      "Western                0.0\n",
      "dtype: float64\n"
     ]
    }
   ],
   "source": [
    "# To get missing value precentage \n",
    "per_missing = df.isnull().sum()*100/len(df)\n",
    "print(per_missing)"
   ]
  },
  {
   "cell_type": "markdown",
   "id": "5803879a",
   "metadata": {},
   "source": [
    "* Here in column Revenue (Millions) 12.8% are missing values and in column Metascore 6.4% missing values are there."
   ]
  },
  {
   "cell_type": "code",
   "execution_count": 14,
   "id": "e1787f41",
   "metadata": {},
   "outputs": [
    {
     "name": "stdout",
     "output_type": "stream",
     "text": [
      "False\n"
     ]
    }
   ],
   "source": [
    "# Check for duplicate Data\n",
    "duplicate_data = df.duplicated().any()\n",
    "print(duplicate_data)"
   ]
  },
  {
   "cell_type": "markdown",
   "id": "bfdbba61",
   "metadata": {},
   "source": [
    "* To fill missing values "
   ]
  },
  {
   "cell_type": "code",
   "execution_count": 15,
   "id": "5af31791",
   "metadata": {},
   "outputs": [
    {
     "data": {
      "text/plain": [
       "82.95637614678898"
      ]
     },
     "execution_count": 15,
     "metadata": {},
     "output_type": "execute_result"
    }
   ],
   "source": [
    "# taking mean value of whole Revenue (Millions) column \n",
    "a=df['Revenue (Millions)'].mean()\n",
    "a"
   ]
  },
  {
   "cell_type": "markdown",
   "id": "d286e770",
   "metadata": {},
   "source": [
    "* This value is mean of Revenue (Millions) column in dataset"
   ]
  },
  {
   "cell_type": "code",
   "execution_count": 16,
   "id": "863a0aef",
   "metadata": {},
   "outputs": [],
   "source": [
    "# To fill this mean in missing values\n",
    "df['Revenue (Millions)'].fillna(a,inplace=True)"
   ]
  },
  {
   "cell_type": "code",
   "execution_count": 17,
   "id": "1f996310",
   "metadata": {},
   "outputs": [
    {
     "data": {
      "text/plain": [
       "58.98504273504273"
      ]
     },
     "execution_count": 17,
     "metadata": {},
     "output_type": "execute_result"
    }
   ],
   "source": [
    "# taking mean value of whole Metascore column\n",
    "b=df['Metascore'].mean()\n",
    "b"
   ]
  },
  {
   "cell_type": "markdown",
   "id": "6753ea04",
   "metadata": {},
   "source": [
    "* This value is mean of Metascore column in dataset"
   ]
  },
  {
   "cell_type": "code",
   "execution_count": 18,
   "id": "1f21445e",
   "metadata": {},
   "outputs": [],
   "source": [
    "# # To fill this mean in missing values\n",
    "df['Metascore'].fillna(b,inplace=True)"
   ]
  },
  {
   "cell_type": "code",
   "execution_count": 19,
   "id": "7eb2209e",
   "metadata": {},
   "outputs": [
    {
     "name": "stdout",
     "output_type": "stream",
     "text": [
      "Any missing valuse? False\n"
     ]
    }
   ],
   "source": [
    "# to check if there is any missing values \n",
    "print(\"Any missing valuse?\", df.isnull().values.any())"
   ]
  },
  {
   "cell_type": "code",
   "execution_count": 20,
   "id": "234b2cac",
   "metadata": {},
   "outputs": [
    {
     "data": {
      "text/html": [
       "<div>\n",
       "<style scoped>\n",
       "    .dataframe tbody tr th:only-of-type {\n",
       "        vertical-align: middle;\n",
       "    }\n",
       "\n",
       "    .dataframe tbody tr th {\n",
       "        vertical-align: top;\n",
       "    }\n",
       "\n",
       "    .dataframe thead th {\n",
       "        text-align: right;\n",
       "    }\n",
       "</style>\n",
       "<table border=\"1\" class=\"dataframe\">\n",
       "  <thead>\n",
       "    <tr style=\"text-align: right;\">\n",
       "      <th></th>\n",
       "      <th>Rank</th>\n",
       "      <th>Year</th>\n",
       "      <th>Runtime (Minutes)</th>\n",
       "      <th>Rating</th>\n",
       "      <th>Votes</th>\n",
       "      <th>Revenue (Millions)</th>\n",
       "      <th>Metascore</th>\n",
       "      <th>Action</th>\n",
       "      <th>Adventure</th>\n",
       "      <th>Animation</th>\n",
       "      <th>...</th>\n",
       "      <th>Horror</th>\n",
       "      <th>Music</th>\n",
       "      <th>Musical</th>\n",
       "      <th>Mystery</th>\n",
       "      <th>Romance</th>\n",
       "      <th>Sci-Fi</th>\n",
       "      <th>Sport</th>\n",
       "      <th>Thriller</th>\n",
       "      <th>War</th>\n",
       "      <th>Western</th>\n",
       "    </tr>\n",
       "  </thead>\n",
       "  <tbody>\n",
       "    <tr>\n",
       "      <th>count</th>\n",
       "      <td>1000.000000</td>\n",
       "      <td>1000.000000</td>\n",
       "      <td>1000.000000</td>\n",
       "      <td>1000.000000</td>\n",
       "      <td>1.000000e+03</td>\n",
       "      <td>1000.000000</td>\n",
       "      <td>1000.000000</td>\n",
       "      <td>1000.000000</td>\n",
       "      <td>1000.000000</td>\n",
       "      <td>1000.000000</td>\n",
       "      <td>...</td>\n",
       "      <td>1000.000000</td>\n",
       "      <td>1000.000000</td>\n",
       "      <td>1000.000000</td>\n",
       "      <td>1000.000000</td>\n",
       "      <td>1000.000000</td>\n",
       "      <td>1000.000000</td>\n",
       "      <td>1000.000000</td>\n",
       "      <td>1000.000000</td>\n",
       "      <td>1000.000000</td>\n",
       "      <td>1000.000000</td>\n",
       "    </tr>\n",
       "    <tr>\n",
       "      <th>mean</th>\n",
       "      <td>500.500000</td>\n",
       "      <td>2012.783000</td>\n",
       "      <td>113.172000</td>\n",
       "      <td>6.723200</td>\n",
       "      <td>1.698083e+05</td>\n",
       "      <td>82.956376</td>\n",
       "      <td>58.985043</td>\n",
       "      <td>0.303000</td>\n",
       "      <td>0.259000</td>\n",
       "      <td>0.049000</td>\n",
       "      <td>...</td>\n",
       "      <td>0.119000</td>\n",
       "      <td>0.016000</td>\n",
       "      <td>0.005000</td>\n",
       "      <td>0.106000</td>\n",
       "      <td>0.141000</td>\n",
       "      <td>0.120000</td>\n",
       "      <td>0.018000</td>\n",
       "      <td>0.195000</td>\n",
       "      <td>0.013000</td>\n",
       "      <td>0.007000</td>\n",
       "    </tr>\n",
       "    <tr>\n",
       "      <th>std</th>\n",
       "      <td>288.819436</td>\n",
       "      <td>3.205962</td>\n",
       "      <td>18.810908</td>\n",
       "      <td>0.945429</td>\n",
       "      <td>1.887626e+05</td>\n",
       "      <td>96.412043</td>\n",
       "      <td>16.634858</td>\n",
       "      <td>0.459785</td>\n",
       "      <td>0.438305</td>\n",
       "      <td>0.215976</td>\n",
       "      <td>...</td>\n",
       "      <td>0.323951</td>\n",
       "      <td>0.125538</td>\n",
       "      <td>0.070569</td>\n",
       "      <td>0.307992</td>\n",
       "      <td>0.348196</td>\n",
       "      <td>0.325124</td>\n",
       "      <td>0.133018</td>\n",
       "      <td>0.396399</td>\n",
       "      <td>0.113331</td>\n",
       "      <td>0.083414</td>\n",
       "    </tr>\n",
       "    <tr>\n",
       "      <th>min</th>\n",
       "      <td>1.000000</td>\n",
       "      <td>2006.000000</td>\n",
       "      <td>66.000000</td>\n",
       "      <td>1.900000</td>\n",
       "      <td>6.100000e+01</td>\n",
       "      <td>0.000000</td>\n",
       "      <td>11.000000</td>\n",
       "      <td>0.000000</td>\n",
       "      <td>0.000000</td>\n",
       "      <td>0.000000</td>\n",
       "      <td>...</td>\n",
       "      <td>0.000000</td>\n",
       "      <td>0.000000</td>\n",
       "      <td>0.000000</td>\n",
       "      <td>0.000000</td>\n",
       "      <td>0.000000</td>\n",
       "      <td>0.000000</td>\n",
       "      <td>0.000000</td>\n",
       "      <td>0.000000</td>\n",
       "      <td>0.000000</td>\n",
       "      <td>0.000000</td>\n",
       "    </tr>\n",
       "    <tr>\n",
       "      <th>25%</th>\n",
       "      <td>250.750000</td>\n",
       "      <td>2010.000000</td>\n",
       "      <td>100.000000</td>\n",
       "      <td>6.200000</td>\n",
       "      <td>3.630900e+04</td>\n",
       "      <td>17.442500</td>\n",
       "      <td>47.750000</td>\n",
       "      <td>0.000000</td>\n",
       "      <td>0.000000</td>\n",
       "      <td>0.000000</td>\n",
       "      <td>...</td>\n",
       "      <td>0.000000</td>\n",
       "      <td>0.000000</td>\n",
       "      <td>0.000000</td>\n",
       "      <td>0.000000</td>\n",
       "      <td>0.000000</td>\n",
       "      <td>0.000000</td>\n",
       "      <td>0.000000</td>\n",
       "      <td>0.000000</td>\n",
       "      <td>0.000000</td>\n",
       "      <td>0.000000</td>\n",
       "    </tr>\n",
       "    <tr>\n",
       "      <th>50%</th>\n",
       "      <td>500.500000</td>\n",
       "      <td>2014.000000</td>\n",
       "      <td>111.000000</td>\n",
       "      <td>6.800000</td>\n",
       "      <td>1.107990e+05</td>\n",
       "      <td>60.375000</td>\n",
       "      <td>58.985043</td>\n",
       "      <td>0.000000</td>\n",
       "      <td>0.000000</td>\n",
       "      <td>0.000000</td>\n",
       "      <td>...</td>\n",
       "      <td>0.000000</td>\n",
       "      <td>0.000000</td>\n",
       "      <td>0.000000</td>\n",
       "      <td>0.000000</td>\n",
       "      <td>0.000000</td>\n",
       "      <td>0.000000</td>\n",
       "      <td>0.000000</td>\n",
       "      <td>0.000000</td>\n",
       "      <td>0.000000</td>\n",
       "      <td>0.000000</td>\n",
       "    </tr>\n",
       "    <tr>\n",
       "      <th>75%</th>\n",
       "      <td>750.250000</td>\n",
       "      <td>2016.000000</td>\n",
       "      <td>123.000000</td>\n",
       "      <td>7.400000</td>\n",
       "      <td>2.399098e+05</td>\n",
       "      <td>99.177500</td>\n",
       "      <td>71.000000</td>\n",
       "      <td>1.000000</td>\n",
       "      <td>1.000000</td>\n",
       "      <td>0.000000</td>\n",
       "      <td>...</td>\n",
       "      <td>0.000000</td>\n",
       "      <td>0.000000</td>\n",
       "      <td>0.000000</td>\n",
       "      <td>0.000000</td>\n",
       "      <td>0.000000</td>\n",
       "      <td>0.000000</td>\n",
       "      <td>0.000000</td>\n",
       "      <td>0.000000</td>\n",
       "      <td>0.000000</td>\n",
       "      <td>0.000000</td>\n",
       "    </tr>\n",
       "    <tr>\n",
       "      <th>max</th>\n",
       "      <td>1000.000000</td>\n",
       "      <td>2016.000000</td>\n",
       "      <td>191.000000</td>\n",
       "      <td>9.000000</td>\n",
       "      <td>1.791916e+06</td>\n",
       "      <td>936.630000</td>\n",
       "      <td>100.000000</td>\n",
       "      <td>1.000000</td>\n",
       "      <td>1.000000</td>\n",
       "      <td>1.000000</td>\n",
       "      <td>...</td>\n",
       "      <td>1.000000</td>\n",
       "      <td>1.000000</td>\n",
       "      <td>1.000000</td>\n",
       "      <td>1.000000</td>\n",
       "      <td>1.000000</td>\n",
       "      <td>1.000000</td>\n",
       "      <td>1.000000</td>\n",
       "      <td>1.000000</td>\n",
       "      <td>1.000000</td>\n",
       "      <td>1.000000</td>\n",
       "    </tr>\n",
       "  </tbody>\n",
       "</table>\n",
       "<p>8 rows × 27 columns</p>\n",
       "</div>"
      ],
      "text/plain": [
       "              Rank         Year  Runtime (Minutes)       Rating         Votes  \\\n",
       "count  1000.000000  1000.000000        1000.000000  1000.000000  1.000000e+03   \n",
       "mean    500.500000  2012.783000         113.172000     6.723200  1.698083e+05   \n",
       "std     288.819436     3.205962          18.810908     0.945429  1.887626e+05   \n",
       "min       1.000000  2006.000000          66.000000     1.900000  6.100000e+01   \n",
       "25%     250.750000  2010.000000         100.000000     6.200000  3.630900e+04   \n",
       "50%     500.500000  2014.000000         111.000000     6.800000  1.107990e+05   \n",
       "75%     750.250000  2016.000000         123.000000     7.400000  2.399098e+05   \n",
       "max    1000.000000  2016.000000         191.000000     9.000000  1.791916e+06   \n",
       "\n",
       "       Revenue (Millions)    Metascore       Action    Adventure    Animation  \\\n",
       "count         1000.000000  1000.000000  1000.000000  1000.000000  1000.000000   \n",
       "mean            82.956376    58.985043     0.303000     0.259000     0.049000   \n",
       "std             96.412043    16.634858     0.459785     0.438305     0.215976   \n",
       "min              0.000000    11.000000     0.000000     0.000000     0.000000   \n",
       "25%             17.442500    47.750000     0.000000     0.000000     0.000000   \n",
       "50%             60.375000    58.985043     0.000000     0.000000     0.000000   \n",
       "75%             99.177500    71.000000     1.000000     1.000000     0.000000   \n",
       "max            936.630000   100.000000     1.000000     1.000000     1.000000   \n",
       "\n",
       "       ...       Horror        Music      Musical      Mystery      Romance  \\\n",
       "count  ...  1000.000000  1000.000000  1000.000000  1000.000000  1000.000000   \n",
       "mean   ...     0.119000     0.016000     0.005000     0.106000     0.141000   \n",
       "std    ...     0.323951     0.125538     0.070569     0.307992     0.348196   \n",
       "min    ...     0.000000     0.000000     0.000000     0.000000     0.000000   \n",
       "25%    ...     0.000000     0.000000     0.000000     0.000000     0.000000   \n",
       "50%    ...     0.000000     0.000000     0.000000     0.000000     0.000000   \n",
       "75%    ...     0.000000     0.000000     0.000000     0.000000     0.000000   \n",
       "max    ...     1.000000     1.000000     1.000000     1.000000     1.000000   \n",
       "\n",
       "            Sci-Fi        Sport     Thriller          War      Western  \n",
       "count  1000.000000  1000.000000  1000.000000  1000.000000  1000.000000  \n",
       "mean      0.120000     0.018000     0.195000     0.013000     0.007000  \n",
       "std       0.325124     0.133018     0.396399     0.113331     0.083414  \n",
       "min       0.000000     0.000000     0.000000     0.000000     0.000000  \n",
       "25%       0.000000     0.000000     0.000000     0.000000     0.000000  \n",
       "50%       0.000000     0.000000     0.000000     0.000000     0.000000  \n",
       "75%       0.000000     0.000000     0.000000     0.000000     0.000000  \n",
       "max       1.000000     1.000000     1.000000     1.000000     1.000000  \n",
       "\n",
       "[8 rows x 27 columns]"
      ]
     },
     "execution_count": 20,
     "metadata": {},
     "output_type": "execute_result"
    }
   ],
   "source": [
    "# To get statistics about the dataframe \n",
    "df.describe()"
   ]
  },
  {
   "cell_type": "code",
   "execution_count": 21,
   "id": "f97dd916-219f-41e4-9aa1-121fa28d2dab",
   "metadata": {},
   "outputs": [],
   "source": [
    "df.to_csv('data_csv',index=False)"
   ]
  },
  {
   "cell_type": "markdown",
   "id": "d86fea0a-aa67-457c-b333-6b301948be78",
   "metadata": {},
   "source": [
    "# K-Nearest Neighbor Algorithm"
   ]
  },
  {
   "cell_type": "code",
   "execution_count": 22,
   "id": "f083b7ca",
   "metadata": {},
   "outputs": [],
   "source": [
    "import pandas as pd\n",
    "from sklearn.model_selection import train_test_split, GridSearchCV\n",
    "from sklearn.preprocessing import StandardScaler\n",
    "from sklearn.linear_model import Ridge\n",
    "from sklearn.metrics import mean_squared_error, r2_score\n",
    "from sklearn.neighbors import KNeighborsRegressor\n",
    "import numpy as np"
   ]
  },
  {
   "cell_type": "code",
   "execution_count": 23,
   "id": "f3204187-9798-4326-91a2-1df07585a476",
   "metadata": {},
   "outputs": [],
   "source": [
    "#Key Points:\n",
    "#Data Inspection: It is important to inspect the data types of each column to identify which columns need encoding.\n",
    "#One-Hot Encoding: Convert all categorical columns to numerical using one-hot encoding.\n",
    "#Handle Missing Values: Ensure all missing values are handled appropriately.\n",
    "#Standardization: Only standardize numeric columns to have a mean of 0 and a standard deviation of 1.\n",
    "#Troubleshooting Tips:\n",
    "#Check for Additional Categorical Data: Ensure there are no other string columns that need encoding.\n",
    "#Missing Values: Confirm that missing values are filled appropriately to avoid NaNs.\n",
    "#Data Types: Double-check that after encoding and filling missing values, all columns are numeric.\n",
    "#By following these steps, you should be able to resolve the error and successfully apply the KNN algorithm to your dataset.\n",
    "#If you still encounter issues, please provide more details or a sample of the dataset for further troubleshooting."
   ]
  },
  {
   "cell_type": "code",
   "execution_count": 24,
   "id": "a0c2867b-fbb5-4df8-9b57-3ab94a142cdd",
   "metadata": {},
   "outputs": [
    {
     "name": "stdout",
     "output_type": "stream",
     "text": [
      "Mean Squared Error: 2.032153295805875\n",
      "Root Mean Squared Error: 1.4255361432828966\n",
      "R Squared: 0.19578459728415598\n"
     ]
    }
   ],
   "source": [
    "# Feature selection (exclude categorical and text features for simplicity)\n",
    "features = df[['Year', 'Runtime (Minutes)', 'Rating', 'Votes', 'Rank', 'Metascore', 'Action', 'Adventure', \n",
    "               'Animation', 'Biography', 'Comedy', 'Crime', 'Drama', 'Family', 'Fantasy', 'History', 'Horror', 'Music', \n",
    "               'Musical', 'Mystery', 'Romance', 'Sci-Fi', 'Sport', 'Thriller', 'War', 'Western']]\n",
    "target =np.log1p(df['Revenue (Millions)'])\n",
    "\n",
    "# Split the data\n",
    "X_train, X_test, Y_train, Y_test = train_test_split(features, target, test_size=0.2, random_state=42)\n",
    "\n",
    "# Standardize the features\n",
    "scaler = StandardScaler()\n",
    "X_train_scaled = scaler.fit_transform(X_train)\n",
    "X_test_scaled = scaler.transform(X_test)\n",
    "\n",
    "# Train a kNN Regression model\n",
    "k = 7  # Number of neighbors\n",
    "knn_model = KNeighborsRegressor(n_neighbors=k)\n",
    "knn_model.fit(X_train_scaled, Y_train)\n",
    "\n",
    "Y_pred = knn_model.predict(X_test_scaled)\n",
    "mse = mean_squared_error(Y_test, Y_pred)\n",
    "print(f'Mean Squared Error: {mse}')\n",
    "rmse= np.sqrt(mse)\n",
    "print(f'Root Mean Squared Error: {rmse}')\n",
    "r2=r2_score(Y_test, Y_pred)\n",
    "print(f'R Squared: {r2}')"
   ]
  },
  {
   "cell_type": "code",
   "execution_count": 25,
   "id": "994bded5-7901-41d0-9197-4967dd018209",
   "metadata": {},
   "outputs": [
    {
     "name": "stdout",
     "output_type": "stream",
     "text": [
      "Best Parameters: {'metric': 'euclidean', 'n_neighbors': 11, 'weights': 'distance'}\n",
      "Mean Squared Error: 1.9535756969706666\n",
      "Root Mean Squared Error: 1.3977037228864586\n",
      "R Squared: 0.2268813238067685\n"
     ]
    }
   ],
   "source": [
    "# Define the kNN model\n",
    "knn = KNeighborsRegressor()\n",
    "\n",
    "# Define the grid of hyperparameters\n",
    "param_grid = {\n",
    "    'n_neighbors': [3, 5, 7, 9, 11],\n",
    "    'weights': ['uniform', 'distance'],\n",
    "    'metric': ['euclidean', 'manhattan', 'minkowski']\n",
    "}\n",
    "\n",
    "# Perform grid search\n",
    "grid_search = GridSearchCV(knn, param_grid, cv=5, scoring='neg_mean_squared_error')\n",
    "grid_search.fit(X_train_scaled, Y_train)\n",
    "\n",
    "# Get the best parameters and best model\n",
    "best_params = grid_search.best_params_\n",
    "best_model = grid_search.best_estimator_\n",
    "\n",
    "print(f\"Best Parameters: {best_params}\")\n",
    "\n",
    "# Predict and evaluate\n",
    "Y_pred = best_model.predict(X_test_scaled)\n",
    "mse = mean_squared_error(Y_test, Y_pred)\n",
    "print(f'Mean Squared Error: {mse}')\n",
    "rmse= np.sqrt(mse)\n",
    "print(f'Root Mean Squared Error: {rmse}')\n",
    "r2=r2_score(Y_test, Y_pred)\n",
    "print(f'R Squared: {r2}')"
   ]
  },
  {
   "cell_type": "markdown",
   "id": "84106d25-be50-4863-ae53-288e73e9a269",
   "metadata": {},
   "source": [
    "# Neural Network Regressor"
   ]
  },
  {
   "cell_type": "code",
   "execution_count": 26,
   "id": "d42ec87b-aef9-4ed7-b255-5aaf61604459",
   "metadata": {},
   "outputs": [],
   "source": [
    "import pandas as pd\n",
    "from sklearn.model_selection import train_test_split\n",
    "from sklearn.preprocessing import StandardScaler\n",
    "from sklearn.metrics import mean_squared_error\n",
    "from keras.models import Sequential\n",
    "from keras.layers import Dense, Activation\n",
    "import numpy as np"
   ]
  },
  {
   "cell_type": "code",
   "execution_count": 27,
   "id": "5ff8fb1f-5cfd-4a01-a71e-c896f4c2d6c5",
   "metadata": {},
   "outputs": [
    {
     "name": "stderr",
     "output_type": "stream",
     "text": [
      "C:\\Users\\spsha\\anaconda3\\Lib\\site-packages\\keras\\src\\layers\\core\\dense.py:87: UserWarning: Do not pass an `input_shape`/`input_dim` argument to a layer. When using Sequential models, prefer using an `Input(shape)` object as the first layer in the model instead.\n",
      "  super().__init__(activity_regularizer=activity_regularizer, **kwargs)\n"
     ]
    },
    {
     "name": "stdout",
     "output_type": "stream",
     "text": [
      "Epoch 1/50\n",
      "\u001b[1m64/64\u001b[0m \u001b[32m━━━━━━━━━━━━━━━━━━━━\u001b[0m\u001b[37m\u001b[0m \u001b[1m4s\u001b[0m 9ms/step - loss: 9.0696 - val_loss: 2.1332\n",
      "Epoch 2/50\n",
      "\u001b[1m64/64\u001b[0m \u001b[32m━━━━━━━━━━━━━━━━━━━━\u001b[0m\u001b[37m\u001b[0m \u001b[1m0s\u001b[0m 3ms/step - loss: 2.0498 - val_loss: 1.9389\n",
      "Epoch 3/50\n",
      "\u001b[1m64/64\u001b[0m \u001b[32m━━━━━━━━━━━━━━━━━━━━\u001b[0m\u001b[37m\u001b[0m \u001b[1m0s\u001b[0m 4ms/step - loss: 1.5909 - val_loss: 1.9485\n",
      "Epoch 4/50\n",
      "\u001b[1m64/64\u001b[0m \u001b[32m━━━━━━━━━━━━━━━━━━━━\u001b[0m\u001b[37m\u001b[0m \u001b[1m0s\u001b[0m 3ms/step - loss: 1.6262 - val_loss: 1.9319\n",
      "Epoch 5/50\n",
      "\u001b[1m64/64\u001b[0m \u001b[32m━━━━━━━━━━━━━━━━━━━━\u001b[0m\u001b[37m\u001b[0m \u001b[1m0s\u001b[0m 3ms/step - loss: 1.3125 - val_loss: 1.7881\n",
      "Epoch 6/50\n",
      "\u001b[1m64/64\u001b[0m \u001b[32m━━━━━━━━━━━━━━━━━━━━\u001b[0m\u001b[37m\u001b[0m \u001b[1m0s\u001b[0m 3ms/step - loss: 1.3292 - val_loss: 1.8207\n",
      "Epoch 7/50\n",
      "\u001b[1m64/64\u001b[0m \u001b[32m━━━━━━━━━━━━━━━━━━━━\u001b[0m\u001b[37m\u001b[0m \u001b[1m0s\u001b[0m 4ms/step - loss: 1.3222 - val_loss: 1.8392\n",
      "Epoch 8/50\n",
      "\u001b[1m64/64\u001b[0m \u001b[32m━━━━━━━━━━━━━━━━━━━━\u001b[0m\u001b[37m\u001b[0m \u001b[1m0s\u001b[0m 3ms/step - loss: 1.0392 - val_loss: 1.8107\n",
      "Epoch 9/50\n",
      "\u001b[1m64/64\u001b[0m \u001b[32m━━━━━━━━━━━━━━━━━━━━\u001b[0m\u001b[37m\u001b[0m \u001b[1m0s\u001b[0m 3ms/step - loss: 1.1221 - val_loss: 1.7647\n",
      "Epoch 10/50\n",
      "\u001b[1m64/64\u001b[0m \u001b[32m━━━━━━━━━━━━━━━━━━━━\u001b[0m\u001b[37m\u001b[0m \u001b[1m0s\u001b[0m 5ms/step - loss: 1.0787 - val_loss: 1.8735\n",
      "Epoch 11/50\n",
      "\u001b[1m64/64\u001b[0m \u001b[32m━━━━━━━━━━━━━━━━━━━━\u001b[0m\u001b[37m\u001b[0m \u001b[1m0s\u001b[0m 4ms/step - loss: 1.0837 - val_loss: 1.6716\n",
      "Epoch 12/50\n",
      "\u001b[1m64/64\u001b[0m \u001b[32m━━━━━━━━━━━━━━━━━━━━\u001b[0m\u001b[37m\u001b[0m \u001b[1m0s\u001b[0m 3ms/step - loss: 0.9813 - val_loss: 1.6717\n",
      "Epoch 13/50\n",
      "\u001b[1m64/64\u001b[0m \u001b[32m━━━━━━━━━━━━━━━━━━━━\u001b[0m\u001b[37m\u001b[0m \u001b[1m0s\u001b[0m 3ms/step - loss: 0.9798 - val_loss: 1.6339\n",
      "Epoch 14/50\n",
      "\u001b[1m64/64\u001b[0m \u001b[32m━━━━━━━━━━━━━━━━━━━━\u001b[0m\u001b[37m\u001b[0m \u001b[1m0s\u001b[0m 3ms/step - loss: 0.9556 - val_loss: 1.6691\n",
      "Epoch 15/50\n",
      "\u001b[1m64/64\u001b[0m \u001b[32m━━━━━━━━━━━━━━━━━━━━\u001b[0m\u001b[37m\u001b[0m \u001b[1m0s\u001b[0m 3ms/step - loss: 0.8824 - val_loss: 1.6164\n",
      "Epoch 16/50\n",
      "\u001b[1m64/64\u001b[0m \u001b[32m━━━━━━━━━━━━━━━━━━━━\u001b[0m\u001b[37m\u001b[0m \u001b[1m0s\u001b[0m 3ms/step - loss: 0.8386 - val_loss: 1.6770\n",
      "Epoch 17/50\n",
      "\u001b[1m64/64\u001b[0m \u001b[32m━━━━━━━━━━━━━━━━━━━━\u001b[0m\u001b[37m\u001b[0m \u001b[1m0s\u001b[0m 3ms/step - loss: 0.9296 - val_loss: 1.6594\n",
      "Epoch 18/50\n",
      "\u001b[1m64/64\u001b[0m \u001b[32m━━━━━━━━━━━━━━━━━━━━\u001b[0m\u001b[37m\u001b[0m \u001b[1m0s\u001b[0m 3ms/step - loss: 0.7685 - val_loss: 1.6282\n",
      "Epoch 19/50\n",
      "\u001b[1m64/64\u001b[0m \u001b[32m━━━━━━━━━━━━━━━━━━━━\u001b[0m\u001b[37m\u001b[0m \u001b[1m0s\u001b[0m 4ms/step - loss: 0.8332 - val_loss: 1.6670\n",
      "Epoch 20/50\n",
      "\u001b[1m64/64\u001b[0m \u001b[32m━━━━━━━━━━━━━━━━━━━━\u001b[0m\u001b[37m\u001b[0m \u001b[1m0s\u001b[0m 3ms/step - loss: 0.7247 - val_loss: 1.6398\n",
      "Epoch 21/50\n",
      "\u001b[1m64/64\u001b[0m \u001b[32m━━━━━━━━━━━━━━━━━━━━\u001b[0m\u001b[37m\u001b[0m \u001b[1m0s\u001b[0m 3ms/step - loss: 0.7860 - val_loss: 1.6335\n",
      "Epoch 22/50\n",
      "\u001b[1m64/64\u001b[0m \u001b[32m━━━━━━━━━━━━━━━━━━━━\u001b[0m\u001b[37m\u001b[0m \u001b[1m0s\u001b[0m 3ms/step - loss: 0.7104 - val_loss: 1.5663\n",
      "Epoch 23/50\n",
      "\u001b[1m64/64\u001b[0m \u001b[32m━━━━━━━━━━━━━━━━━━━━\u001b[0m\u001b[37m\u001b[0m \u001b[1m0s\u001b[0m 3ms/step - loss: 0.7601 - val_loss: 1.5772\n",
      "Epoch 24/50\n",
      "\u001b[1m64/64\u001b[0m \u001b[32m━━━━━━━━━━━━━━━━━━━━\u001b[0m\u001b[37m\u001b[0m \u001b[1m0s\u001b[0m 3ms/step - loss: 0.7419 - val_loss: 1.6072\n",
      "Epoch 25/50\n",
      "\u001b[1m64/64\u001b[0m \u001b[32m━━━━━━━━━━━━━━━━━━━━\u001b[0m\u001b[37m\u001b[0m \u001b[1m0s\u001b[0m 3ms/step - loss: 0.6990 - val_loss: 1.5968\n",
      "Epoch 26/50\n",
      "\u001b[1m64/64\u001b[0m \u001b[32m━━━━━━━━━━━━━━━━━━━━\u001b[0m\u001b[37m\u001b[0m \u001b[1m0s\u001b[0m 4ms/step - loss: 0.7109 - val_loss: 1.6194\n",
      "Epoch 27/50\n",
      "\u001b[1m64/64\u001b[0m \u001b[32m━━━━━━━━━━━━━━━━━━━━\u001b[0m\u001b[37m\u001b[0m \u001b[1m0s\u001b[0m 3ms/step - loss: 0.6973 - val_loss: 1.5803\n",
      "Epoch 28/50\n",
      "\u001b[1m64/64\u001b[0m \u001b[32m━━━━━━━━━━━━━━━━━━━━\u001b[0m\u001b[37m\u001b[0m \u001b[1m0s\u001b[0m 3ms/step - loss: 0.6460 - val_loss: 1.5904\n",
      "Epoch 29/50\n",
      "\u001b[1m64/64\u001b[0m \u001b[32m━━━━━━━━━━━━━━━━━━━━\u001b[0m\u001b[37m\u001b[0m \u001b[1m0s\u001b[0m 3ms/step - loss: 0.6415 - val_loss: 1.5593\n",
      "Epoch 30/50\n",
      "\u001b[1m64/64\u001b[0m \u001b[32m━━━━━━━━━━━━━━━━━━━━\u001b[0m\u001b[37m\u001b[0m \u001b[1m0s\u001b[0m 4ms/step - loss: 0.6085 - val_loss: 1.6483\n",
      "Epoch 31/50\n",
      "\u001b[1m64/64\u001b[0m \u001b[32m━━━━━━━━━━━━━━━━━━━━\u001b[0m\u001b[37m\u001b[0m \u001b[1m0s\u001b[0m 3ms/step - loss: 0.5214 - val_loss: 1.5502\n",
      "Epoch 32/50\n",
      "\u001b[1m64/64\u001b[0m \u001b[32m━━━━━━━━━━━━━━━━━━━━\u001b[0m\u001b[37m\u001b[0m \u001b[1m0s\u001b[0m 3ms/step - loss: 0.5597 - val_loss: 1.5577\n",
      "Epoch 33/50\n",
      "\u001b[1m64/64\u001b[0m \u001b[32m━━━━━━━━━━━━━━━━━━━━\u001b[0m\u001b[37m\u001b[0m \u001b[1m0s\u001b[0m 3ms/step - loss: 0.5749 - val_loss: 1.6353\n",
      "Epoch 34/50\n",
      "\u001b[1m64/64\u001b[0m \u001b[32m━━━━━━━━━━━━━━━━━━━━\u001b[0m\u001b[37m\u001b[0m \u001b[1m0s\u001b[0m 3ms/step - loss: 0.5815 - val_loss: 1.6310\n",
      "Epoch 35/50\n",
      "\u001b[1m64/64\u001b[0m \u001b[32m━━━━━━━━━━━━━━━━━━━━\u001b[0m\u001b[37m\u001b[0m \u001b[1m0s\u001b[0m 3ms/step - loss: 0.5075 - val_loss: 1.5840\n",
      "Epoch 36/50\n",
      "\u001b[1m64/64\u001b[0m \u001b[32m━━━━━━━━━━━━━━━━━━━━\u001b[0m\u001b[37m\u001b[0m \u001b[1m0s\u001b[0m 3ms/step - loss: 0.5112 - val_loss: 1.5508\n",
      "Epoch 37/50\n",
      "\u001b[1m64/64\u001b[0m \u001b[32m━━━━━━━━━━━━━━━━━━━━\u001b[0m\u001b[37m\u001b[0m \u001b[1m0s\u001b[0m 3ms/step - loss: 0.5251 - val_loss: 1.5610\n",
      "Epoch 38/50\n",
      "\u001b[1m64/64\u001b[0m \u001b[32m━━━━━━━━━━━━━━━━━━━━\u001b[0m\u001b[37m\u001b[0m \u001b[1m0s\u001b[0m 3ms/step - loss: 0.5459 - val_loss: 1.6847\n",
      "Epoch 39/50\n",
      "\u001b[1m64/64\u001b[0m \u001b[32m━━━━━━━━━━━━━━━━━━━━\u001b[0m\u001b[37m\u001b[0m \u001b[1m0s\u001b[0m 4ms/step - loss: 0.5039 - val_loss: 1.5553\n",
      "Epoch 40/50\n",
      "\u001b[1m64/64\u001b[0m \u001b[32m━━━━━━━━━━━━━━━━━━━━\u001b[0m\u001b[37m\u001b[0m \u001b[1m0s\u001b[0m 3ms/step - loss: 0.5099 - val_loss: 1.6015\n",
      "Epoch 41/50\n",
      "\u001b[1m64/64\u001b[0m \u001b[32m━━━━━━━━━━━━━━━━━━━━\u001b[0m\u001b[37m\u001b[0m \u001b[1m1s\u001b[0m 5ms/step - loss: 0.4829 - val_loss: 1.6328\n",
      "Epoch 42/50\n",
      "\u001b[1m64/64\u001b[0m \u001b[32m━━━━━━━━━━━━━━━━━━━━\u001b[0m\u001b[37m\u001b[0m \u001b[1m0s\u001b[0m 3ms/step - loss: 0.4605 - val_loss: 1.6451\n",
      "Epoch 43/50\n",
      "\u001b[1m64/64\u001b[0m \u001b[32m━━━━━━━━━━━━━━━━━━━━\u001b[0m\u001b[37m\u001b[0m \u001b[1m0s\u001b[0m 3ms/step - loss: 0.5227 - val_loss: 1.6430\n",
      "Epoch 44/50\n",
      "\u001b[1m64/64\u001b[0m \u001b[32m━━━━━━━━━━━━━━━━━━━━\u001b[0m\u001b[37m\u001b[0m \u001b[1m0s\u001b[0m 3ms/step - loss: 0.4345 - val_loss: 1.6028\n",
      "Epoch 45/50\n",
      "\u001b[1m64/64\u001b[0m \u001b[32m━━━━━━━━━━━━━━━━━━━━\u001b[0m\u001b[37m\u001b[0m \u001b[1m0s\u001b[0m 3ms/step - loss: 0.3995 - val_loss: 1.5737\n",
      "Epoch 46/50\n",
      "\u001b[1m64/64\u001b[0m \u001b[32m━━━━━━━━━━━━━━━━━━━━\u001b[0m\u001b[37m\u001b[0m \u001b[1m0s\u001b[0m 3ms/step - loss: 0.4485 - val_loss: 1.6050\n",
      "Epoch 47/50\n",
      "\u001b[1m64/64\u001b[0m \u001b[32m━━━━━━━━━━━━━━━━━━━━\u001b[0m\u001b[37m\u001b[0m \u001b[1m0s\u001b[0m 3ms/step - loss: 0.4232 - val_loss: 1.5775\n",
      "Epoch 48/50\n",
      "\u001b[1m64/64\u001b[0m \u001b[32m━━━━━━━━━━━━━━━━━━━━\u001b[0m\u001b[37m\u001b[0m \u001b[1m0s\u001b[0m 3ms/step - loss: 0.3934 - val_loss: 1.6934\n",
      "Epoch 49/50\n",
      "\u001b[1m64/64\u001b[0m \u001b[32m━━━━━━━━━━━━━━━━━━━━\u001b[0m\u001b[37m\u001b[0m \u001b[1m0s\u001b[0m 4ms/step - loss: 0.4140 - val_loss: 1.6042\n",
      "Epoch 50/50\n",
      "\u001b[1m64/64\u001b[0m \u001b[32m━━━━━━━━━━━━━━━━━━━━\u001b[0m\u001b[37m\u001b[0m \u001b[1m0s\u001b[0m 3ms/step - loss: 0.4163 - val_loss: 1.5948\n",
      "\u001b[1m7/7\u001b[0m \u001b[32m━━━━━━━━━━━━━━━━━━━━\u001b[0m\u001b[37m\u001b[0m \u001b[1m0s\u001b[0m 29ms/step\n",
      "Mean Squared Error: 2.6022912679078467\n",
      "Root Mean Squared Error: 1.6131618852142047\n",
      "R Squared: -0.029844906052969522\n"
     ]
    }
   ],
   "source": [
    "# Define the neural network model\n",
    "model = Sequential()\n",
    "model.add(Dense(64, activation='relu', input_shape=(X_train_scaled.shape[1],)))\n",
    "model.add(Dense(32, activation='relu'))\n",
    "model.add(Dense(1))  # Output layer for regression\n",
    "\n",
    "# Compile the model\n",
    "model.compile(optimizer='adam', loss='mean_squared_error')\n",
    "\n",
    "# Train the model\n",
    "model.fit(X_train_scaled, Y_train, epochs=50, batch_size=10, validation_split=0.2)\n",
    "\n",
    "# Predict and evaluate\n",
    "Y_pred = model.predict(X_test_scaled)\n",
    "mse = mean_squared_error(Y_test, Y_pred)\n",
    "print(f'Mean Squared Error: {mse}')\n",
    "rmse= np.sqrt(mse)\n",
    "print(f'Root Mean Squared Error: {rmse}')\n",
    "r2=r2_score(Y_test, Y_pred)\n",
    "print(f'R Squared: {r2}')"
   ]
  },
  {
   "cell_type": "code",
   "execution_count": 29,
   "id": "77a71ddb-e930-4029-be72-c15acb7f03cf",
   "metadata": {},
   "outputs": [
    {
     "name": "stdout",
     "output_type": "stream",
     "text": [
      "Epoch 1/50\n"
     ]
    },
    {
     "name": "stderr",
     "output_type": "stream",
     "text": [
      "C:\\Users\\spsha\\anaconda3\\Lib\\site-packages\\keras\\src\\layers\\core\\dense.py:87: UserWarning: Do not pass an `input_shape`/`input_dim` argument to a layer. When using Sequential models, prefer using an `Input(shape)` object as the first layer in the model instead.\n",
      "  super().__init__(activity_regularizer=activity_regularizer, **kwargs)\n"
     ]
    },
    {
     "name": "stdout",
     "output_type": "stream",
     "text": [
      "\u001b[1m20/20\u001b[0m \u001b[32m━━━━━━━━━━━━━━━━━━━━\u001b[0m\u001b[37m\u001b[0m \u001b[1m2s\u001b[0m 15ms/step - loss: 145117520.0000 - val_loss: 46699480.0000\n",
      "Epoch 2/50\n",
      "\u001b[1m20/20\u001b[0m \u001b[32m━━━━━━━━━━━━━━━━━━━━\u001b[0m\u001b[37m\u001b[0m \u001b[1m0s\u001b[0m 4ms/step - loss: 14486807.0000 - val_loss: 6030671.0000\n",
      "Epoch 3/50\n",
      "\u001b[1m20/20\u001b[0m \u001b[32m━━━━━━━━━━━━━━━━━━━━\u001b[0m\u001b[37m\u001b[0m \u001b[1m0s\u001b[0m 4ms/step - loss: 1967139.6250 - val_loss: 11597.4736\n",
      "Epoch 4/50\n",
      "\u001b[1m20/20\u001b[0m \u001b[32m━━━━━━━━━━━━━━━━━━━━\u001b[0m\u001b[37m\u001b[0m \u001b[1m0s\u001b[0m 4ms/step - loss: 23195.6016 - val_loss: 20210.6582\n",
      "Epoch 5/50\n",
      "\u001b[1m20/20\u001b[0m \u001b[32m━━━━━━━━━━━━━━━━━━━━\u001b[0m\u001b[37m\u001b[0m \u001b[1m0s\u001b[0m 4ms/step - loss: 17707.5430 - val_loss: 15827.4590\n",
      "Epoch 6/50\n",
      "\u001b[1m20/20\u001b[0m \u001b[32m━━━━━━━━━━━━━━━━━━━━\u001b[0m\u001b[37m\u001b[0m \u001b[1m0s\u001b[0m 4ms/step - loss: 10039.2402 - val_loss: 5287.8662\n",
      "Epoch 7/50\n",
      "\u001b[1m20/20\u001b[0m \u001b[32m━━━━━━━━━━━━━━━━━━━━\u001b[0m\u001b[37m\u001b[0m \u001b[1m0s\u001b[0m 4ms/step - loss: 2142.9294 - val_loss: 713.3235\n",
      "Epoch 8/50\n",
      "\u001b[1m20/20\u001b[0m \u001b[32m━━━━━━━━━━━━━━━━━━━━\u001b[0m\u001b[37m\u001b[0m \u001b[1m0s\u001b[0m 9ms/step - loss: 578.7393 - val_loss: 1334.2367\n",
      "Epoch 9/50\n",
      "\u001b[1m20/20\u001b[0m \u001b[32m━━━━━━━━━━━━━━━━━━━━\u001b[0m\u001b[37m\u001b[0m \u001b[1m0s\u001b[0m 4ms/step - loss: 456.7712 - val_loss: 87.6652\n",
      "Epoch 10/50\n",
      "\u001b[1m20/20\u001b[0m \u001b[32m━━━━━━━━━━━━━━━━━━━━\u001b[0m\u001b[37m\u001b[0m \u001b[1m0s\u001b[0m 4ms/step - loss: 82.5336 - val_loss: 79.7516\n",
      "Epoch 11/50\n",
      "\u001b[1m20/20\u001b[0m \u001b[32m━━━━━━━━━━━━━━━━━━━━\u001b[0m\u001b[37m\u001b[0m \u001b[1m0s\u001b[0m 4ms/step - loss: 43.2276 - val_loss: 67.7623\n",
      "Epoch 12/50\n",
      "\u001b[1m20/20\u001b[0m \u001b[32m━━━━━━━━━━━━━━━━━━━━\u001b[0m\u001b[37m\u001b[0m \u001b[1m0s\u001b[0m 4ms/step - loss: 32.2451 - val_loss: 58.9738\n",
      "Epoch 13/50\n",
      "\u001b[1m20/20\u001b[0m \u001b[32m━━━━━━━━━━━━━━━━━━━━\u001b[0m\u001b[37m\u001b[0m \u001b[1m0s\u001b[0m 4ms/step - loss: 39.7049 - val_loss: 47.0712\n",
      "Epoch 14/50\n",
      "\u001b[1m20/20\u001b[0m \u001b[32m━━━━━━━━━━━━━━━━━━━━\u001b[0m\u001b[37m\u001b[0m \u001b[1m0s\u001b[0m 4ms/step - loss: 33.5078 - val_loss: 54.8126\n",
      "Epoch 15/50\n",
      "\u001b[1m20/20\u001b[0m \u001b[32m━━━━━━━━━━━━━━━━━━━━\u001b[0m\u001b[37m\u001b[0m \u001b[1m0s\u001b[0m 4ms/step - loss: 31.4794 - val_loss: 46.3782\n",
      "Epoch 16/50\n",
      "\u001b[1m20/20\u001b[0m \u001b[32m━━━━━━━━━━━━━━━━━━━━\u001b[0m\u001b[37m\u001b[0m \u001b[1m0s\u001b[0m 4ms/step - loss: 37.4151 - val_loss: 51.8019\n",
      "Epoch 17/50\n",
      "\u001b[1m20/20\u001b[0m \u001b[32m━━━━━━━━━━━━━━━━━━━━\u001b[0m\u001b[37m\u001b[0m \u001b[1m0s\u001b[0m 4ms/step - loss: 34.5327 - val_loss: 48.0245\n",
      "Epoch 18/50\n",
      "\u001b[1m20/20\u001b[0m \u001b[32m━━━━━━━━━━━━━━━━━━━━\u001b[0m\u001b[37m\u001b[0m \u001b[1m0s\u001b[0m 4ms/step - loss: 20.7235 - val_loss: 29.6853\n",
      "Epoch 19/50\n",
      "\u001b[1m20/20\u001b[0m \u001b[32m━━━━━━━━━━━━━━━━━━━━\u001b[0m\u001b[37m\u001b[0m \u001b[1m0s\u001b[0m 5ms/step - loss: 21.6370 - val_loss: 27.0022\n",
      "Epoch 20/50\n",
      "\u001b[1m20/20\u001b[0m \u001b[32m━━━━━━━━━━━━━━━━━━━━\u001b[0m\u001b[37m\u001b[0m \u001b[1m0s\u001b[0m 4ms/step - loss: 18.7598 - val_loss: 24.0438\n",
      "Epoch 21/50\n",
      "\u001b[1m20/20\u001b[0m \u001b[32m━━━━━━━━━━━━━━━━━━━━\u001b[0m\u001b[37m\u001b[0m \u001b[1m0s\u001b[0m 4ms/step - loss: 19.1459 - val_loss: 26.2626\n",
      "Epoch 22/50\n",
      "\u001b[1m20/20\u001b[0m \u001b[32m━━━━━━━━━━━━━━━━━━━━\u001b[0m\u001b[37m\u001b[0m \u001b[1m0s\u001b[0m 4ms/step - loss: 13.7692 - val_loss: 19.3974\n",
      "Epoch 23/50\n",
      "\u001b[1m20/20\u001b[0m \u001b[32m━━━━━━━━━━━━━━━━━━━━\u001b[0m\u001b[37m\u001b[0m \u001b[1m0s\u001b[0m 4ms/step - loss: 17.5136 - val_loss: 32.7998\n",
      "Epoch 24/50\n",
      "\u001b[1m20/20\u001b[0m \u001b[32m━━━━━━━━━━━━━━━━━━━━\u001b[0m\u001b[37m\u001b[0m \u001b[1m0s\u001b[0m 4ms/step - loss: 15.8902 - val_loss: 24.6657\n",
      "Epoch 25/50\n",
      "\u001b[1m20/20\u001b[0m \u001b[32m━━━━━━━━━━━━━━━━━━━━\u001b[0m\u001b[37m\u001b[0m \u001b[1m0s\u001b[0m 4ms/step - loss: 23.5992 - val_loss: 32.8241\n",
      "Epoch 26/50\n",
      "\u001b[1m20/20\u001b[0m \u001b[32m━━━━━━━━━━━━━━━━━━━━\u001b[0m\u001b[37m\u001b[0m \u001b[1m0s\u001b[0m 4ms/step - loss: 16.0500 - val_loss: 19.3203\n",
      "Epoch 27/50\n",
      "\u001b[1m20/20\u001b[0m \u001b[32m━━━━━━━━━━━━━━━━━━━━\u001b[0m\u001b[37m\u001b[0m \u001b[1m0s\u001b[0m 4ms/step - loss: 16.6664 - val_loss: 56.8268\n",
      "Epoch 28/50\n",
      "\u001b[1m20/20\u001b[0m \u001b[32m━━━━━━━━━━━━━━━━━━━━\u001b[0m\u001b[37m\u001b[0m \u001b[1m0s\u001b[0m 4ms/step - loss: 49.9190 - val_loss: 174.1294\n",
      "Epoch 29/50\n",
      "\u001b[1m20/20\u001b[0m \u001b[32m━━━━━━━━━━━━━━━━━━━━\u001b[0m\u001b[37m\u001b[0m \u001b[1m0s\u001b[0m 7ms/step - loss: 73.4090 - val_loss: 49.6294\n",
      "Epoch 30/50\n",
      "\u001b[1m20/20\u001b[0m \u001b[32m━━━━━━━━━━━━━━━━━━━━\u001b[0m\u001b[37m\u001b[0m \u001b[1m0s\u001b[0m 5ms/step - loss: 40.0310 - val_loss: 43.2387\n",
      "Epoch 31/50\n",
      "\u001b[1m20/20\u001b[0m \u001b[32m━━━━━━━━━━━━━━━━━━━━\u001b[0m\u001b[37m\u001b[0m \u001b[1m0s\u001b[0m 5ms/step - loss: 33.4345 - val_loss: 29.9723\n",
      "Epoch 32/50\n",
      "\u001b[1m20/20\u001b[0m \u001b[32m━━━━━━━━━━━━━━━━━━━━\u001b[0m\u001b[37m\u001b[0m \u001b[1m0s\u001b[0m 4ms/step - loss: 17.7768 - val_loss: 45.2710\n",
      "Epoch 33/50\n",
      "\u001b[1m20/20\u001b[0m \u001b[32m━━━━━━━━━━━━━━━━━━━━\u001b[0m\u001b[37m\u001b[0m \u001b[1m0s\u001b[0m 6ms/step - loss: 15.9273 - val_loss: 26.1144\n",
      "Epoch 34/50\n",
      "\u001b[1m20/20\u001b[0m \u001b[32m━━━━━━━━━━━━━━━━━━━━\u001b[0m\u001b[37m\u001b[0m \u001b[1m0s\u001b[0m 5ms/step - loss: 16.2601 - val_loss: 49.3932\n",
      "Epoch 35/50\n",
      "\u001b[1m20/20\u001b[0m \u001b[32m━━━━━━━━━━━━━━━━━━━━\u001b[0m\u001b[37m\u001b[0m \u001b[1m0s\u001b[0m 5ms/step - loss: 28.0733 - val_loss: 46.4488\n",
      "Epoch 36/50\n",
      "\u001b[1m20/20\u001b[0m \u001b[32m━━━━━━━━━━━━━━━━━━━━\u001b[0m\u001b[37m\u001b[0m \u001b[1m0s\u001b[0m 4ms/step - loss: 24.4529 - val_loss: 29.4547\n",
      "Epoch 37/50\n",
      "\u001b[1m20/20\u001b[0m \u001b[32m━━━━━━━━━━━━━━━━━━━━\u001b[0m\u001b[37m\u001b[0m \u001b[1m0s\u001b[0m 4ms/step - loss: 44.5754 - val_loss: 37.6935\n",
      "Epoch 38/50\n",
      "\u001b[1m20/20\u001b[0m \u001b[32m━━━━━━━━━━━━━━━━━━━━\u001b[0m\u001b[37m\u001b[0m \u001b[1m0s\u001b[0m 4ms/step - loss: 19.3363 - val_loss: 69.5783\n",
      "Epoch 39/50\n",
      "\u001b[1m20/20\u001b[0m \u001b[32m━━━━━━━━━━━━━━━━━━━━\u001b[0m\u001b[37m\u001b[0m \u001b[1m0s\u001b[0m 4ms/step - loss: 52.5571 - val_loss: 422.6847\n",
      "Epoch 40/50\n",
      "\u001b[1m20/20\u001b[0m \u001b[32m━━━━━━━━━━━━━━━━━━━━\u001b[0m\u001b[37m\u001b[0m \u001b[1m0s\u001b[0m 4ms/step - loss: 216.3893 - val_loss: 27.3227\n",
      "Epoch 41/50\n",
      "\u001b[1m20/20\u001b[0m \u001b[32m━━━━━━━━━━━━━━━━━━━━\u001b[0m\u001b[37m\u001b[0m \u001b[1m0s\u001b[0m 4ms/step - loss: 29.4794 - val_loss: 34.3473\n",
      "Epoch 42/50\n",
      "\u001b[1m20/20\u001b[0m \u001b[32m━━━━━━━━━━━━━━━━━━━━\u001b[0m\u001b[37m\u001b[0m \u001b[1m0s\u001b[0m 4ms/step - loss: 29.4325 - val_loss: 16.8671\n",
      "Epoch 43/50\n",
      "\u001b[1m20/20\u001b[0m \u001b[32m━━━━━━━━━━━━━━━━━━━━\u001b[0m\u001b[37m\u001b[0m \u001b[1m0s\u001b[0m 4ms/step - loss: 16.4689 - val_loss: 30.8353\n",
      "Epoch 44/50\n",
      "\u001b[1m20/20\u001b[0m \u001b[32m━━━━━━━━━━━━━━━━━━━━\u001b[0m\u001b[37m\u001b[0m \u001b[1m0s\u001b[0m 4ms/step - loss: 16.2794 - val_loss: 24.5449\n",
      "Epoch 45/50\n",
      "\u001b[1m20/20\u001b[0m \u001b[32m━━━━━━━━━━━━━━━━━━━━\u001b[0m\u001b[37m\u001b[0m \u001b[1m0s\u001b[0m 4ms/step - loss: 20.6624 - val_loss: 134.3998\n",
      "Epoch 46/50\n",
      "\u001b[1m20/20\u001b[0m \u001b[32m━━━━━━━━━━━━━━━━━━━━\u001b[0m\u001b[37m\u001b[0m \u001b[1m0s\u001b[0m 4ms/step - loss: 43.8862 - val_loss: 31.1610\n",
      "Epoch 47/50\n",
      "\u001b[1m20/20\u001b[0m \u001b[32m━━━━━━━━━━━━━━━━━━━━\u001b[0m\u001b[37m\u001b[0m \u001b[1m0s\u001b[0m 4ms/step - loss: 16.0868 - val_loss: 17.0171\n",
      "Epoch 48/50\n",
      "\u001b[1m20/20\u001b[0m \u001b[32m━━━━━━━━━━━━━━━━━━━━\u001b[0m\u001b[37m\u001b[0m \u001b[1m0s\u001b[0m 4ms/step - loss: 18.0706 - val_loss: 46.4377\n",
      "Epoch 49/50\n",
      "\u001b[1m20/20\u001b[0m \u001b[32m━━━━━━━━━━━━━━━━━━━━\u001b[0m\u001b[37m\u001b[0m \u001b[1m0s\u001b[0m 4ms/step - loss: 46.4112 - val_loss: 15.2573\n",
      "Epoch 50/50\n",
      "\u001b[1m20/20\u001b[0m \u001b[32m━━━━━━━━━━━━━━━━━━━━\u001b[0m\u001b[37m\u001b[0m \u001b[1m0s\u001b[0m 4ms/step - loss: 20.0503 - val_loss: 20.8692\n",
      "\u001b[1m7/7\u001b[0m \u001b[32m━━━━━━━━━━━━━━━━━━━━\u001b[0m\u001b[37m\u001b[0m \u001b[1m0s\u001b[0m 13ms/step\n",
      "Root Mean Square Error: 3.7594706884059854\n",
      "R Squared: -4.593315626619272\n"
     ]
    }
   ],
   "source": [
    "import numpy as np\n",
    "from sklearn.model_selection import train_test_split\n",
    "from sklearn.preprocessing import StandardScaler\n",
    "from sklearn.metrics import mean_squared_error\n",
    "from tensorflow.keras.models import Sequential\n",
    "from tensorflow.keras.layers import Dense\n",
    "\n",
    "# Create the neural network model\n",
    "model = Sequential()\n",
    "model.add(Dense(64, input_dim=X_train.shape[1], activation='relu'))\n",
    "model.add(Dense(64, activation='relu'))\n",
    "model.add(Dense(1))  # Output layer for regression\n",
    "\n",
    "model.compile(optimizer='adam', loss='mean_squared_error')\n",
    "\n",
    "model.fit(X_train, Y_train, epochs=50, batch_size=32, validation_split=0.2)\n",
    "\n",
    "Y_pred = model.predict(X_test)\n",
    "rmse = np.sqrt(mean_squared_error(Y_test, Y_pred))\n",
    "print(f'Root Mean Square Error: {rmse}')\n",
    "r2=r2_score(Y_test, Y_pred)\n",
    "print(f'R Squared: {r2}')"
   ]
  },
  {
   "cell_type": "markdown",
   "id": "9235ba5c-8ceb-434e-aa08-34344e3c646b",
   "metadata": {},
   "source": [
    "# Bagging Regressor"
   ]
  },
  {
   "cell_type": "code",
   "execution_count": 28,
   "id": "725c8368-aad7-4332-b5c4-0d8713fe26e8",
   "metadata": {},
   "outputs": [],
   "source": [
    "import numpy as np\n",
    "import pandas as pd\n",
    "from sklearn.model_selection import train_test_split\n",
    "from sklearn.ensemble import BaggingRegressor\n",
    "from sklearn.tree import DecisionTreeRegressor\n",
    "from sklearn.metrics import mean_squared_error"
   ]
  },
  {
   "cell_type": "code",
   "execution_count": 29,
   "id": "0ce4ce89-7487-4c3a-9f05-14eec65549ef",
   "metadata": {},
   "outputs": [
    {
     "name": "stderr",
     "output_type": "stream",
     "text": [
      "C:\\Users\\spsha\\anaconda3\\Lib\\site-packages\\sklearn\\ensemble\\_base.py:166: FutureWarning: `base_estimator` was renamed to `estimator` in version 1.2 and will be removed in 1.4.\n",
      "  warnings.warn(\n"
     ]
    },
    {
     "name": "stdout",
     "output_type": "stream",
     "text": [
      "Mean Squared Error with Bagging: 1.8135041014114137\n",
      "Root Mean Square Error: 1.346664064052878\n",
      "R Squared: 0.282314019196544\n"
     ]
    }
   ],
   "source": [
    "# Create a Bagging Regressor\n",
    "bagging_model = BaggingRegressor(base_estimator=DecisionTreeRegressor(), n_estimators=100, random_state=42)\n",
    "bagging_model.fit(X_train, Y_train)\n",
    "\n",
    "# Make predictions and evaluate the model\n",
    "Y_pred = bagging_model.predict(X_test)\n",
    "mse = mean_squared_error(Y_test, Y_pred)\n",
    "print(f\"Mean Squared Error with Bagging: {mse}\")\n",
    "rmse = np.sqrt(mean_squared_error(Y_test, Y_pred))\n",
    "print(f'Root Mean Square Error: {rmse}')\n",
    "r2=r2_score(Y_test, Y_pred)\n",
    "print(f'R Squared: {r2}')"
   ]
  },
  {
   "cell_type": "code",
   "execution_count": 39,
   "id": "29c88a18-6444-4056-afb2-2e2f921ac9da",
   "metadata": {},
   "outputs": [
    {
     "name": "stderr",
     "output_type": "stream",
     "text": [
      "C:\\Users\\spsha\\anaconda3\\Lib\\site-packages\\sklearn\\ensemble\\_base.py:166: FutureWarning: `base_estimator` was renamed to `estimator` in version 1.2 and will be removed in 1.4.\n",
      "  warnings.warn(\n"
     ]
    },
    {
     "name": "stdout",
     "output_type": "stream",
     "text": [
      "Best parameters: {'max_features': 1.0, 'max_samples': 0.5, 'n_estimators': 100}\n",
      "Mean Squared Error with Bagging: 1.733135772984643\n",
      "Root Mean Square Error: 1.3164861461423143\n",
      "R Squared: 0.31411941879151073\n"
     ]
    }
   ],
   "source": [
    "# Define the parameter grid\n",
    "param_grid = {\n",
    "    'n_estimators': [10, 50, 100],\n",
    "    'max_samples': [0.5, 0.7, 1.0],\n",
    "    'max_features': [0.5, 0.7, 1.0],\n",
    "}\n",
    "\n",
    "# Grid Search CV\n",
    "grid_search = GridSearchCV(estimator=bagging_model, param_grid=param_grid, cv=5, scoring='neg_mean_squared_error', n_jobs=-1)\n",
    "grid_search.fit(X_train, Y_train)\n",
    "\n",
    "# Best parameters and model evaluation\n",
    "print(\"Best parameters:\", grid_search.best_params_)\n",
    "best_model = grid_search.best_estimator_\n",
    "Y_pred = best_model.predict(X_test)\n",
    "mse = mean_squared_error(Y_test, Y_pred)\n",
    "print(f\"Mean Squared Error with Bagging: {mse}\")\n",
    "rmse = np.sqrt(mean_squared_error(Y_test, Y_pred))\n",
    "print(f'Root Mean Square Error: {rmse}')\n",
    "r2=r2_score(Y_test, Y_pred)\n",
    "print(f'R Squared: {r2}')"
   ]
  },
  {
   "cell_type": "markdown",
   "id": "29bb09c0-f13a-475c-b185-950d83ab4b8e",
   "metadata": {},
   "source": [
    "# Boosting Regressor"
   ]
  },
  {
   "cell_type": "code",
   "execution_count": 37,
   "id": "11f72f3a-628c-4649-b982-c13ef3395dec",
   "metadata": {},
   "outputs": [
    {
     "name": "stdout",
     "output_type": "stream",
     "text": [
      "Mean Squared Error with Boosting: 1.8526078002479627\n",
      "Root Mean Square Error: 1.3611053597161253\n",
      "R Squared: 0.2668389086463612\n"
     ]
    }
   ],
   "source": [
    "from sklearn.ensemble import GradientBoostingRegressor\n",
    "\n",
    "# Create a Gradient Boosting Regressor\n",
    "boosting_model = GradientBoostingRegressor(n_estimators=100, learning_rate=0.1, max_depth=3, random_state=42)\n",
    "boosting_model.fit(X_train, Y_train)\n",
    "\n",
    "# Make predictions and evaluate the model\n",
    "Y_pred = boosting_model.predict(X_test)\n",
    "mse = mean_squared_error(Y_test, Y_pred)\n",
    "print(f\"Mean Squared Error with Boosting: {mse}\")\n",
    "rmse = np.sqrt(mean_squared_error(Y_test, Y_pred))\n",
    "print(f'Root Mean Square Error: {rmse}')\n",
    "r2=r2_score(Y_test, Y_pred)\n",
    "print(f'R Squared: {r2}')"
   ]
  },
  {
   "cell_type": "code",
   "execution_count": 42,
   "id": "0ee63c1a-fea2-42b6-a467-7c1f0a000725",
   "metadata": {},
   "outputs": [
    {
     "name": "stderr",
     "output_type": "stream",
     "text": [
      "C:\\Users\\spsha\\anaconda3\\Lib\\site-packages\\sklearn\\ensemble\\_base.py:166: FutureWarning: `base_estimator` was renamed to `estimator` in version 1.2 and will be removed in 1.4.\n",
      "  warnings.warn(\n"
     ]
    },
    {
     "name": "stdout",
     "output_type": "stream",
     "text": [
      "Best parameters: {'base_estimator__learning_rate': 0.1, 'base_estimator__max_depth': 3, 'base_estimator__n_estimators': 100, 'max_features': 1.0, 'max_samples': 0.8, 'n_estimators': 10}\n",
      "Mean Squared Error with Boosting: 1.7620351619341408\n",
      "Root Mean Square Error: 1.3274167250468636\n",
      "R Squared: 0.3026826173601278\n"
     ]
    }
   ],
   "source": [
    "# Define the bagging model with boosting as the base estimator\n",
    "bagging_boosting_model = BaggingRegressor(base_estimator=boosting_model, random_state=42)\n",
    "\n",
    "# Define the parameter grid\n",
    "param_grid = {\n",
    "    'base_estimator__n_estimators': [100, 200],\n",
    "    'base_estimator__learning_rate': [0.01, 0.1],\n",
    "    'base_estimator__max_depth': [3, 4],\n",
    "    'n_estimators': [10, 20],\n",
    "    'max_samples': [0.8, 1.0],\n",
    "    'max_features': [0.8, 1.0]\n",
    "}\n",
    "\n",
    "# Grid Search CV\n",
    "grid_search = GridSearchCV(estimator=bagging_boosting_model, param_grid=param_grid, cv=5, scoring='neg_mean_squared_error', n_jobs=-1)\n",
    "grid_search.fit(X_train, Y_train)\n",
    "\n",
    "# Best parameters and model evaluation\n",
    "print(\"Best parameters:\", grid_search.best_params_)\n",
    "best_model = grid_search.best_estimator_\n",
    "\n",
    "Y_pred = best_model.predict(X_test)\n",
    "mse = mean_squared_error(Y_test, Y_pred)\n",
    "print(f\"Mean Squared Error with Boosting: {mse}\")\n",
    "rmse = np.sqrt(mean_squared_error(Y_test, Y_pred))\n",
    "print(f'Root Mean Square Error: {rmse}')\n",
    "r2=r2_score(Y_test, Y_pred)\n",
    "print(f'R Squared: {r2}')"
   ]
  },
  {
   "cell_type": "markdown",
   "id": "3d303625-859f-47f7-90d4-6eef8ff9e7df",
   "metadata": {},
   "source": [
    "# Stacking Regressor"
   ]
  },
  {
   "cell_type": "code",
   "execution_count": 49,
   "id": "a7eb96dd-fe11-48cc-a6f1-e5d46bd5d310",
   "metadata": {},
   "outputs": [],
   "source": [
    "import numpy as np\n",
    "import pandas as pd\n",
    "from sklearn.model_selection import train_test_split\n",
    "from sklearn.preprocessing import StandardScaler\n",
    "from sklearn.linear_model import LinearRegression\n",
    "from sklearn.ensemble import RandomForestRegressor, GradientBoostingRegressor\n",
    "from sklearn.svm import SVR\n",
    "from sklearn.ensemble import StackingRegressor\n",
    "from sklearn.metrics import mean_squared_error"
   ]
  },
  {
   "cell_type": "code",
   "execution_count": 50,
   "id": "653f7bb8-0937-4fb5-b1e9-578a74f7386d",
   "metadata": {},
   "outputs": [
    {
     "name": "stdout",
     "output_type": "stream",
     "text": [
      "Mean Squared Error: 1.75\n",
      "Root Mean Square Error: 1.3239481881347706\n",
      "R Squared: 0.30632203374611944\n"
     ]
    }
   ],
   "source": [
    "# Step 3: Define Base Models\n",
    "base_models = [\n",
    "    ('rf', RandomForestRegressor(n_estimators=100, random_state=42)),\n",
    "    ('gb', GradientBoostingRegressor(n_estimators=100, random_state=42)),\n",
    "    ('svr', SVR(kernel='rbf', C=1.0, epsilon=0.1))\n",
    "]\n",
    "\n",
    "# Step 4: Define the Meta-Model\n",
    "meta_model = LinearRegression()\n",
    "\n",
    "# Step 5: Create the Stacking Ensemble\n",
    "stacking_model = StackingRegressor(estimators=base_models, final_estimator=meta_model)\n",
    "\n",
    "# Step 6: Train and Evaluate the Model\n",
    "stacking_model.fit(X_train, Y_train)\n",
    "Y_pred = stacking_model.predict(X_test)\n",
    "\n",
    "# Evaluate the performance\n",
    "mse = mean_squared_error(Y_test, Y_pred)\n",
    "print(f\"Mean Squared Error: {mse:.2f}\")\n",
    "rmse = np.sqrt(mean_squared_error(Y_test, Y_pred))\n",
    "print(f'Root Mean Square Error: {rmse}')\n",
    "r2=r2_score(Y_test, Y_pred)\n",
    "print(f'R Squared: {r2}')"
   ]
  },
  {
   "cell_type": "code",
   "execution_count": 51,
   "id": "e745579f-751f-41ea-ba13-9553da766d1b",
   "metadata": {},
   "outputs": [
    {
     "name": "stdout",
     "output_type": "stream",
     "text": [
      "Best Model Mean Squared Error: 1.76\n",
      "Root Mean Square Error: 1.3247906932931497\n",
      "R Squared: 0.30543889764974474\n"
     ]
    }
   ],
   "source": [
    "# Step 3: Define Base Models with Hyperparameters for Grid Search\n",
    "base_models = [\n",
    "    ('rf', RandomForestRegressor(random_state=42)),\n",
    "    ('gb', GradientBoostingRegressor(random_state=42)),\n",
    "    ('svr', SVR())\n",
    "]\n",
    "\n",
    "# Define parameter grids for each base model\n",
    "param_grid = {\n",
    "    'rf__n_estimators': [50, 100],\n",
    "    'rf__max_depth': [None, 10, 20],\n",
    "    'gb__n_estimators': [50, 100],\n",
    "    'gb__learning_rate': [0.01, 0.1],\n",
    "    'svr__C': [0.1, 1.0, 10],\n",
    "    'svr__epsilon': [0.1, 0.2]\n",
    "}\n",
    "\n",
    "# Step 4: Define the Meta-Model with Hyperparameters for Grid Search\n",
    "meta_model = LinearRegression()\n",
    "\n",
    "# Step 5: Create the Stacking Ensemble\n",
    "stacking_model = StackingRegressor(estimators=base_models, final_estimator=meta_model)\n",
    "\n",
    "# Step 6: Perform Grid Search CV\n",
    "grid_search = GridSearchCV(estimator=stacking_model, param_grid=param_grid, cv=5, scoring='neg_mean_squared_error', n_jobs=-1)\n",
    "\n",
    "# Fit the grid search to the data\n",
    "grid_search.fit(X_train, Y_train)\n",
    "\n",
    "# Get the best model\n",
    "best_model = grid_search.best_estimator_\n",
    "\n",
    "# Step 7: Train and Evaluate the Best Model\n",
    "Y_pred = best_model.predict(X_test)\n",
    "\n",
    "# Evaluate the performance\n",
    "mse = mean_squared_error(Y_test, Y_pred)\n",
    "print(f\"Best Model Mean Squared Error: {mse:.2f}\")\n",
    "rmse = np.sqrt(mean_squared_error(Y_test, Y_pred))\n",
    "print(f'Root Mean Square Error: {rmse}')\n",
    "r2=r2_score(Y_test, Y_pred)\n",
    "print(f'R Squared: {r2}')"
   ]
  },
  {
   "cell_type": "markdown",
   "id": "d05b05a3-3743-44c3-a45b-6742b4437d66",
   "metadata": {},
   "source": [
    "# Voting Regressor"
   ]
  },
  {
   "cell_type": "code",
   "execution_count": 53,
   "id": "1fd9b1c8-5249-420e-b286-d4b6cf1eb6c1",
   "metadata": {},
   "outputs": [],
   "source": [
    "import numpy as np\n",
    "import pandas as pd\n",
    "from sklearn.model_selection import train_test_split\n",
    "from sklearn.preprocessing import StandardScaler\n",
    "from sklearn.linear_model import LinearRegression\n",
    "from sklearn.ensemble import RandomForestRegressor, GradientBoostingRegressor\n",
    "from sklearn.svm import SVR\n",
    "from sklearn.ensemble import VotingRegressor\n",
    "from sklearn.metrics import mean_squared_error"
   ]
  },
  {
   "cell_type": "code",
   "execution_count": 54,
   "id": "077e0d0f-fce0-4856-b178-2d518e448a7a",
   "metadata": {},
   "outputs": [
    {
     "name": "stdout",
     "output_type": "stream",
     "text": [
      "Voting Regressor Mean Squared Error: 1.67\n",
      "Root Mean Square Error: 1.2941135774494872\n",
      "R Squared: 0.337233256449602\n"
     ]
    }
   ],
   "source": [
    "# Step 3: Define Base Models\n",
    "base_models = [\n",
    "    ('lr', LinearRegression()),\n",
    "    ('rf', RandomForestRegressor(n_estimators=100, random_state=42)),\n",
    "    ('gb', GradientBoostingRegressor(n_estimators=100, random_state=42)),\n",
    "    ('svr', SVR(kernel='rbf', C=1.0, epsilon=0.1))\n",
    "]\n",
    "\n",
    "# Step 4: Create the Voting Regressor\n",
    "voting_regressor = VotingRegressor(estimators=base_models)\n",
    "\n",
    "# Step 5: Train and Evaluate the Model\n",
    "voting_regressor.fit(X_train, Y_train)\n",
    "Y_pred = voting_regressor.predict(X_test)\n",
    "\n",
    "# Evaluate the performance\n",
    "mse = mean_squared_error(Y_test, Y_pred)\n",
    "print(f\"Voting Regressor Mean Squared Error: {mse:.2f}\")\n",
    "rmse = np.sqrt(mean_squared_error(Y_test, Y_pred))\n",
    "print(f'Root Mean Square Error: {rmse}')\n",
    "r2=r2_score(Y_test, Y_pred)\n",
    "print(f'R Squared: {r2}')"
   ]
  },
  {
   "cell_type": "code",
   "execution_count": 56,
   "id": "08c2539e-8dc7-4338-8902-851d42ba828c",
   "metadata": {},
   "outputs": [
    {
     "name": "stdout",
     "output_type": "stream",
     "text": [
      "Best Model Mean Squared Error: 1.73\n",
      "Root Mean Squared Error:1.3136676811393144\n",
      "R Squared: 0.31705307836813057\n"
     ]
    }
   ],
   "source": [
    "# Step 3: Define Base Models with Hyperparameters for Grid Search\n",
    "base_models = [\n",
    "    ('rf', RandomForestRegressor(random_state=42)),\n",
    "    ('gb', GradientBoostingRegressor(random_state=42)),\n",
    "    ('svr', SVR())\n",
    "]\n",
    "\n",
    "# Define parameter grids for each base model\n",
    "param_grid = {\n",
    "    'rf__n_estimators': [50, 100],\n",
    "    'rf__max_depth': [None, 10, 20],\n",
    "    'gb__n_estimators': [50, 100],\n",
    "    'gb__learning_rate': [0.01, 0.1],\n",
    "    'svr__C': [0.1, 1.0, 10],\n",
    "    'svr__epsilon': [0.1, 0.2]\n",
    "}\n",
    "\n",
    "# Step 4: Create the Voting Regressor\n",
    "voting_regressor = VotingRegressor(estimators=base_models)\n",
    "\n",
    "# Step 5: Perform Grid Search CV\n",
    "grid_search = GridSearchCV(estimator=voting_regressor, param_grid=param_grid, cv=5, scoring='neg_mean_squared_error', n_jobs=-1)\n",
    "\n",
    "# Fit the grid search to the data\n",
    "grid_search.fit(X_train, Y_train)\n",
    "\n",
    "# Get the best model\n",
    "best_model = grid_search.best_estimator_\n",
    "\n",
    "# Step 6: Train and Evaluate the Best Model\n",
    "Y_pred = best_model.predict(X_test)\n",
    "\n",
    "# Evaluate the performance\n",
    "mse = mean_squared_error(Y_test, Y_pred)\n",
    "print(f\"Best Model Mean Squared Error: {mse:.2f}\")\n",
    "rmse=np.sqrt(mse)\n",
    "print(f'Root Mean Squared Error:{rmse}')\n",
    "r2=r2_score(Y_test, Y_pred)\n",
    "print(f'R Squared: {r2}')"
   ]
  },
  {
   "cell_type": "markdown",
   "id": "a46593e1-65a0-47c0-af79-ad60b7f52004",
   "metadata": {},
   "source": [
    "# linear regression"
   ]
  },
  {
   "cell_type": "code",
   "execution_count": 30,
   "id": "de5e8856-807e-403f-b706-0fb86c29d0ee",
   "metadata": {},
   "outputs": [],
   "source": [
    "from sklearn.model_selection import train_test_split\n",
    "from sklearn.linear_model import LinearRegression\n",
    "from sklearn.model_selection import GridSearchCV, train_test_split\n",
    "from sklearn.metrics import mean_squared_error"
   ]
  },
  {
   "cell_type": "code",
   "execution_count": 31,
   "id": "a26b8f3d-2492-4aff-a309-da133588aa3b",
   "metadata": {},
   "outputs": [
    {
     "name": "stdout",
     "output_type": "stream",
     "text": [
      "Mean Squared Error: 1.6079643952506413\n",
      "root Mean Squared Error: 1.2680553596947735\n",
      " R^2:0.28557451744205153\n"
     ]
    }
   ],
   "source": [
    "model = LinearRegression()\n",
    "model.fit(X_train, Y_train)\n",
    "coefficients = model.coef_\n",
    "model = LinearRegression()\n",
    "model.fit(X_train, Y_train)\n",
    "\n",
    "coefficients = pd.DataFrame({'Feature': X_train.columns,'Coefficient': model.coef_})\n",
    "coefficients\n",
    "\n",
    "X_train, X_test, Y_train, Y_test = train_test_split(X_train, Y_train, test_size=0.2, random_state=0)\n",
    "model = LinearRegression()\n",
    "model.fit(X_train, Y_train)\n",
    "Y_pred = model.predict(X_test)\n",
    "mse = mean_squared_error(Y_test, Y_pred)\n",
    "print(f\"Mean Squared Error: {mse}\")\n",
    "rmse=np.sqrt(mse)\n",
    "print(f'root Mean Squared Error: {rmse}')\n",
    "rmse\n",
    "r2=r2_score(Y_test,Y_pred)\n",
    "print(f' R^2:{r2}')"
   ]
  },
  {
   "cell_type": "code",
   "execution_count": 85,
   "id": "ca14792b-ff7d-4428-b05d-eeb700f438a4",
   "metadata": {},
   "outputs": [
    {
     "name": "stdout",
     "output_type": "stream",
     "text": [
      "Fitting 5 folds for each of 4 candidates, totalling 20 fits\n",
      "Best Model Mean Squared Error: 1.9737116568796753\n",
      "Best Parameters: {'copy_X': True, 'fit_intercept': False}\n",
      "Mean Squared Error: 1.9737116568796753\n",
      "Root Mean Squared Error:1.4048884855673334\n"
     ]
    }
   ],
   "source": [
    "X_train, X_test, Y_train, Y_test = train_test_split(X_train, Y_train, test_size=0.2, random_state=0)\n",
    "model = LinearRegression()\n",
    "model.fit(X_train, Y_train)\n",
    "\n",
    "param_grid = {\n",
    "    'fit_intercept': [True, False],\n",
    "    'copy_X': [True, False]\n",
    "}\n",
    "grid_search = GridSearchCV(estimator=model, param_grid=param_grid, cv=5, scoring='neg_mean_squared_error', verbose=1)\n",
    "grid_search.fit(X_train, Y_train)\n",
    "best_model = grid_search.best_estimator_\n",
    "Y_pred = best_model.predict(X_test)\n",
    "mse = mean_squared_error(Y_test, Y_pred)\n",
    "print(f\"Best Model Mean Squared Error: {mse}\")\n",
    "best_params = grid_search.best_params_\n",
    "print(f\"Best Parameters: {best_params}\")\n",
    "mse = mean_squared_error(Y_test, Y_pred)\n",
    "print(f\"Mean Squared Error: {mse}\")\n",
    "rmse=np.sqrt(mse)\n",
    "print(f'Root Mean Squared Error:{rmse}')"
   ]
  },
  {
   "cell_type": "markdown",
   "id": "af2eba09-9d08-4297-91ab-7014528f3ca9",
   "metadata": {},
   "source": [
    "# Support Vector Regression (SVR)"
   ]
  },
  {
   "cell_type": "code",
   "execution_count": 63,
   "id": "8c2cadab-f69f-4c0b-87f2-23582039f9f0",
   "metadata": {},
   "outputs": [],
   "source": [
    "import pandas as pd\n",
    "import numpy as np\n",
    "from sklearn.model_selection import train_test_split\n",
    "from sklearn.svm import SVR\n",
    "from sklearn.preprocessing import StandardScaler\n",
    "from sklearn.metrics import mean_squared_error\n",
    "from sklearn.metrics import r2_score"
   ]
  },
  {
   "cell_type": "code",
   "execution_count": 65,
   "id": "5309eec3-2204-4433-bfdf-825093a162eb",
   "metadata": {},
   "outputs": [
    {
     "name": "stdout",
     "output_type": "stream",
     "text": [
      "Mean Squared Error: 1.9219292286550265\n",
      "root Mean Squared Error: 1.386336621695837\n"
     ]
    },
    {
     "data": {
      "text/plain": [
       "1.386336621695837"
      ]
     },
     "execution_count": 65,
     "metadata": {},
     "output_type": "execute_result"
    }
   ],
   "source": [
    "X_train, X_test, Y_train, Y_test = train_test_split(X_train, Y_train, test_size=0.2, random_state=0)\n",
    "\n",
    "\n",
    "scaler = StandardScaler()\n",
    "X_train_scaled = scaler.fit_transform(X_train)\n",
    "X_test_scaled = scaler.transform(X_test)\n",
    "\n",
    "\n",
    "svr_model = SVR(kernel='rbf')  \n",
    "svr_model.fit(X_train_scaled, Y_train)\n",
    "\n",
    "\n",
    "Y_pred = svr_model.predict(X_test_scaled)\n",
    "Y_pred\n",
    "\n",
    "mse = mean_squared_error(Y_test, Y_pred)\n",
    "print(f'Mean Squared Error: {mse}')\n",
    "rmse=np.sqrt(mse)\n",
    "print(f'root Mean Squared Error: {rmse}')\n",
    "rmse"
   ]
  },
  {
   "cell_type": "code",
   "execution_count": 66,
   "id": "4bcac7d0-6267-4c17-b057-0eae1c3e4255",
   "metadata": {},
   "outputs": [
    {
     "name": "stdout",
     "output_type": "stream",
     "text": [
      "Fitting 5 folds for each of 18 candidates, totalling 90 fits\n",
      "Best parameters found:  {'C': 1, 'epsilon': 0.2, 'gamma': 'auto', 'kernel': 'rbf'}\n",
      "Lowest RMSE found:  1.219227469341784\n",
      "Mean Squared Error: 1.3262195408521018\n",
      "root Mean Squared Error: 1.151616056180228\n"
     ]
    },
    {
     "data": {
      "text/plain": [
       "1.151616056180228"
      ]
     },
     "execution_count": 66,
     "metadata": {},
     "output_type": "execute_result"
    }
   ],
   "source": [
    "X_train, X_test, Y_train, Y_test = train_test_split(X_train, Y_train, test_size=0.2, random_state=0)\n",
    "scaler = StandardScaler()\n",
    "X_train_scaled = scaler.fit_transform(X_train)\n",
    "X_test_scaled = scaler.transform(X_test)\n",
    "svr = SVR()\n",
    "\n",
    "param_grid = {'kernel': ['rbf'],'C': [0.1, 1, 1],'gamma': ['scale', 'auto'], 'epsilon': [0.1, 0.2, 0.5]} \n",
    "# kernel type: linear or radial basis function (gaussian)            \n",
    "# regularization parameter# kernel coefficient (for 'rbf' kernel) \n",
    "# epsilon parameter in SVR\n",
    "\n",
    "grid_search = GridSearchCV(estimator=svr, param_grid=param_grid, scoring='neg_mean_squared_error', cv=5, verbose=1, n_jobs=-1)\n",
    "\n",
    "grid_search.fit(X_train_scaled, Y_train)\n",
    "print(\"Best parameters found: \", grid_search.best_params_)\n",
    "print(\"Lowest RMSE found: \", np.sqrt(np.abs(grid_search.best_score_)))\n",
    "best_model = grid_search.best_estimator_\n",
    "Y_pred = best_model.predict(X_test_scaled)\n",
    "\n",
    "mse = mean_squared_error(Y_test, Y_pred)\n",
    "print(f'Mean Squared Error: {mse}')\n",
    "rmse=np.sqrt(mse)\n",
    "print(f'root Mean Squared Error: {rmse}')\n",
    "rmse"
   ]
  },
  {
   "cell_type": "markdown",
   "id": "ba2eabd7-6fe2-4562-a5f6-62bdf19e8d02",
   "metadata": {},
   "source": [
    "# Decision Tree Regression"
   ]
  },
  {
   "cell_type": "code",
   "execution_count": 68,
   "id": "a5ad1cfb-7ca9-43f0-8f31-5c648bf94a43",
   "metadata": {},
   "outputs": [],
   "source": [
    "from sklearn.tree import DecisionTreeRegressor\n",
    "from sklearn.metrics import mean_squared_error, r2_score, make_scorer\n",
    "from sklearn.model_selection import GridSearchCV"
   ]
  },
  {
   "cell_type": "code",
   "execution_count": 86,
   "id": "f5e70710-e7c1-40c7-8b4d-023c6d203ba7",
   "metadata": {},
   "outputs": [
    {
     "name": "stdout",
     "output_type": "stream",
     "text": [
      "Decision Tree Regression:\n",
      "Mean Squared Error: 1.6715536093339198\n",
      "Root Mean Squared Error: 1.292885768091644\n",
      "R^2 Score: -0.9485966996416622\n"
     ]
    }
   ],
   "source": [
    "model_dt = DecisionTreeRegressor(random_state=5)\n",
    "\n",
    "# Train the model\n",
    "model_dt.fit(X_train, Y_train)\n",
    "\n",
    "# Make predictions\n",
    "Y_pred = model_dt.predict(X_test)\n",
    "\n",
    "# Evaluate the model\n",
    "mse = mean_squared_error(Y_test, Y_pred)\n",
    "rmse = np.sqrt(mse)\n",
    "r2 = r2_score(Y_test, Y_pred)\n",
    "\n",
    "print(\"Decision Tree Regression:\")\n",
    "print(f'Mean Squared Error: {mse}')\n",
    "print(f'Root Mean Squared Error: {rmse}')\n",
    "print(f'R^2 Score: {r2}')"
   ]
  },
  {
   "cell_type": "code",
   "execution_count": 87,
   "id": "9cff938b-6803-4d6c-a2b4-65bc40113971",
   "metadata": {},
   "outputs": [
    {
     "name": "stdout",
     "output_type": "stream",
     "text": [
      "Best parameters found:  {'max_depth': None, 'min_samples_leaf': 1, 'min_samples_split': 10}\n",
      "Best negative mean squared error:  -1.6325994003010376\n",
      "\n",
      "Best Model Evaluation:\n",
      "Best Model Mean Squared Error: 1.3175554226045674\n",
      "Best Model Root Mean Squared Error: 1.1478481705367516\n",
      "Best Model R^2 Score: -0.5359268968377784\n"
     ]
    }
   ],
   "source": [
    "# Define the Decision Tree Regressor model\n",
    "model_dt = DecisionTreeRegressor(random_state=5)\n",
    "\n",
    "# Define the parameter grid\n",
    "param_grid = {\n",
    "    'max_depth': [None, 10, 20, 30, 40, 50],\n",
    "    'min_samples_split': [2, 5, 10],\n",
    "    'min_samples_leaf': [1, 2, 4]\n",
    "}\n",
    "\n",
    "# Grid Search CV\n",
    "grid_search = GridSearchCV(estimator=model_dt, param_grid=param_grid, cv=5, scoring='neg_mean_squared_error')\n",
    "grid_search.fit(X_train, Y_train)\n",
    "\n",
    "#best parameters \n",
    "print(\"Best parameters found: \", grid_search.best_params_)\n",
    "print(\"Best negative mean squared error: \", grid_search.best_score_)\n",
    "\n",
    "# Evaluate the best model on test data\n",
    "best_model = grid_search.best_estimator_\n",
    "Y_pred = best_model.predict(X_test)\n",
    "mse = mean_squared_error(Y_test, Y_pred)\n",
    "rmse = np.sqrt(mse)\n",
    "r2 = r2_score(Y_test, Y_pred)\n",
    "\n",
    "print(\"\\nBest Model Evaluation:\")\n",
    "print(f'Best Model Mean Squared Error: {mse}')\n",
    "print(f'Best Model Root Mean Squared Error: {rmse}')\n",
    "print(f'Best Model R^2 Score: {r2}')"
   ]
  },
  {
   "cell_type": "markdown",
   "id": "4b929b85-4354-4560-b3c2-9b1c807b739e",
   "metadata": {},
   "source": [
    "# Random Forest Algorithm "
   ]
  },
  {
   "cell_type": "markdown",
   "id": "cde58563-0b1d-465b-bf23-3d9e54861f13",
   "metadata": {},
   "source": [
    "* Random Forest or random decision forest is an ensemble learning method for classification, regression.\n",
    "* Random decision forests correct for decision tree's habit overfitting to their trainning set.\n",
    "* Step1 : Create Bootstrap Dataset from Original data by randomly choosing data(repetation is allowed)\n",
    "* Step2 : Create Randomized Decision Tress from Bootstap dataset.\n",
    "* Step3 : Finally output of the random foresr is the class selected by most trees."
   ]
  },
  {
   "cell_type": "code",
   "execution_count": 88,
   "id": "d6f163db-a749-4689-9c52-ee9ce40062d2",
   "metadata": {},
   "outputs": [
    {
     "name": "stdout",
     "output_type": "stream",
     "text": [
      "Random Forest Regression:\n",
      "Mean Squared Error: 1.0168950431794117\n",
      "Root Mean Squared Error: 1.0084121395438532\n",
      "R^2 Score: -0.18543510298240573\n"
     ]
    }
   ],
   "source": [
    "from sklearn.ensemble import RandomForestRegressor\n",
    "\n",
    "# Random Forest Regression model\n",
    "model_rf = RandomForestRegressor(n_estimators=100, random_state=5)\n",
    "\n",
    "# Train the model\n",
    "model_rf.fit(X_train, Y_train)\n",
    "\n",
    "# Make predictions\n",
    "Y_pred = model_rf.predict(X_test)\n",
    "\n",
    "# Evaluate the model\n",
    "mse = mean_squared_error(Y_test, Y_pred)\n",
    "rmse = np.sqrt(mse)\n",
    "r2 = r2_score(Y_test, Y_pred)\n",
    "\n",
    "print(\"Random Forest Regression:\")\n",
    "print(f'Mean Squared Error: {mse}')\n",
    "print(f'Root Mean Squared Error: {rmse}')\n",
    "print(f'R^2 Score: {r2}')"
   ]
  },
  {
   "cell_type": "code",
   "execution_count": 89,
   "id": "05c578fe-3295-4a0b-add1-b657dfa572f5",
   "metadata": {},
   "outputs": [
    {
     "name": "stdout",
     "output_type": "stream",
     "text": [
      "Fitting 5 folds for each of 486 candidates, totalling 2430 fits\n"
     ]
    },
    {
     "name": "stderr",
     "output_type": "stream",
     "text": [
      "C:\\Users\\spsha\\anaconda3\\Lib\\site-packages\\sklearn\\ensemble\\_forest.py:413: FutureWarning: `max_features='auto'` has been deprecated in 1.1 and will be removed in 1.3. To keep the past behaviour, explicitly set `max_features=1.0` or remove this parameter as it is also the default value for RandomForestRegressors and ExtraTreesRegressors.\n",
      "  warn(\n"
     ]
    },
    {
     "name": "stdout",
     "output_type": "stream",
     "text": [
      "Best parameters found by GridSearchCV:\n",
      "{'max_depth': None, 'max_features': 'auto', 'min_samples_leaf': 2, 'min_samples_split': 2, 'n_estimators': 100}\n",
      "Best score (MSE) found by GridSearchCV:\n",
      "1.4927718910565015\n",
      "\n",
      "Evaluation metrics of the best model:\n",
      "Mean Squared Error: 1.041754185580286\n",
      "Root Mean Squared Error: 1.0206636005953607\n",
      "R^2 Score: -0.2144143965975045\n"
     ]
    }
   ],
   "source": [
    "from sklearn.model_selection import GridSearchCV\n",
    "\n",
    "# Define the RandomForestRegressor\n",
    "model_rf = RandomForestRegressor(random_state=5)\n",
    "\n",
    "# Define the parameter grid\n",
    "param_grid = {\n",
    "    'n_estimators': [100, 200, 300],\n",
    "    'max_features': ['auto', 'sqrt', 'log2'],\n",
    "    'max_depth': [None, 10, 20, 30, 40, 50],\n",
    "    'min_samples_split': [2, 5, 10],\n",
    "    'min_samples_leaf': [1, 2, 4]\n",
    "}\n",
    "\n",
    "\n",
    "# Define the scoring methods \n",
    "scoring = {\n",
    "    'MSE': make_scorer(mean_squared_error),\n",
    "    'R^2': make_scorer(r2_score)\n",
    "}\n",
    "\n",
    "# Model\n",
    "grid_search = GridSearchCV(estimator=model_rf, param_grid=param_grid, \n",
    "                           scoring=scoring, refit='MSE', cv=5, verbose=1, n_jobs=-1)\n",
    "\n",
    "# To fit GridSearchCV\n",
    "grid_search.fit(X_train, Y_train)\n",
    "\n",
    "# Best parameters and best score found by GridSearchCV\n",
    "print(\"Best parameters found by GridSearchCV:\")\n",
    "print(grid_search.best_params_)\n",
    "print(\"Best score (MSE) found by GridSearchCV:\")\n",
    "print(grid_search.best_score_)\n",
    "\n",
    "# Make predictions with the best estimator\n",
    "best_model = grid_search.best_estimator_\n",
    "Y_pred = best_model.predict(X_test)\n",
    "\n",
    "# Evaluate the best model\n",
    "mse = mean_squared_error(Y_test, Y_pred)\n",
    "rmse = np.sqrt(mse)\n",
    "r2 = r2_score(Y_test, Y_pred)\n",
    "\n",
    "# Print evaluation metrics of the best model\n",
    "print(\"\\nEvaluation metrics of the best model:\")\n",
    "print(f'Mean Squared Error: {mse}')\n",
    "print(f'Root Mean Squared Error: {rmse}')\n",
    "print(f'R^2 Score: {r2}')"
   ]
  },
  {
   "cell_type": "code",
   "execution_count": 1,
   "id": "0d6011af-0f92-48b0-9e73-d9a141304fd1",
   "metadata": {},
   "outputs": [
    {
     "data": {
      "image/png": "[encoded data removed]",
      "text/plain": [
       "<Figure size 1400x800 with 1 Axes>"
      ]
     },
     "metadata": {},
     "output_type": "display_data"
    }
   ],
   "source": [
    "import pandas as pd\n",
    "import numpy as np\n",
    "import matplotlib.pyplot as plt\n",
    "\n",
    "# Updated Data\n",
    "Data = {\n",
    "    'Model': ['Linear Regression', 'KNN', 'Decision Tree', 'Random Forest', 'Bagging', \n",
    "              'Neural network', 'Gradient Boosting', 'Stacking', 'Voting', 'SVR'],\n",
    "    'RMSE': ['1.2680553596947735', '1.4255361432828966', '1.292885768091644', \n",
    "             '1.0084121395438532', '1.346664064052878', '1.6023867187681156', \n",
    "             '1.3611053597161253', '1.3239481881347706', '1.2941135774494872', '1.386336621695837'],\n",
    "    'Grid Search CV': ['1.4048884855673334', '1.3977037228864586', '1.1478481705367516', \n",
    "                       '1.0206636005953607', '1.3164861461423143', '3.7594706884059854', \n",
    "                       '1.3274167250468636', '1.3247906932931497', '1.3136676811393144', '1.151616056180228']\n",
    "}\n",
    "\n",
    "# Convert the data into a pandas DataFrame\n",
    "df = pd.DataFrame(Data)\n",
    "\n",
    "# Convert RMSE and Grid Search CV columns to numeric (float)\n",
    "df['RMSE'] = pd.to_numeric(df['RMSE'])\n",
    "df['Grid Search CV'] = pd.to_numeric(df['Grid Search CV'])\n",
    "\n",
    "# Plotting\n",
    "fig, ax = plt.subplots(figsize=(14, 8))\n",
    "bar_width = 0.35\n",
    "index = np.arange(len(df))  # Create index for x-axis positions\n",
    "\n",
    "# Bars\n",
    "bars1 = ax.bar(index, df['RMSE'], bar_width, label='RMSE', color='b', alpha=0.7)\n",
    "bars2 = ax.bar(index + bar_width, df['Grid Search CV'], bar_width, label='Grid Search CV', color='g', alpha=0.7)\n",
    "\n",
    "# Labels and Title\n",
    "ax.set_xlabel('Model', fontsize=14)\n",
    "ax.set_ylabel('Root Mean Square Error', fontsize=14)\n",
    "ax.set_title('Comparison of Original RMSE and Grid Search CV RMSE for Different Models', fontsize=16)\n",
    "ax.set_xticks(index + bar_width / 2)\n",
    "ax.set_xticklabels(df['Model'], rotation=45, ha='right')\n",
    "\n",
    "# Legend\n",
    "ax.legend()\n",
    "\n",
    "# Display plot\n",
    "plt.tight_layout()\n",
    "plt.show()\n"
   ]
  },
  {
   "cell_type": "code",
   "execution_count": 47,
   "id": "a4b68637-8a7d-43f1-b175-56bae9dd92ff",
   "metadata": {},
   "outputs": [
    {
     "name": "stdout",
     "output_type": "stream",
     "text": [
      "              Feature  Importance\n",
      "2               Votes   53.460200\n",
      "5           Adventure   12.276442\n",
      "3           Metascore    8.950422\n",
      "0   Runtime (Minutes)    8.188584\n",
      "1              Rating    5.776419\n",
      "6           Animation    3.870569\n",
      "10              Drama    2.194563\n",
      "4              Action    1.344194\n",
      "11             Family    1.148105\n",
      "19             Sci-Fi    0.472358\n",
      "8              Comedy    0.433775\n",
      "17            Mystery    0.387503\n",
      "7           Biography    0.332346\n",
      "21           Thriller    0.279181\n",
      "9               Crime    0.209935\n",
      "12            Fantasy    0.152228\n",
      "20              Sport    0.140222\n",
      "18            Romance    0.118886\n",
      "23            Western    0.091561\n",
      "16            Musical    0.084677\n",
      "14             Horror    0.047758\n",
      "22                War    0.034055\n",
      "13            History    0.005919\n",
      "15              Music    0.000096\n"
     ]
    },
    {
     "name": "stderr",
     "output_type": "stream",
     "text": [
      "C:\\Users\\spsha\\AppData\\Local\\Temp\\ipykernel_5464\\2746166875.py:34: SettingWithCopyWarning: \n",
      "A value is trying to be set on a copy of a slice from a DataFrame.\n",
      "Try using .loc[row_indexer,col_indexer] = value instead\n",
      "\n",
      "See the caveats in the documentation: https://pandas.pydata.org/pandas-docs/stable/user_guide/indexing.html#returning-a-view-versus-a-copy\n",
      "  X[genre_cols] = X[genre_cols].astype(int)\n"
     ]
    }
   ],
   "source": [
    "import pandas as pd\n",
    "import numpy as np\n",
    "from sklearn.model_selection import train_test_split\n",
    "from sklearn.tree import DecisionTreeRegressor\n",
    "import matplotlib.pyplot as plt\n",
    "\n",
    "# Assuming the DataFrame 'df' is already defined and contains the data.\n",
    "\n",
    "# Drop rows with missing target values\n",
    "df = df.dropna(subset=['Revenue (Millions)'])\n",
    "\n",
    "# Define the feature columns and target column\n",
    "feature_cols = [\n",
    "    'Runtime (Minutes)', 'Rating', 'Votes', 'Metascore', \n",
    "    'Action', 'Adventure', 'Animation', 'Biography', 'Comedy', 'Crime', \n",
    "    'Drama', 'Family', 'Fantasy', 'History', 'Horror', 'Music', \n",
    "    'Musical', 'Mystery', 'Romance', 'Sci-Fi', 'Sport', 'Thriller', \n",
    "    'War', 'Western'\n",
    "]\n",
    "target_col = 'Revenue (Millions)'\n",
    "\n",
    "# Separate features and target\n",
    "X = df[feature_cols]\n",
    "Y = df[target_col]\n",
    "\n",
    "# Ensure all genre columns are of integer type (0 or 1)\n",
    "genre_cols = [\n",
    "    'Action', 'Adventure', 'Animation', 'Biography', 'Comedy', 'Crime', \n",
    "    'Drama', 'Family', 'Fantasy', 'History', 'Horror', 'Music', \n",
    "    'Musical', 'Mystery', 'Romance', 'Sci-Fi', 'Sport', 'Thriller', \n",
    "    'War', 'Western'\n",
    "]\n",
    "\n",
    "X[genre_cols] = X[genre_cols].astype(int)\n",
    "\n",
    "# Split the data into training and testing sets\n",
    "X_train, X_test, Y_train, Y_test = train_test_split(X, Y, test_size=0.2, random_state=42)\n",
    "\n",
    "# Initialize and train the decision tree model\n",
    "model = DecisionTreeRegressor(random_state=42)\n",
    "model.fit(X_train, Y_train)\n",
    "\n",
    "# Extract feature importances\n",
    "feature_importances = model.feature_importances_\n",
    "\n",
    "# Create a DataFrame for better visualization\n",
    "importance_df = pd.DataFrame({\n",
    "    'Feature': feature_cols,\n",
    "    'Importance': feature_importances*100\n",
    "})\n",
    "\n",
    "# Sort the DataFrame by importance\n",
    "importance_df = importance_df.sort_values(by='Importance', ascending=False)\n",
    "\n",
    "# Display the feature importances\n",
    "print(importance_df)"
   ]
  },
  {
   "cell_type": "code",
   "execution_count": 48,
   "id": "8556fadc-5e62-40d9-a774-f8e90c73d02a",
   "metadata": {},
   "outputs": [
    {
     "data": {
      "text/plain": [
       "1.0"
      ]
     },
     "execution_count": 48,
     "metadata": {},
     "output_type": "execute_result"
    }
   ],
   "source": [
    "sum(feature_importances)"
   ]
  },
  {
   "cell_type": "code",
   "execution_count": 49,
   "id": "6f203443-eb81-419a-9831-afac7dd53bb2",
   "metadata": {},
   "outputs": [
    {
     "name": "stdout",
     "output_type": "stream",
     "text": [
      "Train Score with selected features: 1.0\n",
      "Test Score with selected features: 0.23393961008493658\n"
     ]
    }
   ],
   "source": [
    "# Determine a threshold for feature importance (e.g., mean importance)\n",
    "threshold = importance_df['Importance'].mean()\n",
    "\n",
    "# Select features above the threshold\n",
    "selected_features = importance_df[importance_df['Importance'] >= threshold]['Feature'].tolist()\n",
    "\n",
    "# Create a new DataFrame with selected features\n",
    "X_selected = X[selected_features]\n",
    "\n",
    "# Split the data into training and testing sets with selected features\n",
    "X_train_selected, X_test_selected, Y_train_selected, Y_test_selected = train_test_split(X_selected, Y, test_size=0.2, random_state=42)\n",
    "\n",
    "# Retrain the model with the selected features\n",
    "model_selected = DecisionTreeRegressor(random_state=42)\n",
    "model_selected.fit(X_train_selected, Y_train_selected)\n",
    "\n",
    "# Evaluate the model\n",
    "train_score = model_selected.score(X_train_selected, Y_train_selected)\n",
    "test_score = model_selected.score(X_test_selected, Y_test_selected)\n",
    "\n",
    "print(\"Train Score with selected features:\", train_score)\n",
    "print(\"Test Score with selected features:\", test_score)"
   ]
  }
 ],
 "metadata": {
  "kernelspec": {
   "display_name": "Python 3 (ipykernel)",
   "language": "python",
   "name": "python3"
  },
  "language_info": {
   "codemirror_mode": {
    "name": "ipython",
    "version": 3
   },
   "file_extension": ".py",
   "mimetype": "text/x-python",
   "name": "python",
   "nbconvert_exporter": "python",
   "pygments_lexer": "ipython3",
   "version": "3.12.4"
  }
 },
 "nbformat": 4,
 "nbformat_minor": 5
}
